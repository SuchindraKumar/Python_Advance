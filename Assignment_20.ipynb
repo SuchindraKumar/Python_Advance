{
 "cells": [
  {
   "cell_type": "markdown",
   "id": "2fcf4bd8",
   "metadata": {},
   "source": [
    "### 1. Compare and contrast the float and Decimal classes' benefits and drawbacks"
   ]
  },
  {
   "cell_type": "markdown",
   "id": "cf7f0b20",
   "metadata": {},
   "source": [
    "#### Ans. Python uses both the float and decimal classes to express decimal integers. In terms of their advantages and disadvantages, they do, however, differ significantly.\n",
    "\n",
    "#### Advantages and disadvantages of the float class\n",
    "\n",
    "\n",
    "#### Benefits:\n",
    "\n",
    "#### Faster than Decimal operations are float operations.\n",
    "\n",
    "#### Built-in: Because float is a built-in Python class, it is immediately accessible without the need for any other libraries.\n",
    "\n",
    "#### Drawbacks:\n",
    "\n",
    "#### Precision: Due to its low accuracy, float values are susceptible to rounding mistakes. For instance, float values could not be accurate enough when used in computations with multiple decimal places, like financial calculations.\n",
    "\n",
    "#### Little representational mistakes may occur in computations utilising float numbers due to the manner that float numbers are represented in binary.\n",
    "\n",
    "#### Decimal class advantages and disadvantages\n",
    "\n",
    "#### Benefits:\n",
    "\n",
    "#### Decimal numbers can be represented to any desired number of decimal places since they have arbitrary accuracy. They are thus useful for high accuracy applications like financial computations.\n",
    "\n",
    "#### Accuracy: Without rounding mistakes, decimal numbers may properly represent decimal amounts.\n",
    "\n",
    "##### Drawbacks:\n",
    "\n",
    "#### Speed: Since decimal operations take longer than float operations to complete, they might slow down some applications' performance.\n",
    "\n",
    "#### External libraries: Because Decimal is not a standard Python class, it must first be imported from an external library (the decimal module) in order to be used."
   ]
  },
  {
   "cell_type": "markdown",
   "id": "9e508c5d",
   "metadata": {},
   "source": [
    "### 2. Decimal('1.200') and Decimal('1.2') are two objects to consider. In what sense are these the same object? Are these just two ways of representing the exact same value, or do they correspond to different internal states?"
   ]
  },
  {
   "cell_type": "markdown",
   "id": "51f14771",
   "metadata": {},
   "source": [
    "#### Ans. Decimal('1.200') and Decimal('1.2') are two distinct objects in the decimal module of Python. Although corresponding to several internal states, they represent the same numerical value.\n",
    "\n",
    "#### The Decimal class uses a tuple of three integers—a sign, a coefficient, and an exponent—to represent decimal values. The exponent is an integer that represents the location of the decimal point in relation to the coefficient, and the coefficient is a series of digits that represents the significant digits of the number.\n",
    "\n",
    "#### Decimal('1.200') and Decimal('1.2') have distinct coefficient and exponent values. In contrast to Decimal('1.2'), which has a coefficient of (12) and an exponent of -1, Decimal('1.200') has a coefficient of (1200) and an exponent of -3.\n",
    "\n",
    "#### The same numerical value of 1.2 is represented by both Decimal(\"1.200\") and Decimal(\"1.2\"), however. Both will output the same string representation of 1.2 when printed.\n",
    "\n",
    "#### In conclusion, the objects Decimal('1.200') and Decimal('1.2') are distinct yet both reflect the same numerical value. They are equal in terms of their numerical value, but they correspond to various internal states because their coefficient and exponent values differ."
   ]
  },
  {
   "cell_type": "markdown",
   "id": "cfc01a71",
   "metadata": {},
   "source": [
    "### 3. What happens if the equality of Decimal('1.200') and Decimal('1.2') is checked?"
   ]
  },
  {
   "cell_type": "markdown",
   "id": "634d1996",
   "metadata": {},
   "source": [
    "#### Ans. The result will be True if the equality of Decimal('1.200') and Decimal('1.2') is verified using the == operator.\n",
    "\n",
    "#### This is so that the __eq__ method, which compares two Decimal objects' numerical values rather than their internal states, may be implemented by the Decimal class. In other words, rather than determining if two Decimal objects are similar, the __eq__ method determines whether the coefficients and exponents of the objects represent the same numerical value.\n",
    "\n",
    "#### When their numerical values are compared and determined to be identical when Decimal('1.200') and Decimal('1.2'equivalence )'s is tested, a True value is produced."
   ]
  },
  {
   "cell_type": "markdown",
   "id": "bd965619",
   "metadata": {},
   "source": [
    "### 4. Why is it preferable to start a Decimal object with a string rather than a floating-point value?"
   ]
  },
  {
   "cell_type": "markdown",
   "id": "ccc05ace",
   "metadata": {},
   "source": [
    "#### Ans. To guarantee that the decimal number is represented appropriately and without rounding mistakes, it is better to start a Decimal object with a string rather than a floating-point value.\n",
    "\n",
    "#### In the computer's memory, floating-point numbers are stored in binary format, and rounding mistakes may occur during the translation from decimal to binary. As a result, floating-point numbers often do not accurately represent decimal values, particularly when those values contain recurring decimals like 0.1 or 0.3. For instance, rounding error causes the floating-point value of 0.1 in Python to be shown as 0.1000000000000000055511151231257827021181583404541015625.\n",
    "\n",
    "#### Yet, because they are based on a decimal representation, decimal objects may reliably represent decimal values to any required number of decimal places while avoiding rounding mistakes. The string representation of the decimal number is turned straight into a Decimal object when beginning a Decimal object with a string, without any intermediary floating-point representation or rounding mistakes.\n",
    "\n",
    "#### In order to assure correct representation of the decimal value and prevent rounding mistakes that might happen when using floating-point numbers, it is better to start a Decimal object with a string."
   ]
  },
  {
   "cell_type": "markdown",
   "id": "4802cafd",
   "metadata": {},
   "source": [
    "### 5. In an arithmetic phrase, how simple is it to combine Decimal objects with integers?"
   ]
  },
  {
   "cell_type": "markdown",
   "id": "ddadcca0",
   "metadata": {},
   "source": [
    "#### Ans. It is very easy and clear to combine Decimal objects with integers in an arithmetic statement.\n",
    "\n",
    "#### The addition, subtraction, multiplication, and division operations with other Decimal objects as well as with integers, floats, and other numeric types are all supported by the Decimal class. An integer is automatically transformed into a Decimal object with the same precision and scale as the other operand when a Decimal object and another operand are joined in arithmetic.\n",
    "\n",
    "#### For instance, the arithmetic expression that follows combines an integer and a Decimal object:"
   ]
  },
  {
   "cell_type": "code",
   "execution_count": 5,
   "id": "fa7d4785",
   "metadata": {},
   "outputs": [
    {
     "data": {
      "text/plain": [
       "Decimal('5.14')"
      ]
     },
     "execution_count": 5,
     "metadata": {},
     "output_type": "execute_result"
    }
   ],
   "source": [
    "from decimal import *\n",
    "result = Decimal('3.14') + 2\n",
    "result"
   ]
  },
  {
   "cell_type": "markdown",
   "id": "4daa8f3c",
   "metadata": {},
   "source": [
    "### 6. Can Decimal objects and floating-point values be combined easily?"
   ]
  },
  {
   "cell_type": "markdown",
   "id": "af4eb726",
   "metadata": {},
   "source": [
    "#### Ans. There are several restrictions on how decimal objects and floating-point values can be mixed in arithmetic operations.\n",
    "\n",
    "#### When a floating-point value and a decimal object are mixed in arithmetic, the floating-point value must first be transformed to a decimal object, which might result in rounding mistakes. This is due to the fact that changing a floating-point value's representation from a binary to a decimal object requires a conversion that may not be accurate for all values.\n",
    "\n",
    "#### Take this mathematical expression as an illustration:"
   ]
  },
  {
   "cell_type": "code",
   "execution_count": 7,
   "id": "35e05757",
   "metadata": {},
   "outputs": [
    {
     "data": {
      "text/plain": [
       "Decimal('3.73')"
      ]
     },
     "execution_count": 7,
     "metadata": {},
     "output_type": "execute_result"
    }
   ],
   "source": [
    "from decimal import *\n",
    "result = Decimal('1.23') + Decimal('2.5')\n",
    "result"
   ]
  },
  {
   "cell_type": "markdown",
   "id": "27400474",
   "metadata": {},
   "source": [
    "### 7. Using the Fraction class but not the Decimal class, give an example of a quantity that can be expressed with absolute precision."
   ]
  },
  {
   "cell_type": "markdown",
   "id": "f828af8b",
   "metadata": {},
   "source": [
    "#### Ans. The fraction class can describe some quantities with absolute precision by representing rational numbers as fractions.\n",
    "\n",
    "#### For instance, the fraction class may be used to precisely express the integer 1/3, which cannot be written as a decimal or floating-point value:"
   ]
  },
  {
   "cell_type": "code",
   "execution_count": 8,
   "id": "e78eb26a",
   "metadata": {},
   "outputs": [
    {
     "name": "stdout",
     "output_type": "stream",
     "text": [
      "1/3\n"
     ]
    }
   ],
   "source": [
    "from fractions import Fraction\n",
    "\n",
    "x = Fraction(1, 3)\n",
    "print(x)\n"
   ]
  },
  {
   "cell_type": "code",
   "execution_count": 9,
   "id": "8b29c43a",
   "metadata": {},
   "outputs": [
    {
     "name": "stdout",
     "output_type": "stream",
     "text": [
      "3363/8119\n"
     ]
    }
   ],
   "source": [
    "from fractions import Fraction\n",
    "\n",
    "x = Fraction(1, 1)\n",
    "for i in range(10):\n",
    "    x = Fraction(1, 2 + x)\n",
    "print(x)\n"
   ]
  },
  {
   "cell_type": "markdown",
   "id": "f526339b",
   "metadata": {},
   "source": [
    "### 8. Describe a quantity that can be accurately expressed by the Decimal or Fraction classes but not by a floating-point value."
   ]
  },
  {
   "cell_type": "markdown",
   "id": "64a2e36a",
   "metadata": {},
   "source": [
    "#### Ans. A number like 0.1 is an example of one that can be appropriately described by the Decimal or Fraction classes but not by a floating-point value.\n",
    "\n",
    "#### The actual number stored in memory is not exactly 0.1, although 0.1 is roughly represented as a binary fraction in floating-point representation. This might result in precision loss and rounding mistakes when carrying out arithmetic operations on 0.1 or other numbers that contain 0.1.\n",
    "\n",
    "#### On the other hand, without any loss of precision or rounding mistakes, the Decimal and Fraction classes may express 0.1 precisely. For instance:"
   ]
  },
  {
   "cell_type": "code",
   "execution_count": 10,
   "id": "6df019fb",
   "metadata": {},
   "outputs": [
    {
     "name": "stdout",
     "output_type": "stream",
     "text": [
      "0.3\n",
      "3/10\n"
     ]
    }
   ],
   "source": [
    "from decimal import Decimal\n",
    "from fractions import Fraction\n",
    "\n",
    "# Decimal example\n",
    "x = Decimal('0.1')\n",
    "y = Decimal('0.2')\n",
    "z = x + y\n",
    "print(z)\n",
    "\n",
    "# Fraction example\n",
    "x = Fraction(1, 10)\n",
    "y = Fraction(2, 10)\n",
    "z = x + y\n",
    "print(z)\n"
   ]
  },
  {
   "cell_type": "markdown",
   "id": "0caba6aa",
   "metadata": {},
   "source": [
    "### Q9.Consider the following two fraction objects: Fraction(1, 2) and Fraction(1, 2). (5, 10). Is the internal state of these two objects the same? Why do you think that is?"
   ]
  },
  {
   "cell_type": "markdown",
   "id": "81eff2cb",
   "metadata": {},
   "source": [
    "#### Ans. The mathematical value (0.5) is represented by the two fraction objects Fraction(1, 2) and Fraction(5, 10), although they have different internal states.\n",
    "\n",
    "#### A Fraction object is automatically reduced to its lowest terms when it is constructed with two integer inputs (numerator and denominator). This results in a fraction with the fewest feasible integer values for the numerator and denominator that reflect the same mathematical quantity. It also indicates that the numerator and denominator are divided by their greatest common divisor (GCD).\n",
    "\n",
    "\n",
    "#### Since the GCD of 5 and 10 is 5, and both the numerator and the denominator are split by 5, Fraction(5, 10) is automatically reduced to Fraction(1, 2) when the object is created.\n",
    "\n",
    "#### Fractions (1, 2) and (5, 10) both reflect the same mathematical number and have the same value when compared or utilised in arithmetic operations; but, since they have different numerator and denominator values, they have different internal states."
   ]
  },
  {
   "cell_type": "code",
   "execution_count": 11,
   "id": "a0e9acf7",
   "metadata": {},
   "outputs": [
    {
     "name": "stdout",
     "output_type": "stream",
     "text": [
      "1 2\n",
      "1 2\n"
     ]
    }
   ],
   "source": [
    "x = Fraction(1, 2)\n",
    "y = Fraction(5, 10)\n",
    "\n",
    "print(x.numerator, x.denominator) \n",
    "print(y.numerator, y.denominator)  \n"
   ]
  },
  {
   "cell_type": "markdown",
   "id": "e373f847",
   "metadata": {},
   "source": [
    "### Q10. How do the Fraction class and the integer type (int) relate to each other? Containment or inheritance?"
   ]
  },
  {
   "cell_type": "markdown",
   "id": "c3645637",
   "metadata": {},
   "source": [
    "#### Rather than through inheritance, the relationship between the Fraction class and the integer type (int) is one of confinement or composition.\n",
    "\n",
    "#### The fractions module of the Python standard library contains a distinct class definition for fractions called Fraction. A pair of integers, the numerator and denominator, are used to represent a rational number. Both the numerator and denominator must be integers, and either one of them may be 0 or positive.\n",
    "\n",
    "#### A signed integer value is represented by the int type, a built-in data type in Python. It may be used to represent whole numbers that are either positive, negative, or zero. It is a fundamental numeric data type in Python.\n",
    "\n",
    "#### Integers (including int values) may be combined with the Fraction class to perform precise arithmetic operations on rational numbers. For instance:"
   ]
  },
  {
   "cell_type": "code",
   "execution_count": 12,
   "id": "69cb6426",
   "metadata": {},
   "outputs": [
    {
     "name": "stdout",
     "output_type": "stream",
     "text": [
      "3/2\n"
     ]
    }
   ],
   "source": [
    "from fractions import Fraction\n",
    "\n",
    "x = Fraction(3, 4)\n",
    "y = 2\n",
    "z = x * y  # multiply Fraction object with integer\n",
    "\n",
    "print(z)\n"
   ]
  },
  {
   "cell_type": "code",
   "execution_count": null,
   "id": "2a4adc02",
   "metadata": {},
   "outputs": [],
   "source": []
  }
 ],
 "metadata": {
  "kernelspec": {
   "display_name": "Python 3 (ipykernel)",
   "language": "python",
   "name": "python3"
  },
  "language_info": {
   "codemirror_mode": {
    "name": "ipython",
    "version": 3
   },
   "file_extension": ".py",
   "mimetype": "text/x-python",
   "name": "python",
   "nbconvert_exporter": "python",
   "pygments_lexer": "ipython3",
   "version": "3.9.13"
  }
 },
 "nbformat": 4,
 "nbformat_minor": 5
}
