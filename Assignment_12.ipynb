{
 "cells": [
  {
   "cell_type": "markdown",
   "id": "c7d59e71",
   "metadata": {},
   "source": [
    "### Q1. Does assigning a value to a string's indexed character violate Python's string immutability?"
   ]
  },
  {
   "cell_type": "markdown",
   "id": "723f7c2f",
   "metadata": {},
   "source": [
    "#### Ans. It is true that adding a value to a character in a string's index violates Python's string immutability. Strings are immutable objects in Python, which means they cannot be changed after being generated. Python will generate a TypeError if you attempt to change a string object."
   ]
  },
  {
   "cell_type": "code",
   "execution_count": 1,
   "id": "9b994dec",
   "metadata": {},
   "outputs": [
    {
     "ename": "TypeError",
     "evalue": "'str' object does not support item assignment",
     "output_type": "error",
     "traceback": [
      "\u001b[1;31m---------------------------------------------------------------------------\u001b[0m",
      "\u001b[1;31mTypeError\u001b[0m                                 Traceback (most recent call last)",
      "\u001b[1;32m~\\AppData\\Local\\Temp\\ipykernel_11196\\1259186963.py\u001b[0m in \u001b[0;36m<module>\u001b[1;34m\u001b[0m\n\u001b[0;32m      1\u001b[0m \u001b[0mmy_string\u001b[0m \u001b[1;33m=\u001b[0m \u001b[1;34m\"Hello\"\u001b[0m\u001b[1;33m\u001b[0m\u001b[1;33m\u001b[0m\u001b[0m\n\u001b[1;32m----> 2\u001b[1;33m \u001b[0mmy_string\u001b[0m\u001b[1;33m[\u001b[0m\u001b[1;36m0\u001b[0m\u001b[1;33m]\u001b[0m \u001b[1;33m=\u001b[0m \u001b[1;34m\"J\"\u001b[0m\u001b[1;33m\u001b[0m\u001b[1;33m\u001b[0m\u001b[0m\n\u001b[0m",
      "\u001b[1;31mTypeError\u001b[0m: 'str' object does not support item assignment"
     ]
    }
   ],
   "source": [
    "my_string = \"Hello\"\n",
    "my_string[0] = \"J\"\n"
   ]
  },
  {
   "cell_type": "markdown",
   "id": "558788b1",
   "metadata": {},
   "source": [
    "### Q2. Does using the += operator to concatenate strings violate Python's string immutability? Why or why not?"
   ]
  },
  {
   "cell_type": "markdown",
   "id": "cfce1843",
   "metadata": {},
   "source": [
    "#### Ans. Since the += operator generates a new string object that is the concatenation of the original string and the new string being added rather than altering the old string object, using the += operator to concatenate strings does not violate Python's string immutability.\n",
    "\n",
    "#### String concatenation in Python combines two or more existing strings to produce a new string object. The += operator concatenates the original string with the string being added to create a new string object, which is then used to update the original variable to refer to the new string object."
   ]
  },
  {
   "cell_type": "code",
   "execution_count": 3,
   "id": "abe3cf88",
   "metadata": {},
   "outputs": [
    {
     "data": {
      "text/plain": [
       "'Hello World'"
      ]
     },
     "execution_count": 3,
     "metadata": {},
     "output_type": "execute_result"
    }
   ],
   "source": [
    "my_string = \"Hello\"\n",
    "my_string += \" World\"\n",
    "my_string"
   ]
  },
  {
   "cell_type": "markdown",
   "id": "cef958af",
   "metadata": {},
   "source": [
    "### Q3. In Python, how many different ways are there to index a character?"
   ]
  },
  {
   "cell_type": "markdown",
   "id": "8121424b",
   "metadata": {},
   "source": [
    "#### Ans. A character can only be indexed in a string in one way in Python. By enclosing the index of the character you wish to access in square brackets [], you may access a specific character within a string.\n",
    "\n",
    "#### In a string, the first character's index is 0, the second character's index is 1, and so on. Moreover, negative indices can be used to access characters from the string's end, with -1 being the final character and -2 the next-to-last."
   ]
  },
  {
   "cell_type": "code",
   "execution_count": 4,
   "id": "33f67849",
   "metadata": {},
   "outputs": [
    {
     "name": "stdout",
     "output_type": "stream",
     "text": [
      "H\n",
      "u\n",
      "o\n"
     ]
    }
   ],
   "source": [
    "my_string = \"Hello, How are You\"\n",
    "\n",
    "# Accessing the first character using a positive index\n",
    "print(my_string[0])  \n",
    "\n",
    "# Accessing the last character using a negative index\n",
    "print(my_string[-1]) \n",
    "\n",
    "# Accessing the second last character using a negative index\n",
    "print(my_string[-2])\n"
   ]
  },
  {
   "cell_type": "markdown",
   "id": "def9d59a",
   "metadata": {},
   "source": [
    "### Q4. What is the relationship between indexing and slicing?"
   ]
  },
  {
   "cell_type": "markdown",
   "id": "7312b0da",
   "metadata": {},
   "source": [
    "#### Ans. In Python, the terms indexing and slicing are similar and are both used to access specific sections of a string or other sequence data type.\n",
    "\n",
    "#### A character or item in a sequence can be accessed by its location, or index, using indexing. To retrieve a single character or item in a sequence in Python, use square brackets [] and an integer index.\n",
    "\n",
    "#### On the other side, slicing is used to access a string's or another sequence data type's contiguous subsequence. To provide a range of indices to include in the slice in Python, use the colon: operator with two integer indices.\n",
    "\n",
    "#### The main distinction between indexing and slicing is that the former employs a single index, while the latter uses a variety of indices."
   ]
  },
  {
   "cell_type": "code",
   "execution_count": 5,
   "id": "cc95fa14",
   "metadata": {},
   "outputs": [
    {
     "name": "stdout",
     "output_type": "stream",
     "text": [
      "H\n",
      "Hello\n"
     ]
    }
   ],
   "source": [
    "my_string = \"Hello, World!\"\n",
    "\n",
    "print(my_string[0]) # Indexing\n",
    "\n",
    "print(my_string[0:5]) #slicing\n"
   ]
  },
  {
   "cell_type": "markdown",
   "id": "52dd0b25",
   "metadata": {},
   "source": [
    "### Q5. What is an indexed character's exact data type? What is the data form of a slicing-generated substring?"
   ]
  },
  {
   "cell_type": "markdown",
   "id": "1d1d47cd",
   "metadata": {},
   "source": [
    "#### Ans. A character that is indexed in a string in Python is of the built-in string data type, str. Python delivers a string object containing that character when you use indexing to retrieve a single character in a string.Similarly, when you extract a substring using slicing, the resulting data type is also str"
   ]
  },
  {
   "cell_type": "code",
   "execution_count": 6,
   "id": "ce1c61b0",
   "metadata": {},
   "outputs": [
    {
     "name": "stdout",
     "output_type": "stream",
     "text": [
      "<class 'str'>\n"
     ]
    }
   ],
   "source": [
    "my_string = \"Hello\"\n",
    "my_char = my_string[0] #indexing\n",
    "print(type(my_char))\n"
   ]
  },
  {
   "cell_type": "code",
   "execution_count": 8,
   "id": "ca88a4b6",
   "metadata": {},
   "outputs": [
    {
     "name": "stdout",
     "output_type": "stream",
     "text": [
      "<class 'str'>\n"
     ]
    }
   ],
   "source": [
    "my_string = \"Hello, World!\"\n",
    "my_substring = my_string[0:5] #slicing\n",
    "print(type(my_substring))\n"
   ]
  },
  {
   "cell_type": "markdown",
   "id": "5301a133",
   "metadata": {},
   "source": [
    "### Q6. What is the relationship between string and character \"types\" in Python?"
   ]
  },
  {
   "cell_type": "markdown",
   "id": "e2a7a991",
   "metadata": {},
   "source": [
    "#### Ans. Although strings and characters are similar ideas, they are not the same \"kind\" of object since in Python, a string is simply a collection of characters.\n",
    "\n",
    "#### A sequence data type known as a string represents a group of characters, usually used to represent text. The str data type, which is predefined in Python, is used to represent strings.\n",
    "\n",
    "#### A character, on the other hand, is a single symbol or graphic that stands in for a paragraph of text. Characters are represented in Python as strings of a single character."
   ]
  },
  {
   "cell_type": "code",
   "execution_count": 9,
   "id": "7b73f2e6",
   "metadata": {},
   "outputs": [
    {
     "name": "stdout",
     "output_type": "stream",
     "text": [
      "<class 'str'>\n"
     ]
    }
   ],
   "source": [
    "my_string = \"Hello\"\n",
    "my_char = my_string[0] #indexing\n",
    "print(type(my_char))\n"
   ]
  },
  {
   "cell_type": "markdown",
   "id": "77efe652",
   "metadata": {},
   "source": [
    "### Q7. Identify at least two operators and one method that allow you to combine one or more smaller strings to create a larger string."
   ]
  },
  {
   "cell_type": "markdown",
   "id": "1a3bc0ea",
   "metadata": {},
   "source": [
    "#### Ans. In Python, you may join one or more smaller strings to generate a bigger string using a variety of operators and methods. Here are two often used string concatenation operators and a method:\n",
    "\n",
    "#### The + operator can be used to combine one or more strings by concatenating them together.\n",
    "\n",
    "#### The plus sign (+=): A string can be added to another string using the += operator.\n",
    "\n",
    "#### The join() technique:With a chosen separator character.the join() function may be used to combine a list of strings into a single string."
   ]
  },
  {
   "cell_type": "code",
   "execution_count": 10,
   "id": "856945b6",
   "metadata": {},
   "outputs": [
    {
     "name": "stdout",
     "output_type": "stream",
     "text": [
      "John Cena\n"
     ]
    }
   ],
   "source": [
    "first_name = \"John\"\n",
    "last_name = \"Cena\"\n",
    "full_name = first_name + \" \" + last_name  # + Operator\n",
    "print(full_name)\n"
   ]
  },
  {
   "cell_type": "code",
   "execution_count": 11,
   "id": "34e08b47",
   "metadata": {},
   "outputs": [
    {
     "name": "stdout",
     "output_type": "stream",
     "text": [
      "Hello, John Cena\n"
     ]
    }
   ],
   "source": [
    "greeting = \"Hello, \"\n",
    "name = \"John Cena\"\n",
    "greeting += name  # += operator\n",
    "print(greeting) \n"
   ]
  },
  {
   "cell_type": "code",
   "execution_count": 13,
   "id": "e58ad1ca",
   "metadata": {},
   "outputs": [
    {
     "name": "stdout",
     "output_type": "stream",
     "text": [
      "Python is awesome language\n"
     ]
    }
   ],
   "source": [
    "words = [\"Python\", \"is\", \"awesome\",\"language\"]\n",
    "sentence = \" \".join(words)   # join()\n",
    "print(sentence)\n"
   ]
  },
  {
   "cell_type": "markdown",
   "id": "0d730cb5",
   "metadata": {},
   "source": [
    "### Q8. What is the benefit of first checking the target string with in or not in before using the index method to find a substring?"
   ]
  },
  {
   "cell_type": "markdown",
   "id": "f4487fa0",
   "metadata": {},
   "source": [
    "#### Ans. A ValueError or a -1 error may be raised if the substring is not present in the string when the index() or find() function is used directly on a string without first verifying if it exists. You may prevent this potential issue and deal with the situation when the substring is missing from the string by first utilising the in or not in operators.\n",
    "\n",
    "#### Efficiency gain: You may avoid the potentially time-consuming process of looking for the substring using the index() or find() function if you are certain that it is absent from the string. By doing so, you may speed up the execution of your code and increase its efficiency.\n",
    "\n",
    "#### Streamlining code logic: You may make your code simpler and easier to read and comprehend by making sure the substring is present in the string before using the index() or find() function."
   ]
  },
  {
   "cell_type": "code",
   "execution_count": 14,
   "id": "1de33ddb",
   "metadata": {},
   "outputs": [
    {
     "name": "stdout",
     "output_type": "stream",
     "text": [
      "The substring 'World' was found at index 7.\n"
     ]
    }
   ],
   "source": [
    "my_string = \"Hello, World!\"\n",
    "substring = \"World\"\n",
    "\n",
    "if substring in my_string:\n",
    "    index = my_string.index(substring)\n",
    "    print(f\"The substring '{substring}' was found at index {index}.\")\n",
    "else:\n",
    "    print(f\"The substring '{substring}' was not found.\")\n"
   ]
  },
  {
   "cell_type": "markdown",
   "id": "af11f98e",
   "metadata": {},
   "source": [
    "### Q9. Which operators and built-in string methods produce simple Boolean (true/false) results?"
   ]
  },
  {
   "cell_type": "markdown",
   "id": "5fac768b",
   "metadata": {},
   "source": [
    "#### Ans. 1. The \"in\" and \"not in\" operators each return True depending on whether a substring is contained in the string or not.\n",
    "\n",
    "#### 2. Integrated String Methods:\n",
    "\n",
    "#### 2.1 The methods startswith() and endswith(): If a string begins or ends with a certain substring, these methods, respectively, return True.\n",
    "\n",
    "#### 2.2 The functions isalpha, isdigit, isalnum, and isspace If a string only contains alphabetic characters, numeric digits, alphanumeric characters, or whitespace characters, these methods return True."
   ]
  },
  {
   "cell_type": "code",
   "execution_count": 15,
   "id": "b3747d15",
   "metadata": {},
   "outputs": [
    {
     "name": "stdout",
     "output_type": "stream",
     "text": [
      "True\n",
      "True\n"
     ]
    }
   ],
   "source": [
    "my_string = \"Hello, World!\"\n",
    "print(\"World\" in my_string) \n",
    "print(\"Python\" not in my_string)  # in and not in\n"
   ]
  },
  {
   "cell_type": "code",
   "execution_count": 16,
   "id": "05ca46d4",
   "metadata": {},
   "outputs": [
    {
     "name": "stdout",
     "output_type": "stream",
     "text": [
      "True\n",
      "True\n"
     ]
    }
   ],
   "source": [
    "my_string = \"Hello, World!\"\n",
    "print(my_string.startswith(\"Hello\"))  # startwith() and endwith()\n",
    "print(my_string.endswith(\"!\"))\n"
   ]
  },
  {
   "cell_type": "code",
   "execution_count": 17,
   "id": "1ab498af",
   "metadata": {},
   "outputs": [
    {
     "name": "stdout",
     "output_type": "stream",
     "text": [
      "False\n",
      "False\n",
      "False\n",
      "False\n"
     ]
    }
   ],
   "source": [
    "my_string = \"Hello, World!\"\n",
    "print(my_string.isalpha())  # isalpha()\n",
    "print(my_string.isdigit())  # isdigit()\n",
    "print(my_string.isalnum())  # isalnum()\n",
    "print(my_string.isspace())  # isspace()\n"
   ]
  },
  {
   "cell_type": "code",
   "execution_count": null,
   "id": "b73c3b0d",
   "metadata": {},
   "outputs": [],
   "source": []
  }
 ],
 "metadata": {
  "kernelspec": {
   "display_name": "Python 3 (ipykernel)",
   "language": "python",
   "name": "python3"
  },
  "language_info": {
   "codemirror_mode": {
    "name": "ipython",
    "version": 3
   },
   "file_extension": ".py",
   "mimetype": "text/x-python",
   "name": "python",
   "nbconvert_exporter": "python",
   "pygments_lexer": "ipython3",
   "version": "3.9.13"
  }
 },
 "nbformat": 4,
 "nbformat_minor": 5
}
