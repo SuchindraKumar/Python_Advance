{
 "cells": [
  {
   "cell_type": "markdown",
   "id": "6144ebb3",
   "metadata": {},
   "source": [
    "### Q1. What is the relationship between classes and modules?"
   ]
  },
  {
   "cell_type": "markdown",
   "id": "0c3096a6",
   "metadata": {},
   "source": [
    "#### A class in Python is a template for building objects with attributes and methods, whereas a module in Python is a file containing definitions, commands, and functions.\n",
    "\n",
    "#### A class may be specified in one or more modules, and a module may include one or more classes. You can utilise a class that is contained in a module by importing it into other modules."
   ]
  },
  {
   "cell_type": "code",
   "execution_count": 4,
   "id": "1fc95bf9",
   "metadata": {},
   "outputs": [],
   "source": [
    "### class\n"
   ]
  },
  {
   "cell_type": "code",
   "execution_count": 3,
   "id": "a7114b86",
   "metadata": {},
   "outputs": [
    {
     "name": "stdout",
     "output_type": "stream",
     "text": [
      "Person Name: Andrew \n",
      "Person Age: 34 \n",
      "Person Gender: Male\n",
      "\n",
      "Person Name: Liam \n",
      "Person Age: 21 \n",
      "Person Gender: Male\n",
      "\n"
     ]
    }
   ],
   "source": [
    "class Person:\n",
    " \n",
    "  def __init__(self,name,age,gender):\n",
    "    self.name = name\n",
    "    self.age = age\n",
    "    self.gender = gender\n",
    " \n",
    "  def person_details(self):\n",
    "    print(f'Person Name: {self.name} \\nPerson Age: {self.age} \\nPerson Gender: {self.gender}\\n')\n",
    " \n",
    "\n",
    "person1 = Person('Andrew',34, 'Male')\n",
    "person2 = Person('Liam', 21, 'Male')\n",
    " \n",
    "person1.person_details()\n",
    "person2.person_details()\n"
   ]
  },
  {
   "cell_type": "code",
   "execution_count": 1,
   "id": "cdf8bf15",
   "metadata": {},
   "outputs": [],
   "source": [
    "# Module\n"
   ]
  },
  {
   "cell_type": "code",
   "execution_count": 2,
   "id": "e9df67aa",
   "metadata": {},
   "outputs": [
    {
     "name": "stdout",
     "output_type": "stream",
     "text": [
      "Person Name: Anna \n",
      "Person Age: 20 \n",
      "Person Gender: Female\n",
      "\n"
     ]
    }
   ],
   "source": [
    "import Person\n",
    "person1 = Person.person('Anna', 20, 'Female')\n",
    "person1.person_details()"
   ]
  },
  {
   "cell_type": "markdown",
   "id": "d4c57ef1",
   "metadata": {},
   "source": [
    "### Q2. How do you make instances and classes?"
   ]
  },
  {
   "cell_type": "code",
   "execution_count": 5,
   "id": "567424da",
   "metadata": {},
   "outputs": [],
   "source": [
    "class Person:\n",
    "    def __init__(self, name, age):\n",
    "        self.name = name\n",
    "        self.age = age\n",
    "\n",
    "person1 = Person(\"John\", 25) # Making Instances \n",
    "person2 = Person(\"Jane\", 30)\n"
   ]
  },
  {
   "cell_type": "code",
   "execution_count": 4,
   "id": "316f2a88",
   "metadata": {},
   "outputs": [
    {
     "name": "stdout",
     "output_type": "stream",
     "text": [
      "John\n",
      "30\n"
     ]
    }
   ],
   "source": [
    "print(person1.name) \n",
    "\n",
    "print(person2.age) \n"
   ]
  },
  {
   "cell_type": "markdown",
   "id": "f3661f04",
   "metadata": {},
   "source": [
    "### Q3. Where and how should be class attributes created?"
   ]
  },
  {
   "cell_type": "markdown",
   "id": "499f158c",
   "metadata": {},
   "source": [
    "#### Ans.Class attributes are characteristics that all instances of a class share. They are defined outside of any methods but inside the class declaration. You may use the to build class characteristics"
   ]
  },
  {
   "cell_type": "code",
   "execution_count": 6,
   "id": "4b91b510",
   "metadata": {},
   "outputs": [],
   "source": [
    "class Vehicle:\n",
    "    MAX_SPEED = 120\n",
    "\n",
    "    def __init__(self, name, model):\n",
    "        self.name = name\n",
    "        self.model = model\n"
   ]
  },
  {
   "cell_type": "code",
   "execution_count": 8,
   "id": "2c0a6967",
   "metadata": {},
   "outputs": [
    {
     "name": "stdout",
     "output_type": "stream",
     "text": [
      "120\n"
     ]
    }
   ],
   "source": [
    "print(Vehicle.MAX_SPEED)"
   ]
  },
  {
   "cell_type": "code",
   "execution_count": 9,
   "id": "5e49cb89",
   "metadata": {},
   "outputs": [
    {
     "name": "stdout",
     "output_type": "stream",
     "text": [
      "120\n"
     ]
    }
   ],
   "source": [
    "car = Vehicle(\"Toyota\", \"Camry\")\n",
    "print(car.MAX_SPEED)"
   ]
  },
  {
   "cell_type": "markdown",
   "id": "42840f7a",
   "metadata": {},
   "source": [
    "### Q4. Where and how are instance attributes created?"
   ]
  },
  {
   "cell_type": "markdown",
   "id": "db81b7e0",
   "metadata": {},
   "source": [
    "#### Ans.All instances of a class share the characteristics known as class attributes. While they are outside of any methods, they are declared inside the class declaration. Class properties may be created via the"
   ]
  },
  {
   "cell_type": "code",
   "execution_count": 16,
   "id": "036341d9",
   "metadata": {},
   "outputs": [],
   "source": [
    "class MyClass:\n",
    "    def __init__(self, attribute1, attribute2):\n",
    "        self.instance_attribute1 = attribute1\n",
    "        self.instance_attribute2 = attribute2\n"
   ]
  },
  {
   "cell_type": "code",
   "execution_count": 19,
   "id": "61961891",
   "metadata": {},
   "outputs": [
    {
     "name": "stdout",
     "output_type": "stream",
     "text": [
      "John\n",
      "Cena\n"
     ]
    }
   ],
   "source": [
    "my_instance = MyClass(\"John\", \"Cena\")\n",
    "print(my_instance.instance_attribute1) \n",
    "print(my_instance.instance_attribute2) \n"
   ]
  },
  {
   "cell_type": "code",
   "execution_count": 18,
   "id": "bb13ebcf",
   "metadata": {},
   "outputs": [
    {
     "name": "stdout",
     "output_type": "stream",
     "text": [
      "The Rock\n"
     ]
    }
   ],
   "source": [
    "my_instance.instance_attribute1 = \"The Rock\"\n",
    "print(my_instance.instance_attribute1)\n"
   ]
  },
  {
   "cell_type": "markdown",
   "id": "8db4a4b7",
   "metadata": {},
   "source": [
    "### Q5. What does the term \"self\" in a Python class mean?"
   ]
  },
  {
   "cell_type": "markdown",
   "id": "82570198",
   "metadata": {},
   "source": [
    "#### Ans.Self is a unique variable in Python that denotes the instance of the class being invoked when a method is called. Even though you may use any other legitimate variable name in place of self, it is always the first parameter of an instance method."
   ]
  },
  {
   "cell_type": "code",
   "execution_count": 21,
   "id": "3e4eb473",
   "metadata": {},
   "outputs": [
    {
     "name": "stdout",
     "output_type": "stream",
     "text": [
      "MS DHONI\n"
     ]
    }
   ],
   "source": [
    "class MyClass:\n",
    "    def __init__(self, attribute):\n",
    "        self.attribute = attribute\n",
    "\n",
    "    def my_method(self):\n",
    "        print(self.attribute)\n",
    "\n",
    "my_instance = MyClass(\"MS DHONI\")\n",
    "my_instance.my_method()\n"
   ]
  },
  {
   "cell_type": "markdown",
   "id": "2c334d2c",
   "metadata": {},
   "source": [
    "### Q6. How does a Python class handle operator overloading?"
   ]
  },
  {
   "cell_type": "markdown",
   "id": "a7b9f9e9",
   "metadata": {},
   "source": [
    "#### Ans.With the use of operator overloading, classes in Python can specify how built-in operators like +, -, *, /, ==,, >, etc. behave for instances of the class. This enables you to develop unique kinds that act just like pre-existing types.\n",
    "\n",
    "#### You must create a specific method with a reserved name that matches to the operator you wish to overload in order to overload an operator in a Python class. For instance, you need to write a method called __add__ if you want to overload the + operator. Here's an illustration:"
   ]
  },
  {
   "cell_type": "code",
   "execution_count": 22,
   "id": "095df3d0",
   "metadata": {},
   "outputs": [
    {
     "name": "stdout",
     "output_type": "stream",
     "text": [
      "30\n"
     ]
    }
   ],
   "source": [
    "class MyNumber:\n",
    "    def __init__(self, value):\n",
    "        self.value = value\n",
    "\n",
    "    def __add__(self, other):\n",
    "        return MyNumber(self.value + other.value)\n",
    "\n",
    "    def __str__(self):\n",
    "        return str(self.value)\n",
    "\n",
    "num1 = MyNumber(10)\n",
    "num2 = MyNumber(20)\n",
    "result = num1 + num2\n",
    "print(result)\n"
   ]
  },
  {
   "cell_type": "markdown",
   "id": "c8d9b498",
   "metadata": {},
   "source": [
    "### Q7. When do you consider allowing operator overloading of your classes?"
   ]
  },
  {
   "cell_type": "markdown",
   "id": "b925f3e1",
   "metadata": {},
   "source": [
    "#### Ans. When you wish to design custom types that behave like built-in types and enable basic operations like addition, subtraction, comparison, etc., you should think about enabling operator overloading of your classes.\n",
    "\n",
    "#### Especially when working with complicated data types or mathematical processes, operator overloading may help your code be more succinct and expressive. You may leverage well-known syntax and semantics for your custom types by overloading operators, which can make your code simpler to read and comprehend.\n",
    "\n",
    "#### Nevertheless, you should only employ operator overloading when it is appropriate for your specific use case. If used excessively or poorly, overloading operators may make your code more complicated and difficult to maintain. Also, you should adhere to the norms and standards of other programmers who could use your code and refrain from overloading operators in unexpected or perplexing ways.\n",
    "\n",
    "#### In general, you should consider operator overloading in Python when it increases the readability and expressiveness of your code, and when it corresponds with the expectations of the community and norms of the language."
   ]
  },
  {
   "cell_type": "markdown",
   "id": "eaae5d7d",
   "metadata": {},
   "source": [
    "### Q8. What is the most popular form of operator overloading?"
   ]
  },
  {
   "cell_type": "markdown",
   "id": "1b5d9d7c",
   "metadata": {},
   "source": [
    "#### Ans. In Python, the most popular form of operator overloading is probably the overloading of the + operator for concatenation of sequences, such as strings, lists, and tuples."
   ]
  },
  {
   "cell_type": "code",
   "execution_count": 23,
   "id": "8192ae79",
   "metadata": {},
   "outputs": [
    {
     "name": "stdout",
     "output_type": "stream",
     "text": [
      "HelloWorld\n"
     ]
    }
   ],
   "source": [
    "string1 = \"Hello\"\n",
    "string2 = \"World\"\n",
    "result = string1 + string2\n",
    "print(result)\n"
   ]
  },
  {
   "cell_type": "code",
   "execution_count": 24,
   "id": "bcccbb54",
   "metadata": {},
   "outputs": [
    {
     "name": "stdout",
     "output_type": "stream",
     "text": [
      "[1, 2, 3, 4, 5, 6]\n"
     ]
    }
   ],
   "source": [
    "list1 = [1, 2, 3]\n",
    "list2 = [4, 5, 6]\n",
    "result = list1 + list2\n",
    "print(result)\n"
   ]
  },
  {
   "cell_type": "markdown",
   "id": "659e7b46",
   "metadata": {},
   "source": [
    "### Q9. What are the two most important concepts to grasp in order to comprehend Python OOP code?"
   ]
  },
  {
   "cell_type": "markdown",
   "id": "ae810285",
   "metadata": {},
   "source": [
    "#### Classes and objects are the two most crucial ideas to master in order to understand Python OOP programming.\n",
    "\n",
    "#### The guidelines for building objects are specified by classes. They offer a mechanism to generate several instances of that unit, each with its own unique data, and they combine data and behaviour into a single unit.\n",
    "\n",
    "#### In contrast, objects are instances of classes. They represent a particular instance of a class, complete with distinctive data values. Moreover, objects are capable of having methods, which are related functions that may access the data of an object.\n",
    "\n",
    "#### The two key ideas that you must master in order to understand Python OOP programming are classes and objects.\n",
    "\n",
    "#### The construction process for things is outlined by classes. They allow for the creation of several instances of the same unit, each with its own distinct set of data, and they combine behaviour and data into a single unit.\n",
    "\n",
    "#### On the other side, objects are examples of classes. They represent an instance of a class that is particular and has particular data values. Moreover, objects can contain methods, which are functions that are linked to the object and can access its data."
   ]
  },
  {
   "cell_type": "code",
   "execution_count": null,
   "id": "77f44f0f",
   "metadata": {},
   "outputs": [],
   "source": []
  }
 ],
 "metadata": {
  "kernelspec": {
   "display_name": "Python 3 (ipykernel)",
   "language": "python",
   "name": "python3"
  },
  "language_info": {
   "codemirror_mode": {
    "name": "ipython",
    "version": 3
   },
   "file_extension": ".py",
   "mimetype": "text/x-python",
   "name": "python",
   "nbconvert_exporter": "python",
   "pygments_lexer": "ipython3",
   "version": "3.9.13"
  }
 },
 "nbformat": 4,
 "nbformat_minor": 5
}
