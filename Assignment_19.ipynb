{
 "cells": [
  {
   "cell_type": "markdown",
   "id": "53c517e5",
   "metadata": {},
   "source": [
    "### Q1. Define the relationship between a class and its instances. Is it a one-to-one or a one-to-many partnership, for example?"
   ]
  },
  {
   "cell_type": "markdown",
   "id": "8fa99edb",
   "metadata": {},
   "source": [
    "#### Ans. A class is a blueprint or template for constructing objects in object-oriented programming, whereas an instance is a particular object made from that class. One class may be used to produce many instances, and each instance is a unique object with its own set of properties and behaviours. This relationship between classes and instances is known as a one-to-many relationship.\n",
    "\n",
    "#### To put it simply, an instance represents a particular member of that group with its own particular qualities and behaviours, but a class specifies the generic characteristics and behaviours of a collection of objects."
   ]
  },
  {
   "cell_type": "markdown",
   "id": "e2e9b6ae",
   "metadata": {},
   "source": [
    "### Q2. What kind of data is held only in an instance?"
   ]
  },
  {
   "cell_type": "markdown",
   "id": "67b617e8",
   "metadata": {},
   "source": [
    "#### Ans. An instance in object-oriented programming contains data that is specific to that instance. This information is known as instance variables or attributes, and it is exclusive to this particular instance of the class. Each instance has a unique collection of instance variables, each of which can have a distinct value. The properties that each instance will have are specified by the class, but the precise values of these attributes are determined when the instance is created. As a result, instance variables are only kept in a single instance and are not shared with the class as a whole or with other instances."
   ]
  },
  {
   "cell_type": "markdown",
   "id": "7542b318",
   "metadata": {},
   "source": [
    "### Q3. What kind of knowledge is stored in a class?"
   ]
  },
  {
   "cell_type": "markdown",
   "id": "779dbd01",
   "metadata": {},
   "source": [
    "#### Ans. A class contains information on the traits and actions of its instances. This contains any unique characteristics or limitations that only apply to instances of that class, as well as the methods and properties that instances of the class will possess. A class is essentially a template for building objects or instances with a particular set of features and behaviours."
   ]
  },
  {
   "cell_type": "markdown",
   "id": "d0d792db",
   "metadata": {},
   "source": [
    "### Q4. What exactly is a method, and how is it different from a regular function?### "
   ]
  },
  {
   "cell_type": "markdown",
   "id": "43e731bc",
   "metadata": {},
   "source": [
    "#### Ans. A method in object-oriented programming is a function connected to a class that may be used with instances of that class. An internal class method that has access to the class's data, including its attributes and other methods, is specified.\n",
    "\n",
    "#### A method is tied to an object and has access to the object's data, but a function is unrelated to any object and has no access to object data. This is the primary distinction between a method and an ordinary function. A function is called directly (e.g., function()), but a method is invoked by using the dot notation on an object (e.g., object.method())."
   ]
  },
  {
   "cell_type": "markdown",
   "id": "508d3236",
   "metadata": {},
   "source": [
    "### Q5. Is inheritance supported in Python, and if so, what is the syntax?"
   ]
  },
  {
   "cell_type": "markdown",
   "id": "93995781",
   "metadata": {},
   "source": [
    "#### Ans. Yeah, Python does support inheritance. A new class can be built on an existing class and inherit all of its characteristics and methods using the concept of inheritance. The current class is referred to as the parent class or superclass, while the new class is referred to as the child class or subclass.\n",
    "\n",
    "#### Python uses the following syntax to create a subclass:"
   ]
  },
  {
   "cell_type": "code",
   "execution_count": 3,
   "id": "e8abce9c",
   "metadata": {},
   "outputs": [
    {
     "name": "stdout",
     "output_type": "stream",
     "text": [
      "This function is in parent class.\n",
      "This function is in child class.\n"
     ]
    }
   ],
   "source": [
    "class Parent:\n",
    "    def func1(self):\n",
    "        print(\"This function is in parent class.\")\n",
    " # Derived class\n",
    " \n",
    "class Child(Parent):\n",
    "    def func2(self):\n",
    "        print(\"This function is in child class.\")\n",
    " \n",
    " \n",
    "\n",
    "object = Child()\n",
    "object.func1()\n",
    "object.func2()"
   ]
  },
  {
   "cell_type": "markdown",
   "id": "b03dd4dd",
   "metadata": {},
   "source": [
    "### Q6. How much encapsulation (making instance or class variables private) does Python support?"
   ]
  },
  {
   "cell_type": "markdown",
   "id": "f8be2db1",
   "metadata": {},
   "source": [
    "#### Ans. True encapsulation is not supported in Python the way it is in other object-oriented languages like Java or C++. Instance variables and methods are \"private\" in Python due to the double underscore (__) prefixing practise. As a result, they cannot be directly accessed from outside the class. The syntax _classname private variable or _classname private method can still be used to access them (). This practise is called name mangling. Although it is possible to directly access private variables and methods from outside the class, this practise is not severely enforced."
   ]
  },
  {
   "cell_type": "markdown",
   "id": "d9b859e1",
   "metadata": {},
   "source": [
    "### Q7. How do you distinguish between a class variable and an instance variable?"
   ]
  },
  {
   "cell_type": "markdown",
   "id": "95cb1bc1",
   "metadata": {},
   "source": [
    "#### Ans. A class variable in Python is a variable specified inside a class that is shared by all instances of that class. All instances of that class will have access to the new value if the class variable's value is changed, and it is accessed by using the class name. On the other hand, an instance variable is a variable that is specific to that instance of the class and is declared within that instance. It is not shared by other instances of the class and is accessible using the instance name. A class's function Object() { [native code] } (__init__) method or class methods can both be used to create instance variables."
   ]
  },
  {
   "cell_type": "markdown",
   "id": "d8e01f2e",
   "metadata": {},
   "source": [
    "### Q8. When, if ever, can self be included in a class's method definitions?\n"
   ]
  },
  {
   "cell_type": "markdown",
   "id": "f68cad72",
   "metadata": {},
   "source": [
    "#### Ans. The \"self\" keyword is frequently used in object-oriented programming to refer to the instance of a class that a method is being called on. It enables the method to conduct operations on the instance's attributes by gaining access to them.\n",
    "\n",
    "\n",
    "#### The \"self\" keyword is always included in the method specification since it is automatically supplied as the first argument to instance methods in the majority of programming languages.\n",
    "\n",
    "#### For instance, instance methods in Python are defined with the \"self\" argument like follows:"
   ]
  },
  {
   "cell_type": "code",
   "execution_count": 4,
   "id": "227421be",
   "metadata": {},
   "outputs": [],
   "source": [
    "class MyClass:\n",
    "    def my_method(self, arg1, arg2):\n",
    "        # do something with self and the arguments\n",
    "        pass"
   ]
  },
  {
   "cell_type": "markdown",
   "id": "a5443fe5",
   "metadata": {},
   "source": [
    "### Q9. What is the difference between the _ _add_ _ and the _ _radd_ _ methods?"
   ]
  },
  {
   "cell_type": "markdown",
   "id": "f8654e63",
   "metadata": {},
   "source": [
    "#### Ans. In Python, __add__() and __radd__() are special methods used for operator overloading of the \"+\" operator. These methods allow instances of a class to participate in addition operations.\n",
    "\n",
    "#### The __add__() method is called when an instance of the class appears on the left-hand side of the \"+\" operator. It takes one argument, which is the value on the right-hand side of the \"+\" operator, and should return the result of the addition."
   ]
  },
  {
   "cell_type": "code",
   "execution_count": 5,
   "id": "e7a6a92f",
   "metadata": {},
   "outputs": [],
   "source": [
    "class MyClass:\n",
    "    def __init__(self, value):\n",
    "        self.value = value\n",
    "\n",
    "    def __add__(self, other):\n",
    "        return MyClass(self.value + other.value)\n"
   ]
  },
  {
   "cell_type": "markdown",
   "id": "46650cd9",
   "metadata": {},
   "source": [
    "#### On the other hand, the __radd__() method is called when an instance of the class appears on the right-hand side of the \"+\" operator. It takes one argument, which is the value on the left-hand side of the \"+\" operator, and should return the result of the addition.\n",
    "\n",
    "#### For example, consider the following class definition:"
   ]
  },
  {
   "cell_type": "code",
   "execution_count": 6,
   "id": "e372f6a0",
   "metadata": {},
   "outputs": [],
   "source": [
    "class MyClass:\n",
    "    def __init__(self, value):\n",
    "        self.value = value\n",
    "\n",
    "    def __radd__(self, other):\n",
    "        return MyClass(self.value + other)\n"
   ]
  },
  {
   "cell_type": "markdown",
   "id": "f05a40bc",
   "metadata": {},
   "source": [
    "### Q10. When is it necessary to use a reflection method? When do you not need it, even though you support the operation in question?"
   ]
  },
  {
   "cell_type": "markdown",
   "id": "33d910e0",
   "metadata": {},
   "source": [
    "#### Ans. A programming technique called reflection enables a programme to review and alter its own behaviour and structure while running. Reflection may often be used to make systems more adaptable and extendable, but it can also increase programme complexity and degrade performance.\n",
    "\n",
    "#### Reflection methods are often utilised when you need to dynamically access or edit an object's attributes or methods at runtime without being aware of the exact specifications of the object at compile time. For instance, in some circumstances you would wish to:\n",
    "\n",
    "#### During runtime, get a list of all the methods or attributes that an object has.\n",
    "#### the act of calling a method on an object whose name won't be known until runtime.\n",
    "#### Make a new instance of a class whose name won't be revealed until runtime.\n",
    "\n",
    "#### In these circumstances, you may make use of reflection techniques to dynamically evaluate and alter the object's behaviour based on runtime data.\n",
    "\n",
    "#### Even when you support the operation in question, there are some situations where you do not need to employ reflection techniques. You may, for instance, provide dynamic method invocation in some circumstances by supplying a method that accepts a string parameter specifying the name of the method to invoke. This method can be effective, but because it relies on string manipulation and does not offer the same level of type safety and error checking as reflection methods, it is often less effective and safer than using reflection."
   ]
  },
  {
   "cell_type": "markdown",
   "id": "d66ce6e9",
   "metadata": {},
   "source": [
    "### Q11. What is the _ _iadd_ _ method called?"
   ]
  },
  {
   "cell_type": "markdown",
   "id": "a07d17d4",
   "metadata": {},
   "source": [
    "#### Ans. In Python, the __iadd__() method is a special method used for in-place addition. It is called when the += operator is used on an object. The __iadd__() method should modify the object in place and return the modified object."
   ]
  },
  {
   "cell_type": "code",
   "execution_count": 7,
   "id": "fbad5c76",
   "metadata": {},
   "outputs": [],
   "source": [
    "class MyClass:\n",
    "    def __init__(self, value):\n",
    "        self.value = value\n",
    "\n",
    "    def __iadd__(self, other):\n",
    "        self.value += other\n",
    "        return self\n"
   ]
  },
  {
   "cell_type": "code",
   "execution_count": 8,
   "id": "5470e62a",
   "metadata": {},
   "outputs": [
    {
     "name": "stdout",
     "output_type": "stream",
     "text": [
      "15\n"
     ]
    }
   ],
   "source": [
    "obj = MyClass(10)\n",
    "obj += 5\n",
    "print(obj.value)\n"
   ]
  },
  {
   "cell_type": "markdown",
   "id": "a37b8116",
   "metadata": {},
   "source": [
    "### Q12. Is the _ _init_ _ method inherited by subclasses? What do you do if you need to customize its behavior within a subclass?"
   ]
  },
  {
   "cell_type": "markdown",
   "id": "3c992a52",
   "metadata": {},
   "source": [
    "#### In Python, subclasses do inherit the __init__() function. A subclass automatically inherits the parent class's __init__() function when it is specified without one.\n",
    "\n",
    "#### By adding a new __init__() method in the subclass, you may override __init__() if you need to alter how it behaves within the subclass. The new method may have a different signature and implementation, but it must have the same name as the parent __init__() function."
   ]
  },
  {
   "cell_type": "code",
   "execution_count": 9,
   "id": "519cc386",
   "metadata": {},
   "outputs": [],
   "source": [
    "class Animal:\n",
    "    def __init__(self, name, species):\n",
    "        self.name = name\n",
    "        self.species = species\n"
   ]
  },
  {
   "cell_type": "code",
   "execution_count": 10,
   "id": "2b5a5e5e",
   "metadata": {},
   "outputs": [],
   "source": [
    "class Dog(Animal):\n",
    "    def __init__(self, name, species, breed):\n",
    "        super().__init__(name, species)\n",
    "        self.breed = breed\n"
   ]
  },
  {
   "cell_type": "code",
   "execution_count": null,
   "id": "606e4ca0",
   "metadata": {},
   "outputs": [],
   "source": []
  }
 ],
 "metadata": {
  "kernelspec": {
   "display_name": "Python 3 (ipykernel)",
   "language": "python",
   "name": "python3"
  },
  "language_info": {
   "codemirror_mode": {
    "name": "ipython",
    "version": 3
   },
   "file_extension": ".py",
   "mimetype": "text/x-python",
   "name": "python",
   "nbconvert_exporter": "python",
   "pygments_lexer": "ipython3",
   "version": "3.9.13"
  }
 },
 "nbformat": 4,
 "nbformat_minor": 5
}
