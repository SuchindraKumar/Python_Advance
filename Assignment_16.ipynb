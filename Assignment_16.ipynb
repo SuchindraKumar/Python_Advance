{
 "cells": [
  {
   "cell_type": "markdown",
   "id": "b3c255b4",
   "metadata": {},
   "source": [
    "### Q1. What is the benefit of regular expressions?"
   ]
  },
  {
   "cell_type": "markdown",
   "id": "26c2a25d",
   "metadata": {},
   "source": [
    "#### Ans. Regular expressions (commonly shortened to \"regex\") offer a strong and adaptable method for matching and modifying text. The following are some advantages of regular expressions:\n",
    "\n",
    "\n",
    "#### 1. Effective text processing: Regular expressions let you manipulate complicated text fast and effectively without writing a lot of code.\n",
    "\n",
    "#### 2.  Regular expressions allow for the creation of complicated patterns that can match a broad range of text types, from straightforward strings to intricate data structures.\n",
    "\n",
    "#### 3. Regular expressions may be used to search for and replace text inside a document, making it simple to make broad changes or organise disorganised data.\n",
    "\n",
    "#### 4. Text validation: Regular expressions can be used to check if supplied data complies with predefined rules or formats.\n",
    "\n",
    "#### 5. Language-independent: Regular expressions may be used to match patterns across a variety of settings and platforms since they are supported by a wide range of computer languages and tools.\n",
    "\n",
    "####  6. Regular expressions are a strong text-manipulation tool that may help you deal with complicated text formats quickly and easily."
   ]
  },
  {
   "cell_type": "markdown",
   "id": "d091b424",
   "metadata": {},
   "source": [
    "### Q2. Describe the difference between the effects of \"(ab)c+\" and \"a(bc)+.\" Which of these, if any, is the unqualified pattern \"abc+\"?"
   ]
  },
  {
   "cell_type": "markdown",
   "id": "9c56f75a",
   "metadata": {},
   "source": [
    "#### Ans. Any string that contains the letters \"ab\" before one or more instances of the letter \"c,\" followed by the regular phrase \"(ab)c+,\" is matched. This pattern, for instance, would match the strings \"abc,\" \"abcc,\" \"abccc,\" and so on.\n",
    "\n",
    "#### The regular expression \"a(bc)+\" matches any string that contains the letter \"a\" and at least one instance of the letter \"bc\" sequence. the saga of the saga. Withs the the saga,. With a. s.. The way a. s. thes... The way. The way. The way.\n",
    "\n",
    "#### The unqualified pattern \"abc+\" matches any string that has one or more instances of the character \"c\" and the letters \"a,\" \"b,\" and \"c\" in that sequence. This pattern, for instance, would match the strings \"abc,\" \"abcc,\" \"abccc,\" and so on.\n",
    "\n",
    "#### The primary difference between \"(ab)c+\" and \"a(bc)+\" is that the former matches strings that begin with the letters \"ab\", while the latter matches strings that begin with the character \"a\" followed by the sequence \"bc\". In order to match any string that comprises the letters \"a,\" \"b,\" and \"c\" in that sequence, with one or more occurrences of the letter \"c,\" the unqualified pattern \"abc+\" combines the two patterns."
   ]
  },
  {
   "cell_type": "markdown",
   "id": "c4a80995",
   "metadata": {},
   "source": [
    "### Q3. How much do you need to use the following sentence while using regular expressions?\n",
    "\n",
    "\n",
    "\n",
    "### import re\n"
   ]
  },
  {
   "cell_type": "markdown",
   "id": "c32fa8e4",
   "metadata": {},
   "source": [
    "#### Ans. The sentence \"import re\" is a standard import statement in Python for the regular expressions module, which provides support for regular expressions. You need to use this statement in any Python script that uses regular expressions, as it allows you to access the functions and methods provided by the re module.\n",
    "\n",
    "#### The import statement is typically placed at the beginning of a Python script or module, before any other code that uses the re module. Once you have imported the module, you can use its functions and methods to create, search, and manipulate regular expressions.\n",
    "\n",
    "#### So, to use regular expressions in Python, you will need to use the \"import re\" statement in your code."
   ]
  },
  {
   "cell_type": "markdown",
   "id": "16e5a370",
   "metadata": {},
   "source": [
    "### Q4. Which characters have special significance in square brackets when expressing a range, and under what circumstances?"
   ]
  },
  {
   "cell_type": "markdown",
   "id": "2f384bbc",
   "metadata": {},
   "source": [
    "#### Ans. For defining a character set or a range of characters that may match any single character from the set or range in regular expressions, square brackets [] are employed. Some letters within square brackets have particular meaning and may be read in several ways depending on where they appear and the surrounding text. The following characters have specific meaning when establishing a range within square brackets:\n",
    "\n",
    "#### The hyphen (-) is used to denote a variety of characters. For instance, the ranges [a-z] and [0-9] match any lowercase letter from a to z and any digit from 0 to 9, respectively.\n",
    "\n",
    "#### The caret (^) cancels the character set when it appears as the first character inside square brackets. For instance, every character that is not a lowercase letter matches the set [a-z].\n",
    "\n",
    "#### Backslash (\\): The backslash is used to represent specific predefined character classes, such as d for any digit and w for any word character, as well as to escape special characters like the hyphen and caret.\n",
    "\n",
    "#### It's crucial to keep in mind that the hyphen only has unique meaning when it's used to designate a group of letters enclosed in square brackets. The hyphen has no specific meaning outside of square brackets and can be used like any other character. In addition, the hyphen is treated as a literal character rather than a range specifier if it appears at the start or end of square brackets."
   ]
  },
  {
   "cell_type": "markdown",
   "id": "113d3954",
   "metadata": {},
   "source": [
    "### Q5. How does compiling a regular-expression object benefit you?"
   ]
  },
  {
   "cell_type": "markdown",
   "id": "bb8476d9",
   "metadata": {},
   "source": [
    "#### Ans. There are various advantages to compiling a regular expression object in Python, including:\n",
    "\n",
    "#### Performance gain: By compiling a regular expression object, Python is able to streamline and speed up the pattern matching process. Python pre-processes the pattern when you compile a regular expression, creating bytecode that can be performed more rapidly than the original pattern.\n",
    "\n",
    "#### Reusability: A regular expression object that has been built can be used repeatedly in your code without necessitating the need to recompile the pattern. This can speed up the execution of your code as a whole.\n",
    "\n",
    "#### Cleaner code: By separating the pattern definition and the matching logic in a regular expression object, you may create cleaner, more structured code. When using sophisticated regular expressions with several groups and subpatterns, this can make your code easier to understand and maintain.\n",
    "\n",
    "#### Error detection: Python verifies the syntax of the pattern when you compile a regular expression object and reports an exception if the pattern is illegible. You may avoid potential problems and runtime issues by doing this and catching mistakes early in the development process."
   ]
  },
  {
   "cell_type": "markdown",
   "id": "e71c9772",
   "metadata": {},
   "source": [
    "### Q6. What are some examples of how to use the match object returned by re.match and re.search?"
   ]
  },
  {
   "cell_type": "markdown",
   "id": "f2b5bdee",
   "metadata": {},
   "source": [
    "#### Ans. Python's re.match and re.search functions either return None if no match is discovered or a match object if the pattern matches the search string. The matched string, the match's location, and any captured groups are all details that are included in the match object. Examples of how to utilise the match object supplied by re.match and re.search are given below:\n",
    "\n",
    "#### Extraction of matched text: The text that the regular expression matched may be extracted using the group() function of the match object. For example:"
   ]
  },
  {
   "cell_type": "code",
   "execution_count": 1,
   "id": "85ba09e2",
   "metadata": {},
   "outputs": [
    {
     "name": "stdout",
     "output_type": "stream",
     "text": [
      "brown fox\n"
     ]
    }
   ],
   "source": [
    "import re\n",
    "text = \"The quick brown fox jumps over the lazy dog\"\n",
    "pattern = r\"brown \\w+\"\n",
    "match = re.search(pattern, text)\n",
    "if match:\n",
    "    print(match.group())\n"
   ]
  },
  {
   "cell_type": "markdown",
   "id": "29555189",
   "metadata": {},
   "source": [
    "#### Using group() with an argument, you may extract the text that was matched by a particular group in a regular expression that comprises capturing groups. For instance:"
   ]
  },
  {
   "cell_type": "code",
   "execution_count": 3,
   "id": "ef945a96",
   "metadata": {},
   "outputs": [
    {
     "name": "stdout",
     "output_type": "stream",
     "text": [
      "John\n",
      "Cena\n",
      "johncena@example.com\n"
     ]
    }
   ],
   "source": [
    "import re\n",
    "text = \"John Cena (johncena@example.com)\"\n",
    "pattern = r\"(\\w+) (\\w+) \\((\\w+@\\w+\\.\\w+)\\)\"\n",
    "match = re.search(pattern, text)\n",
    "if match:\n",
    "    print(match.group(1)) # First name\n",
    "    print(match.group(2)) # Last name\n",
    "    print(match.group(3)) # Email address\n"
   ]
  },
  {
   "cell_type": "markdown",
   "id": "885c5525",
   "metadata": {},
   "source": [
    "#### The start() and end() methods of the match object may be used to determine the starting and finishing places of the match in the original string. For instance:"
   ]
  },
  {
   "cell_type": "code",
   "execution_count": 4,
   "id": "de29c4fe",
   "metadata": {},
   "outputs": [
    {
     "name": "stdout",
     "output_type": "stream",
     "text": [
      "10\n",
      "19\n"
     ]
    }
   ],
   "source": [
    "import re\n",
    "text = \"The quick brown fox jumps over the lazy dog\"\n",
    "pattern = r\"brown \\w+\"\n",
    "match = re.search(pattern, text)\n",
    "if match:\n",
    "    print(match.start()) # Starting position of the match\n",
    "    print(match.end()) # Ending position of the match\n"
   ]
  },
  {
   "cell_type": "markdown",
   "id": "3bd2e852",
   "metadata": {},
   "source": [
    "#### Substituting a new string for matched text: To substitute a new string for matched text, use the sub() function of the re module. For instance:"
   ]
  },
  {
   "cell_type": "code",
   "execution_count": 5,
   "id": "18eb8351",
   "metadata": {},
   "outputs": [
    {
     "name": "stdout",
     "output_type": "stream",
     "text": [
      "The quick red bird jumps over the lazy dog\n"
     ]
    }
   ],
   "source": [
    "import re\n",
    "text = \"The quick brown fox jumps over the lazy dog\"\n",
    "pattern = r\"brown \\w+\"\n",
    "new_text = re.sub(pattern, \"red bird\", text)\n",
    "print(new_text)\n"
   ]
  },
  {
   "cell_type": "markdown",
   "id": "92882dbb",
   "metadata": {},
   "source": [
    "### Q7. What is the difference between using a vertical bar (|) as an alteration and using square brackets as a character set?"
   ]
  },
  {
   "cell_type": "markdown",
   "id": "1e2a10c2",
   "metadata": {},
   "source": [
    "#### Ans. Alternative matches in regular expressions may be made using both the vertical bar (|) and square brackets ([]), although they operate in somewhat different ways.\n",
    "\n",
    "#### Two or more possibilities, each of which can fit a different pattern, are divided using the vertical bar |. When using the regular expression cat|dog, for instance, either \"cat\" or \"dog\" will match. The vertical bar establishes a choice between the options, allowing any string that matches any of the options to match the pattern.\n",
    "\n",
    "#### A character set can be made using square brackets []; this character set matches any single character that is included within it. For instance, any string containing \"a\", \"b\", or \"c\" will be matched by the regular expression [abc]. A single character, not a series of characters, is matched by square brackets.\n",
    "\n",
    "#### The primary distinction between the two is that whereas square brackets produce a group of letters, vertical bars divide numerous patterns. In other words, the square brackets match every single character that is present in the collection, but the vertical bar creates a choice between two or more alternate patterns."
   ]
  },
  {
   "cell_type": "code",
   "execution_count": 6,
   "id": "fc718a04",
   "metadata": {},
   "outputs": [
    {
     "name": "stdout",
     "output_type": "stream",
     "text": [
      "dog\n",
      "c\n"
     ]
    }
   ],
   "source": [
    "import re\n",
    "\n",
    "text = \"The quick brown fox jumps over the lazy dog\"\n",
    "pattern1 = r\"cat|dog\"\n",
    "pattern2 = r\"[cdog]\"\n",
    "match1 = re.search(pattern1, text)\n",
    "match2 = re.search(pattern2, text)\n",
    "print(match1.group())\n",
    "print(match2.group()) \n"
   ]
  },
  {
   "cell_type": "markdown",
   "id": "f0fc5949",
   "metadata": {},
   "source": [
    "### Q8. In regular-expression search patterns, why is it necessary to use the raw-string indicator (r)? In   replacement strings?"
   ]
  },
  {
   "cell_type": "markdown",
   "id": "c7cfbcf3",
   "metadata": {},
   "source": [
    "#### Ans. When a string should be considered as a \"raw string,\" it is indicated by the raw-string indication (r) in regular-expression search patterns and replacement strings. A string that is read literally, without any particular interpretation of backslashes or other escape sequences, is referred to as a raw string.\n",
    "\n",
    "#### The raw-string indication is frequently used in regular-expression search patterns to avoid having to escape backslashes and other special characters. For instance, you would often need to escape a backslash character () with another backslash () if you wanted to match it in a regular expression. Instead of having to escape the backslash character when using a raw string, you may just include it as-is:\n",
    "\n"
   ]
  },
  {
   "cell_type": "code",
   "execution_count": 7,
   "id": "b195443b",
   "metadata": {},
   "outputs": [
    {
     "name": "stdout",
     "output_type": "stream",
     "text": [
      "\\\n"
     ]
    }
   ],
   "source": [
    "import re\n",
    "\n",
    "text = \"The \\quick brown fox jumps over the lazy dog\"\n",
    "pattern = r\"\\\\\"\n",
    "match = re.search(pattern, text)\n",
    "print(match.group())\n"
   ]
  },
  {
   "cell_type": "markdown",
   "id": "582001a7",
   "metadata": {},
   "source": [
    "#### The raw-string indication is used in replacement strings to prevent backslashes from being read as escape sequences. For instance, you would need to use a raw string to avoid the backslash being mistaken for an escape sequence if you wanted to replace a matched string with a backslash and the letter \"n\" (i.e., \"n\"):"
   ]
  },
  {
   "cell_type": "code",
   "execution_count": 8,
   "id": "86dc6023",
   "metadata": {},
   "outputs": [
    {
     "name": "stdout",
     "output_type": "stream",
     "text": [
      "The quick brown \\n jumps over the lazy dog\n"
     ]
    }
   ],
   "source": [
    "import re\n",
    "\n",
    "text = \"The quick brown fox jumps over the lazy dog\"\n",
    "pattern = r\"fox\"\n",
    "replacement = r\"\\\\n\"\n",
    "new_text = re.sub(pattern, replacement, text)\n",
    "print(new_text)\n"
   ]
  },
  {
   "cell_type": "code",
   "execution_count": null,
   "id": "c592f919",
   "metadata": {},
   "outputs": [],
   "source": []
  }
 ],
 "metadata": {
  "kernelspec": {
   "display_name": "Python 3 (ipykernel)",
   "language": "python",
   "name": "python3"
  },
  "language_info": {
   "codemirror_mode": {
    "name": "ipython",
    "version": 3
   },
   "file_extension": ".py",
   "mimetype": "text/x-python",
   "name": "python",
   "nbconvert_exporter": "python",
   "pygments_lexer": "ipython3",
   "version": "3.9.13"
  }
 },
 "nbformat": 4,
 "nbformat_minor": 5
}
