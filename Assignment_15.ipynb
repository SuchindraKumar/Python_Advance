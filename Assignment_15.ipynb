{
 "cells": [
  {
   "cell_type": "markdown",
   "id": "77f8883b",
   "metadata": {},
   "source": [
    "### 1.\tWhat are the new features added in Python 3.8 version?"
   ]
  },
  {
   "cell_type": "markdown",
   "id": "269315e2",
   "metadata": {},
   "source": [
    "#### Ans. In October 2019, Python 3.8 was released, bringing with it a number of updates and new features. The following are a few of the Python 3.8's major new features:\n",
    "\n",
    "#### 1.This new syntax for doing assignments inside of expressions using the := operator is known as assignment expressions (The Walrus Operator). In some circumstances, it enables more terse and understandable code.\n",
    "\n",
    "#### 2. This new syntax is used to define function arguments that can only be given by position, not by keyword. Functions may become more user-friendly and intuitive as a result.\n",
    "\n",
    "#### 3. Debugging-friendly string representations of objects can be printed using the = operator with the help of the f-strings Support = (Debugging-friendly String Representations) enhancement.\n",
    "\n",
    "#### 4.Python 3.8 included a number of enhancements to the typing module, including the addition of the TypedDict type and enhanced support for literals and protocols.\n",
    "\n",
    "#### 5.Speed enhancements: Python 3.8 comes with a number of performance enhancements, such as quicker function calls, quicker dictionary searches, and quicker list sorting.\n",
    "\n",
    "#### 6.Additional enhancements: Python 3.8 comes with a number of new functions and enhancements, such as enhanced asyncio support, enhanced traceback handling, and enhanced support for Unix signals."
   ]
  },
  {
   "cell_type": "markdown",
   "id": "f48da237",
   "metadata": {},
   "source": [
    "### 2.\tWhat is monkey patching in Python?"
   ]
  },
  {
   "cell_type": "markdown",
   "id": "8f13757e",
   "metadata": {},
   "source": [
    "#### Ans. With the help of another piece of code, or \"monkey patching,\" an existing module, class, or function can have its behaviour altered at runtime in Python. When you wish to add or alter functionality to existing code without changing the original source code, this might be helpful.\n",
    "\n",
    "#### Everything in Python, including functions, classes, and modules, is an object. This indicates that any of these objects can be changed or replaced at runtime by by giving them a new value. For instance, you may add a new function to the class property to replace a method in a class with a new method:"
   ]
  },
  {
   "cell_type": "code",
   "execution_count": null,
   "id": "ce2fea83",
   "metadata": {},
   "outputs": [],
   "source": [
    "class MyClass:\n",
    "    def my_method(self):\n",
    "        print(\"Original method\")\n",
    "\n",
    "def new_method(self):\n",
    "    print(\"New method\")\n",
    "\n",
    "obj = MyClass()\n",
    "obj.my_method() \n",
    "\n",
    "MyClass.my_method = new_method\n",
    "obj.my_method() \n"
   ]
  },
  {
   "cell_type": "markdown",
   "id": "44f8b0cb",
   "metadata": {},
   "source": [
    "### 3.\tWhat is the difference between a shallow copy and deep copy?"
   ]
  },
  {
   "cell_type": "markdown",
   "id": "39b88245",
   "metadata": {},
   "source": [
    "#### Ans.The two ways to transfer objects from one variable to another in Python are shallow copy and deep copy. The degree of copying is what distinguishes a shallow copy from a deep copy.\n",
    "\n",
    "#### A shallow copy produces a new object with a reference to the old object in its content. As a result, any modifications made to the new object will also have an impact on the old object. In other words, a shallow copy does not produce duplicates of nested items; it merely replicates the top-level object."
   ]
  },
  {
   "cell_type": "code",
   "execution_count": 2,
   "id": "83aa1da7",
   "metadata": {},
   "outputs": [
    {
     "name": "stdout",
     "output_type": "stream",
     "text": [
      "[1, 2, [3, 4]]\n",
      "[1, 2, [5, 4]]\n"
     ]
    }
   ],
   "source": [
    "import copy\n",
    "\n",
    "original_list = [1, 2, [3, 4]]\n",
    "deep_copy = copy.deepcopy(original_list)\n",
    "\n",
    "# Modify the nested list in the deep copy\n",
    "deep_copy[2][0] = 5\n",
    "\n",
    "# Only the deep copy is modified\n",
    "print(original_list) # Output: [1, 2, [3, 4]]\n",
    "print(deep_copy) # Output: [1, 2, [5, 4]]\n"
   ]
  },
  {
   "cell_type": "markdown",
   "id": "a9567796",
   "metadata": {},
   "source": [
    "### 4.\tWhat is the maximum possible length of an identifier?"
   ]
  },
  {
   "cell_type": "markdown",
   "id": "f42f2703",
   "metadata": {},
   "source": [
    "#### Ans. The maximum length of an identifier in Python is not explicitly stated. The maximum length of a string in Python, which is depending on the amount of system memory available, determines the realistic limit for the length of an identifier.\n",
    "\n",
    "#### The maximum length of a string in Python 3 is \"currently bound to sys.maxsize for the default string representation and limited by available memory,\" according to the Python documentation. The maximum value for an integer variable in Python is specified by the sys.maxsize, which ranges from 231-1 to 263-1 depending on the platform.\n",
    "\n",
    "#### For readability and maintainability of the code, it is advised to keep identifier length appropriate and understandable. To make variable names, function names, and method names easier to read and comprehend, the PEP 8 style guide for Python advises using lowercase letters and underscores to separate words."
   ]
  },
  {
   "cell_type": "markdown",
   "id": "cd67c41b",
   "metadata": {},
   "source": [
    "### 5.\tWhat is generator comprehension?"
   ]
  },
  {
   "cell_type": "markdown",
   "id": "6734a9a2",
   "metadata": {},
   "source": [
    "#### Ans. In Python, making an iterator is simple and memory-effective by using a generator comprehension, sometimes referred to as a generator expression. In contrast to a list comprehension, it creates a series of values as they are needed, rather than building a list in advance.\n",
    "\n",
    "#### Similar to a list comprehension, a generator comprehension uses parentheses rather than square brackets in its syntax. For instance:"
   ]
  },
  {
   "cell_type": "code",
   "execution_count": 10,
   "id": "eeb65460",
   "metadata": {},
   "outputs": [
    {
     "name": "stdout",
     "output_type": "stream",
     "text": [
      "<generator object <genexpr> at 0x000001747304C900>\n",
      "0\n",
      "1\n",
      "4\n",
      "9\n"
     ]
    }
   ],
   "source": [
    "gen_comp = (x * x for x in range(10)) \n",
    "print(gen_comp)\n",
    "print(next(gen_comp))\n",
    "print(next(gen_comp))\n",
    "print(next(gen_comp))\n",
    "print(next(gen_comp))"
   ]
  },
  {
   "cell_type": "code",
   "execution_count": null,
   "id": "b9b1e61e",
   "metadata": {},
   "outputs": [],
   "source": []
  }
 ],
 "metadata": {
  "kernelspec": {
   "display_name": "Python 3 (ipykernel)",
   "language": "python",
   "name": "python3"
  },
  "language_info": {
   "codemirror_mode": {
    "name": "ipython",
    "version": 3
   },
   "file_extension": ".py",
   "mimetype": "text/x-python",
   "name": "python",
   "nbconvert_exporter": "python",
   "pygments_lexer": "ipython3",
   "version": "3.9.13"
  }
 },
 "nbformat": 4,
 "nbformat_minor": 5
}
