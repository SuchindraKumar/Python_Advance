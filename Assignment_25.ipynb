{
 "cells": [
  {
   "cell_type": "markdown",
   "id": "32249204",
   "metadata": {},
   "source": [
    "### Q1. What is the distinction between a numpy array and a pandas data frame? Is there a way to convert between the two if there is?"
   ]
  },
  {
   "cell_type": "markdown",
   "id": "60af2eef",
   "metadata": {},
   "source": [
    "#### Ans. The primary distinction between a Pandas DataFrame and a NumPy array is that the latter is a two-dimensional heterogeneous table with named axes while the former is a multi-dimensional homogeneous array of fixed-size objects (rows and columns).\n",
    "\n",
    "#### While Pandas DataFrames are frequently utilised for data analysis and manipulation jobs, NumPy arrays are primarily employed for numerical computations and mathematical operations.\n",
    "\n",
    "#### Pandas DataFrames allow distinct data types for each column, but NumPy arrays can only have a single data type for all of their members. Moreover, Pandas DataFrames contain extra capabilities like indexing, row labels, and column labels.\n",
    "\n"
   ]
  },
  {
   "cell_type": "code",
   "execution_count": 1,
   "id": "3c01b03c",
   "metadata": {},
   "outputs": [
    {
     "name": "stdout",
     "output_type": "stream",
     "text": [
      "[[1 4]\n",
      " [2 5]\n",
      " [3 6]]\n"
     ]
    }
   ],
   "source": [
    "import pandas as pd\n",
    "import numpy as np\n",
    "\n",
    "# Create a DataFrame\n",
    "df = pd.DataFrame({'a': [1, 2, 3], 'b': [4, 5, 6]})\n",
    "\n",
    "# Convert DataFrame to NumPy array\n",
    "arr = df.to_numpy()\n",
    "\n",
    "print(arr)\n"
   ]
  },
  {
   "cell_type": "code",
   "execution_count": 2,
   "id": "209f51e4",
   "metadata": {},
   "outputs": [
    {
     "name": "stdout",
     "output_type": "stream",
     "text": [
      "   a  b  c\n",
      "0  1  2  3\n",
      "1  4  5  6\n"
     ]
    }
   ],
   "source": [
    "import numpy as np\n",
    "import pandas as pd\n",
    "\n",
    "# Create a NumPy array\n",
    "arr = np.array([[1, 2, 3], [4, 5, 6]])\n",
    "\n",
    "# Convert NumPy array to DataFrame\n",
    "df = pd.DataFrame(arr, columns=['a', 'b', 'c'])\n",
    "\n",
    "print(df)\n"
   ]
  },
  {
   "cell_type": "markdown",
   "id": "41ec3cd2",
   "metadata": {},
   "source": [
    "### Q2. What can go wrong when an user enters in a stock-ticker symbol, and how do you handle it?"
   ]
  },
  {
   "cell_type": "markdown",
   "id": "3ee18ede",
   "metadata": {},
   "source": [
    "#### Ans. Many problems might occur when a user enters a stock ticker symbol, including:\n",
    "\n",
    "#### Unrecognized or invalid symbol: The user may input an unrecognised or invalid stock ticker symbol. This may be the result of a mistake, an out-of-date symbol, or a business that isn't publicly traded. In order to manage this, the programme has to check the input and inform the user when a symbol is incorrect or not recognised.\n",
    "\n",
    "#### The user may specify a number of stock ticker symbols, each separated by a comma or other separator. The programme should divide the input and treat each symbol separately to manage this.\n",
    "\n",
    "#### Stock ticker symbols may be case sensitive, allowing users to enter them in either capital letters or lowercase letters. The programme should normalise the input to a consistent scenario before processing in order to manage this.\n",
    "\n",
    "#### Errors might arise when stock data is retrieved from an API owing to API restrictions or problems with network connectivity. In order to deal with this, the application should give the user the proper error messages and, where necessary, integrate retry methods.\n",
    "\n",
    "#### A reliable error-handling system has to be added to the programme in order to address these problems. This might involve fallback alternatives, error messages, retry systems, and input validation. The programme can also propose to the user other reliable sources of stock data or appropriate ticker symbols for stocks."
   ]
  },
  {
   "cell_type": "markdown",
   "id": "9579e586",
   "metadata": {},
   "source": [
    "### Q3. Identify some of the plotting techniques that are used to produce a stock-market chart."
   ]
  },
  {
   "cell_type": "markdown",
   "id": "99179068",
   "metadata": {},
   "source": [
    "#### Ans.A stock market chart is created using a variety of charting techniques, some of which include:\n",
    "\n",
    "#### Line charts: These visual representations of stock closing values over time are widely utilised. They are straightforward and useful for recognising patterns and trends.\n",
    "\n",
    "#### Candlestick charts: During a specific time period, candlestick charts are used to display the opening, closing, high, and low values of a stock. They offer a more thorough perspective of the price movement and may be used to spot patterns like price trends and reversal indications.\n",
    "\n",
    "#### Bar charts: Bar charts show the open, high, low, and close prices of a stock over a specific time period. They are comparable to candlestick charts. To illustrate the price range, however, they utilise vertical bars rather than candlesticks.\n",
    "\n",
    "#### Area Chart: Area charts are used to show how the overall worth of a company or portfolio has changed over time. The relative performance of several stocks or portfolios may be compared using them.\n",
    "\n",
    "\n",
    "#### Scatter plot:The link between two or more stocks or other financial instruments may be seen using scatterplots. the same.\n",
    "\n",
    "#### Heat Maps:  Heat maps are a useful tool for comparing the performance of several stocks or other financial instruments over a certain time period. They are helpful for finding patterns and trends in huge datasets.\n",
    "\n",
    "#### These methods may be used singly or in combination to produce a variety of stock market charts that provide information about the performance of stocks over time."
   ]
  },
  {
   "cell_type": "markdown",
   "id": "e2bc6e9d",
   "metadata": {},
   "source": [
    "### Q4. Why is it essential to print a legend on a stock market chart?"
   ]
  },
  {
   "cell_type": "markdown",
   "id": "9b4951f0",
   "metadata": {},
   "source": [
    "#### Ans. A legend must be printed on a stock market chart because it gives the data being presented context and clarity. The symbols or colours used in the chart are explained in the legend, which makes it easier for readers to comprehend the data. Readers could find it difficult to understand the chart without a legend, especially if it comprises many data series or various types of data.\n",
    "\n",
    "#### For instance, a candlestick chart's legend may list the particular data series being plotted, the time period each candlestick represents, and the colours and symbols used to denote bullish and bearish price moves. The name of each stock or data series being plotted, the time period that each point on the line represents, and any pertinent scaling or normalisation information may all be included in a line chart's legend.\n",
    "\n",
    "#### Readers may compare various data series, comprehend the data being shown, and spot trends or patterns in the data by placing a legend on a stock market chart. When developing stock market charts or any other sort of data visualisation, the legend is a crucial component that should not be disregarded."
   ]
  },
  {
   "cell_type": "markdown",
   "id": "c4b756c9",
   "metadata": {},
   "source": [
    "### Q5. What is the best way to limit the length of a pandas data frame to less than a year?"
   ]
  },
  {
   "cell_type": "markdown",
   "id": "7aaf77f9",
   "metadata": {},
   "source": [
    "#### You may use the datetime feature of pandas to filter the data based on a certain time period to reduce the size of a pandas data frame to less than a year. Here is an illustration of how to accomplish it:\n",
    "\n",
    "#### If you wish to restrict the dates in your data frame's \"date\" column to those that are shorter than a year:"
   ]
  },
  {
   "cell_type": "code",
   "execution_count": 4,
   "id": "b27f64a1",
   "metadata": {},
   "outputs": [
    {
     "name": "stdout",
     "output_type": "stream",
     "text": [
      "<class 'pandas.core.frame.DataFrame'>\n",
      "RangeIndex: 193 entries, 0 to 192\n",
      "Data columns (total 2 columns):\n",
      " #   Column         Non-Null Count  Dtype \n",
      "---  ------         --------------  ----- \n",
      " 0   beer_servings  193 non-null    int64 \n",
      " 1   continent      193 non-null    object\n",
      "dtypes: int64(1), object(1)\n",
      "memory usage: 13.7 KB\n",
      "None\n"
     ]
    }
   ],
   "source": [
    "import pandas as pd\n",
    "\n",
    "cols = ['beer_servings', 'continent']\n",
    "small_drinks = pd.read_csv('http://bit.ly/drinksbycountry', \n",
    "                            usecols = cols)\n",
    "print(small_drinks.info(memory_usage='deep'))\n"
   ]
  },
  {
   "cell_type": "code",
   "execution_count": 5,
   "id": "f3909f9f",
   "metadata": {},
   "outputs": [
    {
     "name": "stdout",
     "output_type": "stream",
     "text": [
      "<class 'pandas.core.frame.DataFrame'>\n",
      "RangeIndex: 193 entries, 0 to 192\n",
      "Data columns (total 2 columns):\n",
      " #   Column         Non-Null Count  Dtype   \n",
      "---  ------         --------------  -----   \n",
      " 0   beer_servings  193 non-null    int64   \n",
      " 1   continent      193 non-null    category\n",
      "dtypes: category(1), int64(1)\n",
      "memory usage: 2.4 KB\n",
      "None\n"
     ]
    }
   ],
   "source": [
    "import pandas as pd\n",
    "\n",
    "dtypes = {'continent':'category'}\n",
    "cols = ['beer_servings', 'continent']\n",
    "smaller_drinks = pd.read_csv('http://bit.ly/drinksbycountry', \n",
    "                              usecols = cols, \n",
    "                              dtype = dtypes)\n",
    "print(smaller_drinks.info(memory_usage='deep'))"
   ]
  },
  {
   "cell_type": "markdown",
   "id": "f751c797",
   "metadata": {},
   "source": [
    "### Q6. What is the definition of a 180-day moving average?"
   ]
  },
  {
   "cell_type": "markdown",
   "id": "73a289db",
   "metadata": {},
   "source": [
    "#### Ans. A 180-day moving average is a technical analysis indicator used to examine trends in financial markets, notably in equities or indexes. It is determined by averaging the closing prices of a securities over the previous 180 days (or any other specified time period). The reason the moving average is referred to as \"moving\" is that it is computed on a daily basis, which means that each day, the oldest price in the calculation is subtracted and the most recent price is added.\n",
    "\n",
    "#### A common indicator is the 180-day moving average since it may be used to smooth out short-term market swings and show the underlying trend more clearly. A security is often regarded to be in an uptrend when its current price is higher than its 180-day moving average, and in a downtrend when its price is lower.\n",
    "\n",
    "#### The 180-day moving average is frequently used with other technical indicators and chart patterns by traders and analysts to make trading choices. It's vital to remember, though, that no one signal or method of study can reliably forecast future market moves."
   ]
  },
  {
   "cell_type": "markdown",
   "id": "2e0b7298",
   "metadata": {},
   "source": [
    "### Q7. Did the chapter's final example use \"indirect\" importing? If so, how exactly do you do it?"
   ]
  },
  {
   "cell_type": "markdown",
   "id": "d677b87b",
   "metadata": {},
   "source": [
    "#### Absolutely, \"indirect\" importing is used in the chapter's final example. Instead of directly importing another module, indirect importing enables a module to do so via a third module. The amount of direct imports across modules may be decreased and big codebases can be organised with the help of this.\n",
    "\n",
    "#### In the last example, the data analysis.py module is imported indirectly by the dashboard.py module via the data source.py module. This is the code in its condensed form:"
   ]
  },
  {
   "cell_type": "code",
   "execution_count": 1,
   "id": "ae1024fd",
   "metadata": {},
   "outputs": [],
   "source": [
    "# dashboard.py\n",
    "\n",
    "from data_source import load_data\n",
    "\n",
    "def main():\n",
    "    # load data and perform other dashboard tasks\n",
    "    load_data(\"data.csv\")\n",
    "    pass\n",
    "\n",
    "if __name__ == \"__main__\":\n",
    "    main()\n"
   ]
  },
  {
   "cell_type": "code",
   "execution_count": null,
   "id": "b9466d19",
   "metadata": {},
   "outputs": [],
   "source": []
  }
 ],
 "metadata": {
  "kernelspec": {
   "display_name": "Python 3 (ipykernel)",
   "language": "python",
   "name": "python3"
  },
  "language_info": {
   "codemirror_mode": {
    "name": "ipython",
    "version": 3
   },
   "file_extension": ".py",
   "mimetype": "text/x-python",
   "name": "python",
   "nbconvert_exporter": "python",
   "pygments_lexer": "ipython3",
   "version": "3.9.13"
  }
 },
 "nbformat": 4,
 "nbformat_minor": 5
}
