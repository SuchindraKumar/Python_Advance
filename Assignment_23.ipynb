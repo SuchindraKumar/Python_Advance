{
 "cells": [
  {
   "cell_type": "markdown",
   "id": "81678b14",
   "metadata": {},
   "source": [
    "### Q1. If you have any, what are your choices for increasing the comparison between different figures on the same graph?"
   ]
  },
  {
   "cell_type": "markdown",
   "id": "6273457a",
   "metadata": {},
   "source": [
    "#### Ans. Increasing the comparison between several figures on the same graph can be done in a number of ways:\n",
    "\n",
    "#### Using various colours: Using distinct colours for each figure is one technique to improve comparisons between them. This may be accomplished by utilising the colour option in matplotlib to define a distinct colour for each plot.\n",
    "\n",
    "#### Employing several line styles: Utilizing various line styles for each figure is another technique to improve comparisons between various figures. The linestyle argument in matplotlib may be used to set a distinct line style for each plot.\n",
    "\n",
    "#### Utilizing markers is another method of improving comparisons between various numbers. Using the marker argument in matplotlib, markers may be added to each plot.\n",
    "\n",
    "#### Using subplots: Subplots can be useful when numerous plots need to be displayed on a single figure. Subplots make it simpler to compare different figures by allowing each plot to be displayed in its own smaller plot within the main figure.\n",
    "\n",
    "#### Normalizing the y-axis: If the data in the figures have a wide range, normalising the y-axis to a standard scale may be beneficial. The ylim option in matplotlib may be used to specify the y-axis boundaries in order to do this."
   ]
  },
  {
   "cell_type": "markdown",
   "id": "b5f0e4ab",
   "metadata": {},
   "source": [
    "### Q2. Can you explain the benefit of compound interest over a higher rate of interest that does not compound after reading this chapter?"
   ]
  },
  {
   "cell_type": "markdown",
   "id": "81f3bcfc",
   "metadata": {},
   "source": [
    "#### Ans. Yeah, I can describe why compound interest is preferable to a higher rate of interest that does not compound. The interest computed on the principle amount and the total interest from prior periods is known as compound interest. In other words, interest is computed on the new total after the principle and interest generated during each period have been added. This implies that interest accrued throughout each period grows over time.\n",
    "\n",
    "#### If the interest rate does not compound, on the other hand, the interest received during each period is solely computed on the principal sum. The interest earned throughout each period is therefore fixed and does not rise over time.\n",
    "\n",
    "#### The total amount of interest collected over time will be smaller in a non-compounding scenario than it would be in a compounding one, even though the interest rate may be higher. The total interest collected might rise over time due to the compounding impact of compound interest, increasing the overall return on investment."
   ]
  },
  {
   "cell_type": "markdown",
   "id": "78b084b1",
   "metadata": {},
   "source": [
    "### Q3. What is a histogram, exactly? Name a numpy method for creating such a graph."
   ]
  },
  {
   "cell_type": "markdown",
   "id": "a242d56d",
   "metadata": {},
   "source": [
    "#### Ans. A histogram is a graph that shows how a dataset is distributed. There are a number of rectangles in it, and the size of each one depends on how frequently the data occurs. Typically, the rectangles are organised in a bar-like pattern, with each bar denoting a particular interval or bin of the data.\n",
    "\n",
    "#### Numpy's numpy.histogram function is used to create histograms (). It accepts an array of data and outputs two arrays, one for the counts and the other for the bins. The bins array represents the borders of the bins, and the counts array the number of data points that fall within each bin. The generated arrays may then be displayed to produce a histogram using a bar chart or other visualisation methods."
   ]
  },
  {
   "cell_type": "markdown",
   "id": "2b6cd219",
   "metadata": {},
   "source": [
    "### Q4. If necessary, how do you change the aspect ratios between the X and Y axes?"
   ]
  },
  {
   "cell_type": "markdown",
   "id": "0f1a4c70",
   "metadata": {},
   "source": [
    "#### Ans. You would need to adjust the axes' scaling in order to change the aspect ratio between the X and Y axes. The majority of graphing or plotting applications will provide an option to change the aspect ratio.\n",
    "\n",
    "#### Increase the scale of the X-axis to make it longer and narrower, and reduce the scaling of the Y-axis to make it shorter and broader, if you want the X-axis to be longer than the Y-axis. Alternately, if you want the Y-axis to be longer than the X-axis, you may scale up the Y-axis and scale down the X-axis.\n",
    "\n",
    "\n",
    "#### It's crucial to remember that altering the aspect ratio might have an impact on how viewers understand the material being presented, so you should take your intended message into account before making any changes."
   ]
  },
  {
   "cell_type": "markdown",
   "id": "1a95587e",
   "metadata": {},
   "source": [
    "### Q5. Compare and contrast the three types of array multiplication between two numpy arrays: dot product, outer product, and regular multiplication of two numpy arrays."
   ]
  },
  {
   "cell_type": "markdown",
   "id": "ff0df9e8",
   "metadata": {},
   "source": [
    "#### Ans. Dot product, outer product, and element-wise multiplication are the three primary methods in NumPy for multiplying two arrays. This are how they contrast and compare:\n",
    "\n",
    "#### Dot product: The dot function in NumPy may be used to calculate the dot product of two arrays. It accepts two arrays as input and outputs a scalar value that represents the result of multiplying the two arrays element-by-element.\n",
    "\n",
    "#### For instance, the dot product of two arrays of equal size, A and B, is given by:"
   ]
  },
  {
   "cell_type": "code",
   "execution_count": 4,
   "id": "be983749",
   "metadata": {},
   "outputs": [
    {
     "data": {
      "text/plain": [
       "32"
      ]
     },
     "execution_count": 4,
     "metadata": {},
     "output_type": "execute_result"
    }
   ],
   "source": [
    "import numpy as np\n",
    "\n",
    "A = [1,2,3]\n",
    "B = [4,5,6]\n",
    "np.dot(A,B)\n"
   ]
  },
  {
   "cell_type": "markdown",
   "id": "d2c798e0",
   "metadata": {},
   "source": [
    "#### The outer function in NumPy may also be used to calculate the outer product of two arrays. It accepts two arrays as input and outputs a new array with a shape equal to the product of the input arrays' shapes.\n",
    "\n",
    "\n",
    "#### For instance, the outer product of two arrays A and B of sizes (m,) and (n,), respectively, is a matrix of size (m, n), denoted by:"
   ]
  },
  {
   "cell_type": "code",
   "execution_count": 5,
   "id": "6e42c7bc",
   "metadata": {},
   "outputs": [
    {
     "data": {
      "text/plain": [
       "array([[ 4,  5,  6],\n",
       "       [ 8, 10, 12],\n",
       "       [12, 15, 18]])"
      ]
     },
     "execution_count": 5,
     "metadata": {},
     "output_type": "execute_result"
    }
   ],
   "source": [
    "np.outer(A,B)\n"
   ]
  },
  {
   "cell_type": "markdown",
   "id": "688944c9",
   "metadata": {},
   "source": [
    "#### Multiplication by elements: The multiplication operator (*) may be used to calculate the element-wise multiplication of two arrays. Each element is the result of the corresponding elements in the input arrays, and it accepts two arrays as input and outputs a new array with the same form as the input arrays.\n",
    "\n",
    "#### For instance, the element-wise multiplication of two arrays of the same size, A and B, is given by:"
   ]
  },
  {
   "cell_type": "code",
   "execution_count": 14,
   "id": "aac79e20",
   "metadata": {},
   "outputs": [
    {
     "data": {
      "text/plain": [
       "array([[ 5, 12],\n",
       "       [21, 32]])"
      ]
     },
     "execution_count": 14,
     "metadata": {},
     "output_type": "execute_result"
    }
   ],
   "source": [
    "import numpy as np\n",
    "A = np.array([[1,2],[3,4]])\n",
    "B = np.array([[5,6],[7,8]])\n",
    "np.multiply(A,B)"
   ]
  },
  {
   "cell_type": "markdown",
   "id": "b8d42904",
   "metadata": {},
   "source": [
    "### Q6. Before you buy a home, which numpy function will you use to measure your monthly mortgage payment?"
   ]
  },
  {
   "cell_type": "markdown",
   "id": "9f09e42e",
   "metadata": {},
   "source": [
    "#### Ans. When purchasing a property, you may estimate your monthly mortgage payment using the NumPy pmt function ().\n",
    "\n",
    "#### The fixed monthly payment needed to pay off a loan or mortgage with a fixed interest rate, a fixed number of installments, and a fixed loan amount is calculated using the pmt() function. The loan amount, the number of payments, and the interest rate are the three inputs.\n",
    "\n",
    "\n",
    "#### With a loan of $500,000 with a 4% interest rate and a 30-year duration, here is an example of how to use pmt() to get the monthly mortgage payment:"
   ]
  },
  {
   "cell_type": "code",
   "execution_count": 27,
   "id": "63d79f0b",
   "metadata": {},
   "outputs": [
    {
     "name": "stdout",
     "output_type": "stream",
     "text": [
      "Monthly mortgage payment: $2387.08\n"
     ]
    }
   ],
   "source": [
    "import numpy_financial as npf\n",
    "\n",
    "loan_amount = 500000\n",
    "interest_rate = 0.04/12\n",
    "num_payments = 30*12\n",
    "\n",
    "monthly_payment = -1*npf.pmt(interest_rate, num_payments, loan_amount)\n",
    "\n",
    "print(\"Monthly mortgage payment: $%.2f\" % monthly_payment)\n"
   ]
  },
  {
   "cell_type": "markdown",
   "id": "9a63b05a",
   "metadata": {},
   "source": [
    "### Q7. Can string data be stored in numpy arrays? If so, list at least one restriction that applies to this data."
   ]
  },
  {
   "cell_type": "markdown",
   "id": "73a797fa",
   "metadata": {},
   "source": [
    "#### Ans. You can store string data in NumPy arrays, yes. Unfortunately, these statistics are subject to the following limitations:\n",
    "\n",
    "#### A string array's elements must all be the same length: A string array's elements must all be the same length, unlike numeric arrays whose members might have different lengths. This indicates that the array is effectively an array of strings with fixed lengths.\n",
    "\n",
    "#### Processing string data can occasionally take longer than processing numeric data, particularly when operations that involve comparing or altering strings are involved. This is because some sorts of optimizations that are available with numeric data are more difficult to implement for strings because they are variable-length objects.\n",
    "\n",
    "#### Memory consumption may be higher: String data normally needs more memory to store than numeric data, which may have an influence on the speed and scalability of your code, particularly if you are working with very big datasets.\n",
    "\n",
    "#### The following operations might not be supported: It's possible that string data cannot be supported by some operations that are often used with numeric data, such as determining the mean or median of an array. In general, while working with string data, you need to be extra cautious to make sure that the operations you are carrying out make sense and are supported by NumPy."
   ]
  },
  {
   "cell_type": "code",
   "execution_count": null,
   "id": "d45b90f2",
   "metadata": {},
   "outputs": [],
   "source": []
  }
 ],
 "metadata": {
  "kernelspec": {
   "display_name": "Python 3 (ipykernel)",
   "language": "python",
   "name": "python3"
  },
  "language_info": {
   "codemirror_mode": {
    "name": "ipython",
    "version": 3
   },
   "file_extension": ".py",
   "mimetype": "text/x-python",
   "name": "python",
   "nbconvert_exporter": "python",
   "pygments_lexer": "ipython3",
   "version": "3.9.13"
  }
 },
 "nbformat": 4,
 "nbformat_minor": 5
}
