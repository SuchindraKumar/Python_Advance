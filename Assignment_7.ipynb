{
 "cells": [
  {
   "cell_type": "markdown",
   "id": "2f43c350",
   "metadata": {},
   "source": [
    "### Q1. What is the purpose of the try statement?"
   ]
  },
  {
   "cell_type": "markdown",
   "id": "f1fff7e7",
   "metadata": {},
   "source": [
    "#### Ans. A block of code that could produce an exception during execution is defined by the try statement in Python. One or more except clauses that outline how to handle particular sorts of potential exceptions are placed after the try block."
   ]
  },
  {
   "cell_type": "code",
   "execution_count": 1,
   "id": "8191bab9",
   "metadata": {},
   "outputs": [
    {
     "name": "stdout",
     "output_type": "stream",
     "text": [
      "Index Out of Bound.\n"
     ]
    }
   ],
   "source": [
    "try:\n",
    "    \n",
    "    even_numbers = [2,4,6,8]\n",
    "    print(even_numbers[5])\n",
    "\n",
    "except ZeroDivisionError:\n",
    "    print(\"Denominator cannot be 0.\")\n",
    "    \n",
    "except IndexError:\n",
    "    print(\"Index Out of Bound.\")\n"
   ]
  },
  {
   "cell_type": "markdown",
   "id": "99ca3b0f",
   "metadata": {},
   "source": [
    "### Q2. What are the two most popular try statement variations?"
   ]
  },
  {
   "cell_type": "markdown",
   "id": "39647f1c",
   "metadata": {},
   "source": [
    "#### Ans. 1. Use the try-except statement to catch and handle particular exceptions that could be thrown in the try block. An example of a try-except statement's generic syntax is:"
   ]
  },
  {
   "cell_type": "code",
   "execution_count": 2,
   "id": "744b3de2",
   "metadata": {},
   "outputs": [
    {
     "name": "stdout",
     "output_type": "stream",
     "text": [
      "Index Out of Bound.\n"
     ]
    }
   ],
   "source": [
    "try:\n",
    "    \n",
    "    even_numbers = [2,4,6,8]\n",
    "    print(even_numbers[5])\n",
    "\n",
    "except ZeroDivisionError:\n",
    "    print(\"Denominator cannot be 0.\")\n",
    "    \n",
    "except IndexError:\n",
    "    print(\"Index Out of Bound.\")\n"
   ]
  },
  {
   "cell_type": "markdown",
   "id": "a8560991",
   "metadata": {},
   "source": [
    "#### 2. try-except-else-finally statement: TThe second try-except-else-finally sentence is: This try-except statement extension allows for the inclusion of optional else and finally clauses. The finally block includes code that is always performed, regardless of whether an exception was thrown or not, whereas the otherwise block contains code that is only executed if exceptions are raised in the try block. A try-except-else-finally sentence has the following basic syntax:"
   ]
  },
  {
   "cell_type": "code",
   "execution_count": 3,
   "id": "1832f9c9",
   "metadata": {},
   "outputs": [],
   "source": [
    "try:\n",
    "    # block of code that may raise an exception\n",
    "    ...\n",
    "except ExceptionType1:\n",
    "    # exception handling code for ExceptionType1\n",
    "    ...\n",
    "except ExceptionType2:\n",
    "    # exception handling code for ExceptionType2\n",
    "    ...\n",
    "else:\n",
    "    # optional block of code that is executed if no exception is raised\n",
    "    ...\n",
    "finally:\n",
    "    # optional block of cleanup code that is always executed, whether an exception is raised or not\n",
    "    ...\n"
   ]
  },
  {
   "cell_type": "markdown",
   "id": "cdecf3de",
   "metadata": {},
   "source": [
    "### Q3. What is the purpose of the raise statement?"
   ]
  },
  {
   "cell_type": "markdown",
   "id": "e8cc1d44",
   "metadata": {},
   "source": [
    "#### Ans. TIn Python, an exception can be raised directly using the raise command. It enables the programmer to create unique exceptions or to raise an exception again after it has already been caught and dealt with in an earlier try block. The raise statement's basic grammar is as follows:"
   ]
  },
  {
   "cell_type": "code",
   "execution_count": 9,
   "id": "f0cb8d17",
   "metadata": {},
   "outputs": [
    {
     "ename": "Exception",
     "evalue": "Sorry, no numbers below zero",
     "output_type": "error",
     "traceback": [
      "\u001b[1;31m---------------------------------------------------------------------------\u001b[0m",
      "\u001b[1;31mException\u001b[0m                                 Traceback (most recent call last)",
      "\u001b[1;32m~\\AppData\\Local\\Temp\\ipykernel_21148\\1619019459.py\u001b[0m in \u001b[0;36m<module>\u001b[1;34m\u001b[0m\n\u001b[0;32m      2\u001b[0m \u001b[1;33m\u001b[0m\u001b[0m\n\u001b[0;32m      3\u001b[0m \u001b[1;32mif\u001b[0m \u001b[0mx\u001b[0m \u001b[1;33m<\u001b[0m \u001b[1;36m0\u001b[0m\u001b[1;33m:\u001b[0m\u001b[1;33m\u001b[0m\u001b[1;33m\u001b[0m\u001b[0m\n\u001b[1;32m----> 4\u001b[1;33m     \u001b[1;32mraise\u001b[0m \u001b[0mException\u001b[0m\u001b[1;33m(\u001b[0m\u001b[1;34m\"Sorry, no numbers below zero\"\u001b[0m\u001b[1;33m)\u001b[0m\u001b[1;33m\u001b[0m\u001b[1;33m\u001b[0m\u001b[0m\n\u001b[0m",
      "\u001b[1;31mException\u001b[0m: Sorry, no numbers below zero"
     ]
    }
   ],
   "source": [
    "x = -1\n",
    "\n",
    "if x < 0:\n",
    "    raise Exception(\"Sorry, no numbers below zero\")"
   ]
  },
  {
   "cell_type": "markdown",
   "id": "572d99ec",
   "metadata": {},
   "source": [
    "### Q4. What does the assert statement do, and what other statement is it like?"
   ]
  },
  {
   "cell_type": "markdown",
   "id": "f60c0c37",
   "metadata": {},
   "source": [
    "#### Ans. In Python, the assert statement is used to indicate that a certain condition is true. When given an expression, it checks to see if it evaluates to True or False and throws an AssertionError exception if it does. The assert statement's basic syntax is as follows:"
   ]
  },
  {
   "cell_type": "code",
   "execution_count": 6,
   "id": "bd963fae",
   "metadata": {},
   "outputs": [],
   "source": [
    "def discount(price, dc):\n",
    "    new_price = int(price * (1.0 - dc))\n",
    "\n",
    "    assert 0 <= new_price, \"Price is less than 0.\"\n",
    "    assert new_price <= price, \"Price is more than original price\"\n",
    "\n",
    "    return new_price"
   ]
  },
  {
   "cell_type": "code",
   "execution_count": 7,
   "id": "54cf7fde",
   "metadata": {},
   "outputs": [
    {
     "data": {
      "text/plain": [
       "0"
      ]
     },
     "execution_count": 7,
     "metadata": {},
     "output_type": "execute_result"
    }
   ],
   "source": [
    "discount(0,50)"
   ]
  },
  {
   "cell_type": "markdown",
   "id": "2eeac21b",
   "metadata": {},
   "source": [
    "### Q5. What is the purpose of the with/as argument, and what other statement is it like?"
   ]
  },
  {
   "cell_type": "markdown",
   "id": "ce25721c",
   "metadata": {},
   "source": [
    "#### Ans. Python's with/as statement is used to streamline the administration of resources like files, network sockets, and database connections that must be opened and closed in a precise order. Even in the case of exceptions or other failures, the with/as statement makes sure that the resources are correctly released when they are no longer required."
   ]
  },
  {
   "cell_type": "code",
   "execution_count": 10,
   "id": "0ec7ca12",
   "metadata": {},
   "outputs": [],
   "source": [
    "with open('file_path', 'w') as file:\n",
    "    file.write('hello world !')"
   ]
  },
  {
   "cell_type": "code",
   "execution_count": null,
   "id": "24a4544b",
   "metadata": {},
   "outputs": [],
   "source": []
  }
 ],
 "metadata": {
  "kernelspec": {
   "display_name": "Python 3 (ipykernel)",
   "language": "python",
   "name": "python3"
  },
  "language_info": {
   "codemirror_mode": {
    "name": "ipython",
    "version": 3
   },
   "file_extension": ".py",
   "mimetype": "text/x-python",
   "name": "python",
   "nbconvert_exporter": "python",
   "pygments_lexer": "ipython3",
   "version": "3.9.13"
  }
 },
 "nbformat": 4,
 "nbformat_minor": 5
}
