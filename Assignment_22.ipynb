{
 "cells": [
  {
   "cell_type": "markdown",
   "id": "76ef9b44",
   "metadata": {},
   "source": [
    "### Q1. What are the benefits of the built-in array package, if any?"
   ]
  },
  {
   "cell_type": "markdown",
   "id": "633611ba",
   "metadata": {},
   "source": [
    "#### Ans. Python's built-in array module offers a number of advantages, including:\n",
    "\n",
    "#### Memory efficiency: The array package uses less memory than other data structures like lists since it is intended to hold homogenous data types in a single contiguous block of memory.\n",
    "\n",
    "#### Faster access: When working with big data sets, accessing the elements of an array is faster than doing so with other data structures because the components are stored in contiguous memory regions.\n",
    "\n",
    "#### The array package is particularly helpful for storing and processing huge numerical data sets. Effective manipulation of numerical data. It offers functions for carrying out tasks like sorting, searching, and filtering, and supports a variety of numeric data types like integers, floating, and doubles.\n",
    "\n",
    "#### Data can be saved and transported effectively in binary format thanks to the array package, which is very helpful when working with big data sets that need to be sent across networks.\n",
    "\n",
    "#### Integration with other libraries: The NumPy and SciPy libraries, which are often used for scientific computing and data analysis, are integrated with the array package. This makes it possible for users to take use of each library's advantages and provides easy interchange across various packages.\n",
    "\n",
    "#### All things considered, the array package is a helpful tool for working with homogenous data sets, especially when handling huge numerical data sets that need fast storage and processing."
   ]
  },
  {
   "cell_type": "markdown",
   "id": "b290ab6a",
   "metadata": {},
   "source": [
    "### Q2. What are some of the array package's limitations?"
   ]
  },
  {
   "cell_type": "markdown",
   "id": "f6fee8da",
   "metadata": {},
   "source": [
    "#### Ans. Moreover, the Python array package has various restrictions, such as:\n",
    "\n",
    "#### Homogeneous data types: The array package is meant to deal with homogeneous data types exclusively, which means that it cannot hold components of multiple data types in the same array. When elements of several data kinds must be kept together, this may be a limitation.\n",
    "\n",
    "#### Fixed size: An array's size is predetermined and cannot be altered dynamically. If the array needs to have more items, a new array with a bigger size must be constructed, and the elements from the current array must be copied over.\n",
    "\n",
    "#### Restricted functionality: While the array package offers certain fundamental operations for working with arrays, more complex capabilities offered in other data structures like lists and dictionaries are absent from it. For instance, actions like slicing, adding, or inserting items are not supported by arrays.\n",
    "\n",
    "#### Just supporting integer-based indexing, the array package has limited support for more complex indexing, which might be problematic in some situations.\n",
    "\n",
    "#### Just a limited range of non-numeric data types are supported by the array package, which is primarily built to store and work with numerical data types. Despite the fact that it can store various data types like strings or characters, it does not offer any particular support for them.\n"
   ]
  },
  {
   "cell_type": "markdown",
   "id": "b879f3ef",
   "metadata": {},
   "source": [
    "### Q3. Describe the main differences between the array and numpy packages."
   ]
  },
  {
   "cell_type": "markdown",
   "id": "315b9f79",
   "metadata": {},
   "source": [
    "#### Ans. The array package and the numpy package are both used for working with arrays in Python, but there are some key differences between them:\n",
    "\n",
    "#### Data types: The array package only supports a limited number of data types, including integers, floats, and characters, while numpy supports a much wider range of data types, including complex numbers and user-defined data types.\n",
    "\n",
    "#### Multi-dimensional arrays: While both packages can work with one-dimensional arrays, numpy provides much more powerful support for multi-dimensional arrays, which are commonly used in scientific and numerical computing.\n",
    "\n",
    "#### Memory use: When working with huge arrays, the numpy package outperforms the array package due to its optimised memory usage.\n",
    "\n",
    "#### It is possible to do actions on whole arrays at once with numpy's strong vectorization functionality, as opposed to looping over individual elements. Compared to utilising an array and standard Python lists, this can result in considerable efficiency benefits.\n",
    "\n",
    "\n",
    "#### Functionality: A wide range of functions, including mathematical operations, linear algebraic transformations, and Fourier transforms, are available for dealing with arrays in Numpy. The functionality of the array package is more constrained."
   ]
  },
  {
   "cell_type": "markdown",
   "id": "b006b4d8",
   "metadata": {},
   "source": [
    "### Q4. Explain the distinctions between the empty, ones, and zeros functions."
   ]
  },
  {
   "cell_type": "markdown",
   "id": "103a76f0",
   "metadata": {},
   "source": [
    "#### Ans. In NumPy, there are three functions for creating arrays of a specified shape and data type:\n",
    "\n",
    "#### numpy.empty(shape, dtype=float, order='C'): This function creates an uninitialized array of the specified shape and data type. The elements of the array will contain arbitrary values, depending on what was in the memory allocated to the array.\n",
    "\n",
    "#### numpy.zeros(shape, dtype=float, order='C'): This function creates an array of the specified shape and data type, with all elements initialized to 0.\n",
    "\n",
    "#### numpy.ones(shape, dtype=float, order='C'): This function creates an array of the specified shape and data type, with all elements initialized to 1.\n",
    "\n",
    "#### Here are some key differences between the three functions:\n",
    "\n",
    "#### empty creates an array with uninitialized elements, whereas zeros and ones create arrays with elements initialized to 0 or 1, respectively.\n",
    "\n",
    "#### empty is typically faster than zeros and ones because it does not need to initialize the array elements.\n",
    "\n",
    "#### zeros and ones are often used for initializing an array to a specific value, such as a matrix of all 0s or all 1s.\n",
    "\n",
    "#### empty is often used when you plan to fill the array with data later, and don't want the overhead of initializing the elements to a specific value.\n",
    "\n",
    "#### In summary, empty is used to create an uninitialized array, while zeros and ones are used to create arrays with elements initialized to 0 or 1, respectively."
   ]
  },
  {
   "cell_type": "markdown",
   "id": "2bffd123",
   "metadata": {},
   "source": [
    "### Q5. In the fromfunction function, which is used to construct new arrays, what is the role of the callable argument?"
   ]
  },
  {
   "cell_type": "markdown",
   "id": "2eacb161",
   "metadata": {},
   "source": [
    "### Ans. To create new arrays from a given function, use NumPy's fromfunction function. It needs two justifications:\n",
    "\n",
    "### a callable method that links the array's indexes and values\n",
    "#### The array's design to be built's form\n",
    "\n",
    "#### The callable function argument's function is to produce values for the new array. The callable function returns the value of the appropriate element after receiving the array's coordinates as arguments. The numpy.indices() method, which generates an array with the indices of a grid with a specified shape, is used to construct the array's indices.\n",
    "\n",
    "#### Here is an illustration of how to use fromfunction:"
   ]
  },
  {
   "cell_type": "code",
   "execution_count": 1,
   "id": "e8a26d4b",
   "metadata": {},
   "outputs": [
    {
     "name": "stdout",
     "output_type": "stream",
     "text": [
      "[[0. 1. 2. 3.]\n",
      " [1. 2. 3. 4.]\n",
      " [2. 3. 4. 5.]]\n"
     ]
    }
   ],
   "source": [
    "import numpy as np\n",
    "\n",
    "def my_func(i, j):\n",
    "    return i + j\n",
    "\n",
    "arr = np.fromfunction(my_func, (3, 4))\n",
    "print(arr)\n"
   ]
  },
  {
   "cell_type": "markdown",
   "id": "938e4d8a",
   "metadata": {},
   "source": [
    "### Q6. What happens when a numpy array is combined with a single-value operand (a scalar, such as an int or a floating-point value) through addition, as in the expression A + n?"
   ]
  },
  {
   "cell_type": "markdown",
   "id": "fc64c5c3",
   "metadata": {},
   "source": [
    "#### Ans. When a numpy array and a single-value operand are merged using addition, as in the case of A + n, the scalar value is broadcast to all of the array's elements before being added element by element to the array's elements. This practise is called scalar broadcasting.\n",
    "\n",
    "#### Take the following numpy array, for instance:\n"
   ]
  },
  {
   "cell_type": "code",
   "execution_count": 10,
   "id": "5115f1d9",
   "metadata": {},
   "outputs": [
    {
     "data": {
      "text/plain": [
       "array([[3, 4, 5],\n",
       "       [6, 7, 8]])"
      ]
     },
     "execution_count": 10,
     "metadata": {},
     "output_type": "execute_result"
    }
   ],
   "source": [
    "A = np.array([[1, 2, 3], [4, 5, 6]])\n",
    "n = 2\n",
    "A + n\n"
   ]
  },
  {
   "cell_type": "markdown",
   "id": "e7144b24",
   "metadata": {},
   "source": [
    "### Q7. Can array-to-scalar operations use combined operation-assign operators (such as += or *=)? What is the outcome?"
   ]
  },
  {
   "cell_type": "markdown",
   "id": "3b95cddf",
   "metadata": {},
   "source": [
    "#### Ans. Absolutely, operations that convert an array to a scalar can employ combined operation-assignment operators like += or *=. When one of these operators is used, the scalar value is broadcast to all of the array's elements before the specified action is carried out between each element and the scalar. The outcome is then allocated back to the initial array.\n",
    "\n",
    "#### Take the following numpy array, for instance:"
   ]
  },
  {
   "cell_type": "code",
   "execution_count": 11,
   "id": "049a14ee",
   "metadata": {},
   "outputs": [
    {
     "data": {
      "text/plain": [
       "array([3, 4, 5, 6, 7])"
      ]
     },
     "execution_count": 11,
     "metadata": {},
     "output_type": "execute_result"
    }
   ],
   "source": [
    "A = np.array([1, 2, 3, 4, 5])\n",
    "A += 2\n",
    "A\n"
   ]
  },
  {
   "cell_type": "markdown",
   "id": "ec0b52aa",
   "metadata": {},
   "source": [
    "### Q8. Does a numpy array contain fixed-length strings? What happens if you allocate a longer string to one of these arrays?"
   ]
  },
  {
   "cell_type": "markdown",
   "id": "ef16bd38",
   "metadata": {},
   "source": [
    "#### Ans. Yes, a numpy array may contain fixed-length strings. The excess characters are cut off when you allocate a lengthier string to one of these arrays without giving you a warning or an error notice. It is crucial to confirm that the strings being added are the correct length before completing the operation since doing otherwise might lead to data loss and unexpected behaviour."
   ]
  },
  {
   "cell_type": "markdown",
   "id": "0ec4d067",
   "metadata": {},
   "source": [
    "### Q9. What happens when you combine two numpy arrays using an operation like addition (+) or multiplication (*)? What are the conditions for combining two numpy arrays?"
   ]
  },
  {
   "cell_type": "markdown",
   "id": "96a48567",
   "metadata": {},
   "source": [
    "#### Ans. When combining two numpy arrays, the action is carried out element-wise on the relevant elements of the arrays using an operation like addition (+) or multiplication (*).\n",
    "\n",
    "#### Two numpy arrays can be combined under the following circumstances:\n",
    "\n",
    "#### The two arrays must be capable of broadcasting to one another or have identical shapes.\n",
    "\n",
    "#### The two arrays' data types (dtypes) need to match. If the dtypes of the two arrays differ, the output array will have the dtype that was \"upcast\" from the input dtypes in accordance with the hierarchy of dtypes that was provided. The resultant array will have the dtype \"float64\" for instance, if one array has the dtype \"float64\" and the other has the dtype \"int32\"\n",
    "\n",
    "#### The operation (addition, multiplication, etc.) must be specified for the arrays' dtype. For instance, you are unable to multiply two string arrays together.\n",
    "\n",
    "#### A ValueError or TypeError may be thrown in the event that any of these requirements are not satisfied."
   ]
  },
  {
   "cell_type": "markdown",
   "id": "9cf72fe8",
   "metadata": {},
   "source": [
    "### Q10. What is the best way to use a Boolean array to mask another array?"
   ]
  },
  {
   "cell_type": "markdown",
   "id": "e131a6d8",
   "metadata": {},
   "source": [
    "#### Ans. Indexing is the method most frequently used to mask another array with a Boolean array. The other array's elements can be selectively chosen using the Boolean array as a mask. Only the original array members that correspond to the locations where the Boolean array has a True value are returned by the indexing operation.\n",
    "\n",
    "#### Let's say we have two numpy arrays, for instance:"
   ]
  },
  {
   "cell_type": "code",
   "execution_count": 14,
   "id": "a5d06869",
   "metadata": {},
   "outputs": [
    {
     "data": {
      "text/plain": [
       "array([1, 3])"
      ]
     },
     "execution_count": 14,
     "metadata": {},
     "output_type": "execute_result"
    }
   ],
   "source": [
    "import numpy as np\n",
    "\n",
    "a = np.array([1, 2, 3, 4, 5])\n",
    "mask = np.array([True, False, True, False, False])\n",
    "\n",
    "a[mask]"
   ]
  },
  {
   "cell_type": "markdown",
   "id": "dcb7ec5f",
   "metadata": {},
   "source": [
    "### Q11. What are three different ways to get the standard deviation of a wide collection of data using both standard Python and its packages? Sort the three of them by how quickly they execute."
   ]
  },
  {
   "cell_type": "markdown",
   "id": "39bed022",
   "metadata": {},
   "source": [
    "#### Ans. These are three methods, ranked from quickest to slowest execution performance, for calculating the standard deviation of a large collection of data using ordinary Python and its packages:\n",
    "\n",
    "#### Using the NumPy package: NumPy is an effective Python tool for numerical calculations. NumPy's numpy.std() method may be used to determine an array's standard deviation. Here's an illustration:"
   ]
  },
  {
   "cell_type": "code",
   "execution_count": 15,
   "id": "18b28636",
   "metadata": {},
   "outputs": [
    {
     "name": "stdout",
     "output_type": "stream",
     "text": [
      "1.4142135623730951\n"
     ]
    }
   ],
   "source": [
    "import numpy as np\n",
    "\n",
    "data = np.array([1, 2, 3, 4, 5])\n",
    "std_dev = np.std(data)\n",
    "print(std_dev)\n"
   ]
  },
  {
   "cell_type": "markdown",
   "id": "56786981",
   "metadata": {},
   "source": [
    "#### Using the statistics package: A built-in module in Python 3 called the statistics package offers functions for computing the fundamental statistical characteristics of data. The statistics.stdev() method in the statistics package may be used to determine a list's standard deviation. Here's an illustration:"
   ]
  },
  {
   "cell_type": "code",
   "execution_count": 16,
   "id": "2c84aa87",
   "metadata": {},
   "outputs": [
    {
     "name": "stdout",
     "output_type": "stream",
     "text": [
      "1.5811388300841898\n"
     ]
    }
   ],
   "source": [
    "import statistics\n",
    "\n",
    "data = [1, 2, 3, 4, 5]\n",
    "std_dev = statistics.stdev(data)\n",
    "print(std_dev)\n"
   ]
  },
  {
   "cell_type": "markdown",
   "id": "42964eb7",
   "metadata": {},
   "source": [
    "#### With standard Python and math module: The math module is a built-in module in Python that supports numerous mathematical functions. You may compute the mean of the list first, and then use the formula to compute the standard deviation of the list using ordinary Python and the math module. Here's an illustration:"
   ]
  },
  {
   "cell_type": "code",
   "execution_count": 17,
   "id": "2e4e97ef",
   "metadata": {},
   "outputs": [
    {
     "name": "stdout",
     "output_type": "stream",
     "text": [
      "1.4142135623730951\n"
     ]
    }
   ],
   "source": [
    "import math\n",
    "\n",
    "data = [1, 2, 3, 4, 5]\n",
    "mean = sum(data) / len(data)\n",
    "std_dev = math.sqrt(sum((x - mean) ** 2 for x in data) / len(data))\n",
    "print(std_dev)\n"
   ]
  },
  {
   "cell_type": "markdown",
   "id": "aaf52d81",
   "metadata": {},
   "source": [
    "### 12. What is the dimensionality of a Boolean mask-generated array?"
   ]
  },
  {
   "cell_type": "markdown",
   "id": "625527d7",
   "metadata": {},
   "source": [
    "#### Ans. A Boolean mask-generated array has the same number of dimensions as the original array. Based on the stated criterion, the mask array functions as a filter to pick out certain components from the original array. The old array's dimensions will not change, and the new array will have True for the items that were chosen and False for the other elements."
   ]
  },
  {
   "cell_type": "code",
   "execution_count": null,
   "id": "9e5a8c72",
   "metadata": {},
   "outputs": [],
   "source": []
  }
 ],
 "metadata": {
  "kernelspec": {
   "display_name": "Python 3 (ipykernel)",
   "language": "python",
   "name": "python3"
  },
  "language_info": {
   "codemirror_mode": {
    "name": "ipython",
    "version": 3
   },
   "file_extension": ".py",
   "mimetype": "text/x-python",
   "name": "python",
   "nbconvert_exporter": "python",
   "pygments_lexer": "ipython3",
   "version": "3.9.13"
  }
 },
 "nbformat": 4,
 "nbformat_minor": 5
}
