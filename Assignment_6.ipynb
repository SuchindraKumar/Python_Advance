{
 "cells": [
  {
   "cell_type": "markdown",
   "id": "4d3909cd",
   "metadata": {},
   "source": [
    "### Q1. Describe three applications for exception processing."
   ]
  },
  {
   "cell_type": "markdown",
   "id": "9678d7a6",
   "metadata": {},
   "source": [
    "#### Ans. A programming method called exception processing enables programmers to deal with mistakes and unforeseen occurrences that may happen while a programme is being executed. The following three examples of exception processing:\n",
    "\n",
    "#### error management Error handling is one of the primary uses for exception processing. When a programme runs into problems or unanticipated events like divide-by-zero, file not found, or incorrect user input, exceptions might be triggered. A software can avoid crashing or delivering inaccurate results by managing these exceptions and recovering gracefully from mistakes.\n",
    "\n",
    "#### Resource management is another area in which exception processing is put to use. Using exception handling techniques, resources like as files, network connections, and database connections may be obtained and released. For instance, to ensure that resources are released appropriately, a file might be closed in the exception handler if an error arises while reading from or writing to the file.\n",
    "\n",
    "#### Control flow:Control flow can also be achieved through the use of exception processing. Exceptions may be purposefully raised to hand control over to another area of a programme. This can be helpful when a function or method has to transfer control to a higher level of the programme because it is unable to continue running. A higher-level function that tries to reconnect to the database may handle the exception raised by a function that runs a database query, for instance, if the database connection is lost."
   ]
  },
  {
   "cell_type": "code",
   "execution_count": 1,
   "id": "7a426468",
   "metadata": {},
   "outputs": [
    {
     "name": "stdout",
     "output_type": "stream",
     "text": [
      "Second element = 2\n",
      "An error occurred\n"
     ]
    }
   ],
   "source": [
    "a = [1, 2, 3]\n",
    "try:\n",
    "    print (\"Second element = %d\" %(a[1]))\n",
    " \n",
    "    # Throws error since there are only 3 elements in array\n",
    "    print (\"Fourth element = %d\" %(a[3]))\n",
    "except:\n",
    "    print (\"An error occurred\")"
   ]
  },
  {
   "cell_type": "markdown",
   "id": "fa427669",
   "metadata": {},
   "source": [
    "### Q2. What happens if you don't do something extra to treat an exception?"
   ]
  },
  {
   "cell_type": "markdown",
   "id": "53c439c2",
   "metadata": {},
   "source": [
    "#### Ans. An exception will propagate up the call stack until it either reaches a handler or the programme crashes if it is not handled or otherwise dealt with. The software may exhibit unexpected behaviour, crash, or have other problems as a result, rendering it unstable or useless."
   ]
  },
  {
   "cell_type": "markdown",
   "id": "d9dc0f51",
   "metadata": {},
   "source": [
    "### Q3. What are your options for recovering from an exception in your script?"
   ]
  },
  {
   "cell_type": "markdown",
   "id": "10bc0124",
   "metadata": {},
   "source": [
    "### There are numerous ways to recover from an exception that a script raises:\n",
    "\n",
    "#### 1.Catch and handle the exception: To catch and deal with the exception, utilise a try-except block. This can entail recording an error message, rerunning the procedure, or taking some other suitable action.\n",
    "\n",
    "#### 2. Raise a new exception: In some circumstances, it may be necessary to catch an exception and raise a new exception that more accurately captures the nature of the issue. This might be helpful if you wish to treat the problem differently or if you need to offer extra information about the error.\n",
    "\n",
    "#### 3. Ignore the exception: In some circumstances, you might be able to disregard the exception and carry on with the script's execution. Nevertheless, due to the potential for unexpected behaviour or data damage, this method should only be used with caution.\n",
    "\n",
    "#### 4. Graceful exit: In the event that an exception is thrown and is unable to be handled, it may be useful to end the script in a controlled way. This may entail recording an error message, backing up any crucial information, and ending the script with the proper exit code.\n",
    "\n",
    "#### The nature of the issue and the script's needs will determine the appropriate course of action for recovering from an exception. It's crucial to carefully weigh each alternative and select the one that best satisfies the requirements of the script and its users."
   ]
  },
  {
   "cell_type": "code",
   "execution_count": 2,
   "id": "1a91e46b",
   "metadata": {},
   "outputs": [],
   "source": [
    "def askint():\n",
    "    while True:\n",
    "        try:\n",
    "            a=int(input(\"Enter an integer value::\"))\n",
    "        except Exception as e:\n",
    "            print(e)\n",
    "            print(\"please enter a integer value \")\n",
    "            continue\n",
    "        else:\n",
    "            print(f\"Yes you have entered an integer {a}\")\n",
    "            break\n",
    "        finally:\n",
    "            print(\"YYaaaaa i always executes!!\")\n"
   ]
  },
  {
   "cell_type": "code",
   "execution_count": 3,
   "id": "523fe985",
   "metadata": {},
   "outputs": [
    {
     "name": "stdout",
     "output_type": "stream",
     "text": [
      "Enter an integer value::2.5\n",
      "invalid literal for int() with base 10: '2.5'\n",
      "please enter a integer value \n",
      "YYaaaaa i always executes!!\n",
      "Enter an integer value::2\n",
      "Yes you have entered an integer 2\n",
      "YYaaaaa i always executes!!\n"
     ]
    }
   ],
   "source": [
    "askint()"
   ]
  },
  {
   "cell_type": "markdown",
   "id": "7cae4d96",
   "metadata": {},
   "source": [
    "### Q4. Describe two methods for triggering exceptions in your script."
   ]
  },
  {
   "cell_type": "markdown",
   "id": "aef26352",
   "metadata": {},
   "source": [
    "#### Ans. Explicitly raising an exception involves using the raise keyword in conjunction with an instance of the Exception class or one of its subclasses."
   ]
  },
  {
   "cell_type": "code",
   "execution_count": 14,
   "id": "b1b6999c",
   "metadata": {},
   "outputs": [
    {
     "ename": "ZeroDivisionError",
     "evalue": "division by zero",
     "output_type": "error",
     "traceback": [
      "\u001b[1;31m---------------------------------------------------------------------------\u001b[0m",
      "\u001b[1;31mZeroDivisionError\u001b[0m                         Traceback (most recent call last)",
      "\u001b[1;32m~\\AppData\\Local\\Temp\\ipykernel_21712\\1691338540.py\u001b[0m in \u001b[0;36m<module>\u001b[1;34m\u001b[0m\n\u001b[0;32m      4\u001b[0m     \u001b[1;32mreturn\u001b[0m \u001b[0ma\u001b[0m \u001b[1;33m/\u001b[0m \u001b[0mb\u001b[0m\u001b[1;33m\u001b[0m\u001b[1;33m\u001b[0m\u001b[0m\n\u001b[0;32m      5\u001b[0m \u001b[1;33m\u001b[0m\u001b[0m\n\u001b[1;32m----> 6\u001b[1;33m \u001b[0mdivide\u001b[0m\u001b[1;33m(\u001b[0m\u001b[1;36m10\u001b[0m\u001b[1;33m,\u001b[0m \u001b[1;36m0\u001b[0m\u001b[1;33m)\u001b[0m  \u001b[1;31m# raises ZeroDivisionError\u001b[0m\u001b[1;33m\u001b[0m\u001b[1;33m\u001b[0m\u001b[0m\n\u001b[0m",
      "\u001b[1;32m~\\AppData\\Local\\Temp\\ipykernel_21712\\1691338540.py\u001b[0m in \u001b[0;36mdivide\u001b[1;34m(a, b)\u001b[0m\n\u001b[0;32m      1\u001b[0m \u001b[1;32mdef\u001b[0m \u001b[0mdivide\u001b[0m\u001b[1;33m(\u001b[0m\u001b[0ma\u001b[0m\u001b[1;33m,\u001b[0m \u001b[0mb\u001b[0m\u001b[1;33m)\u001b[0m\u001b[1;33m:\u001b[0m\u001b[1;33m\u001b[0m\u001b[1;33m\u001b[0m\u001b[0m\n\u001b[0;32m      2\u001b[0m     \u001b[1;32mif\u001b[0m \u001b[0mb\u001b[0m \u001b[1;33m==\u001b[0m \u001b[1;36m0\u001b[0m\u001b[1;33m:\u001b[0m\u001b[1;33m\u001b[0m\u001b[1;33m\u001b[0m\u001b[0m\n\u001b[1;32m----> 3\u001b[1;33m         \u001b[1;32mraise\u001b[0m \u001b[0mZeroDivisionError\u001b[0m\u001b[1;33m(\u001b[0m\u001b[1;34m\"division by zero\"\u001b[0m\u001b[1;33m)\u001b[0m\u001b[1;33m\u001b[0m\u001b[1;33m\u001b[0m\u001b[0m\n\u001b[0m\u001b[0;32m      4\u001b[0m     \u001b[1;32mreturn\u001b[0m \u001b[0ma\u001b[0m \u001b[1;33m/\u001b[0m \u001b[0mb\u001b[0m\u001b[1;33m\u001b[0m\u001b[1;33m\u001b[0m\u001b[0m\n\u001b[0;32m      5\u001b[0m \u001b[1;33m\u001b[0m\u001b[0m\n",
      "\u001b[1;31mZeroDivisionError\u001b[0m: division by zero"
     ]
    }
   ],
   "source": [
    "def divide(a, b):\n",
    "    if b == 0:\n",
    "        raise ZeroDivisionError(\"division by zero\")\n",
    "    return a / b\n",
    "\n",
    "divide(10, 0)  # raises ZeroDivisionError\n"
   ]
  },
  {
   "cell_type": "markdown",
   "id": "4171467c",
   "metadata": {},
   "source": [
    "#### Call an exception-raising function or method: A function or method that raises an exception can likewise cause one to occur. For instance, if the input string cannot be converted to an integer, the built-in int function throws a ValueError:"
   ]
  },
  {
   "cell_type": "code",
   "execution_count": 5,
   "id": "aceb2962",
   "metadata": {},
   "outputs": [
    {
     "ename": "ValueError",
     "evalue": "invalid literal for int() with base 10: 'abc'",
     "output_type": "error",
     "traceback": [
      "\u001b[1;31m---------------------------------------------------------------------------\u001b[0m",
      "\u001b[1;31mValueError\u001b[0m                                Traceback (most recent call last)",
      "\u001b[1;32m~\\AppData\\Local\\Temp\\ipykernel_21712\\1751782844.py\u001b[0m in \u001b[0;36m<module>\u001b[1;34m\u001b[0m\n\u001b[1;32m----> 1\u001b[1;33m \u001b[0mn\u001b[0m \u001b[1;33m=\u001b[0m \u001b[0mint\u001b[0m\u001b[1;33m(\u001b[0m\u001b[1;34m\"abc\"\u001b[0m\u001b[1;33m)\u001b[0m  \u001b[1;31m# raises ValueError\u001b[0m\u001b[1;33m\u001b[0m\u001b[1;33m\u001b[0m\u001b[0m\n\u001b[0m",
      "\u001b[1;31mValueError\u001b[0m: invalid literal for int() with base 10: 'abc'"
     ]
    }
   ],
   "source": [
    "n = int(\"abc\")  # raises ValueError\n"
   ]
  },
  {
   "cell_type": "markdown",
   "id": "0858e1bf",
   "metadata": {},
   "source": [
    "### Q5. Identify two methods for specifying actions to be executed at termination time, regardless of whether or not an exception exists."
   ]
  },
  {
   "cell_type": "markdown",
   "id": "737d778b",
   "metadata": {},
   "source": [
    "#### Ans. finally clause: A try-except block and a finally clause are used together, and the finally clause includes code that will run whether or not an exception is raised. The finally clause is generally used to do cleaning operations like shutting files or releasing resources since it will run even if an exception is triggered. Here's an illustration:"
   ]
  },
  {
   "cell_type": "code",
   "execution_count": 15,
   "id": "749c867b",
   "metadata": {},
   "outputs": [],
   "source": [
    "try:\n",
    "    # some code that may raise an exception\n",
    "    ...\n",
    "except SomeException:\n",
    "    # handle the exception\n",
    "    ...\n",
    "finally:\n",
    "    # cleanup code that will be executed regardless of whether or not an exception is raised\n",
    "    ...\n"
   ]
  },
  {
   "cell_type": "markdown",
   "id": "bdc168fe",
   "metadata": {},
   "source": [
    "####     atexit module: A means to register functions to be called when the application is ready to depart is made available via the atexit module. These routines, which are often used to carry out cleaning operations like shutting files or releasing resources, will be called whether or not an exception is triggered. Here's an illustration:"
   ]
  },
  {
   "cell_type": "code",
   "execution_count": 17,
   "id": "3c0e584c",
   "metadata": {},
   "outputs": [
    {
     "data": {
      "text/plain": [
       "<function __main__.cleanup()>"
      ]
     },
     "execution_count": 17,
     "metadata": {},
     "output_type": "execute_result"
    }
   ],
   "source": [
    "import atexit\n",
    "\n",
    "def cleanup():\n",
    "    # cleanup code that will be executed when the program is about to exit\n",
    "    ...\n",
    "\n",
    "atexit.register(cleanup)\n"
   ]
  },
  {
   "cell_type": "code",
   "execution_count": null,
   "id": "e9841aed",
   "metadata": {},
   "outputs": [],
   "source": []
  }
 ],
 "metadata": {
  "kernelspec": {
   "display_name": "Python 3 (ipykernel)",
   "language": "python",
   "name": "python3"
  },
  "language_info": {
   "codemirror_mode": {
    "name": "ipython",
    "version": 3
   },
   "file_extension": ".py",
   "mimetype": "text/x-python",
   "name": "python",
   "nbconvert_exporter": "python",
   "pygments_lexer": "ipython3",
   "version": "3.9.13"
  }
 },
 "nbformat": 4,
 "nbformat_minor": 5
}
