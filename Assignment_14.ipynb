{
 "cells": [
  {
   "cell_type": "markdown",
   "id": "222fed64",
   "metadata": {},
   "source": [
    "### Q1. Is an assignment operator like += only for show? Is it possible that it would lead to faster results at the runtime?"
   ]
  },
  {
   "cell_type": "markdown",
   "id": "d8669539",
   "metadata": {},
   "source": [
    "#### Ans. No, a function like += is not just for show. In some instances, it actually can result in quicker outcomes at runtime.The x = x + y formula, where x is a variable and y is a value, can be written more quickly using the += operator. In order to complete this operation, first the value of x must be obtained. Then, the value of y must be added to x, and the finished product must then be saved back in x."
   ]
  },
  {
   "cell_type": "markdown",
   "id": "934ecfd0",
   "metadata": {},
   "source": [
    "### Q2. What is the smallest number of statements you'd have to write in most programming languages to replace the Python expression a, b = a + b, a?"
   ]
  },
  {
   "cell_type": "markdown",
   "id": "19a88acb",
   "metadata": {},
   "source": [
    "#### The Python equation a, b = a + b, a may be changed into the following three statements in the majority of computer languages:\n",
    "#### Here's how it operates:\n",
    "#### We make a new variable called temp and give it the value a + b.\n",
    "#### By giving a the value of b, we effectively replace the previous value of a.\n",
    "#### We give the letter b the value of temp - b. If temp equals a plus b and b was just assigned to a, temp - b represents the original value of a."
   ]
  },
  {
   "cell_type": "markdown",
   "id": "62afed66",
   "metadata": {},
   "source": [
    "### Q3. In Python, what is the most effective way to set a list of 100 integers to 0?"
   ]
  },
  {
   "cell_type": "markdown",
   "id": "6b3b379e",
   "metadata": {},
   "source": [
    "#### Ans. In Python, using the list comprehension approach with the len() function to build a new list of the necessary size with all items initialised to 0 is the most efficient way to set a list of 100 integers to 0."
   ]
  },
  {
   "cell_type": "code",
   "execution_count": 5,
   "id": "255b743f",
   "metadata": {},
   "outputs": [
    {
     "data": {
      "text/plain": [
       "[0,\n",
       " 0,\n",
       " 0,\n",
       " 0,\n",
       " 0,\n",
       " 0,\n",
       " 0,\n",
       " 0,\n",
       " 0,\n",
       " 0,\n",
       " 0,\n",
       " 0,\n",
       " 0,\n",
       " 0,\n",
       " 0,\n",
       " 0,\n",
       " 0,\n",
       " 0,\n",
       " 0,\n",
       " 0,\n",
       " 0,\n",
       " 0,\n",
       " 0,\n",
       " 0,\n",
       " 0,\n",
       " 0,\n",
       " 0,\n",
       " 0,\n",
       " 0,\n",
       " 0,\n",
       " 0,\n",
       " 0,\n",
       " 0,\n",
       " 0,\n",
       " 0,\n",
       " 0,\n",
       " 0,\n",
       " 0,\n",
       " 0,\n",
       " 0,\n",
       " 0,\n",
       " 0,\n",
       " 0,\n",
       " 0,\n",
       " 0,\n",
       " 0,\n",
       " 0,\n",
       " 0,\n",
       " 0,\n",
       " 0,\n",
       " 0,\n",
       " 0,\n",
       " 0,\n",
       " 0,\n",
       " 0,\n",
       " 0,\n",
       " 0,\n",
       " 0,\n",
       " 0,\n",
       " 0,\n",
       " 0,\n",
       " 0,\n",
       " 0,\n",
       " 0,\n",
       " 0,\n",
       " 0,\n",
       " 0,\n",
       " 0,\n",
       " 0,\n",
       " 0,\n",
       " 0,\n",
       " 0,\n",
       " 0,\n",
       " 0,\n",
       " 0,\n",
       " 0,\n",
       " 0,\n",
       " 0,\n",
       " 0,\n",
       " 0,\n",
       " 0,\n",
       " 0,\n",
       " 0,\n",
       " 0,\n",
       " 0,\n",
       " 0,\n",
       " 0,\n",
       " 0,\n",
       " 0,\n",
       " 0,\n",
       " 0,\n",
       " 0,\n",
       " 0,\n",
       " 0,\n",
       " 0,\n",
       " 0,\n",
       " 0,\n",
       " 0,\n",
       " 0,\n",
       " 0]"
      ]
     },
     "execution_count": 5,
     "metadata": {},
     "output_type": "execute_result"
    }
   ],
   "source": [
    "my_list = [0 for _ in range(100)]\n",
    "my_list"
   ]
  },
  {
   "cell_type": "markdown",
   "id": "3bbca9a0",
   "metadata": {},
   "source": [
    "### Q4. What is the most effective way to initialise a list of 99 integers that repeats the sequence 1, 2, 3? S If necessary, show step-by-step instructions on how to accomplish this."
   ]
  },
  {
   "cell_type": "markdown",
   "id": "69b52eef",
   "metadata": {},
   "source": [
    "#### Ans.The most efficient approach to begin a list of 99 integers in Python that repeats the numbers 1, 2, and 3 is to use a list comprehension with the modulo operator%."
   ]
  },
  {
   "cell_type": "code",
   "execution_count": 6,
   "id": "9034d184",
   "metadata": {},
   "outputs": [
    {
     "data": {
      "text/plain": [
       "[1,\n",
       " 2,\n",
       " 3,\n",
       " 1,\n",
       " 2,\n",
       " 3,\n",
       " 1,\n",
       " 2,\n",
       " 3,\n",
       " 1,\n",
       " 2,\n",
       " 3,\n",
       " 1,\n",
       " 2,\n",
       " 3,\n",
       " 1,\n",
       " 2,\n",
       " 3,\n",
       " 1,\n",
       " 2,\n",
       " 3,\n",
       " 1,\n",
       " 2,\n",
       " 3,\n",
       " 1,\n",
       " 2,\n",
       " 3,\n",
       " 1,\n",
       " 2,\n",
       " 3,\n",
       " 1,\n",
       " 2,\n",
       " 3,\n",
       " 1,\n",
       " 2,\n",
       " 3,\n",
       " 1,\n",
       " 2,\n",
       " 3,\n",
       " 1,\n",
       " 2,\n",
       " 3,\n",
       " 1,\n",
       " 2,\n",
       " 3,\n",
       " 1,\n",
       " 2,\n",
       " 3,\n",
       " 1,\n",
       " 2,\n",
       " 3,\n",
       " 1,\n",
       " 2,\n",
       " 3,\n",
       " 1,\n",
       " 2,\n",
       " 3,\n",
       " 1,\n",
       " 2,\n",
       " 3,\n",
       " 1,\n",
       " 2,\n",
       " 3,\n",
       " 1,\n",
       " 2,\n",
       " 3,\n",
       " 1,\n",
       " 2,\n",
       " 3,\n",
       " 1,\n",
       " 2,\n",
       " 3,\n",
       " 1,\n",
       " 2,\n",
       " 3,\n",
       " 1,\n",
       " 2,\n",
       " 3,\n",
       " 1,\n",
       " 2,\n",
       " 3,\n",
       " 1,\n",
       " 2,\n",
       " 3,\n",
       " 1,\n",
       " 2,\n",
       " 3,\n",
       " 1,\n",
       " 2,\n",
       " 3,\n",
       " 1,\n",
       " 2,\n",
       " 3,\n",
       " 1,\n",
       " 2,\n",
       " 3,\n",
       " 1,\n",
       " 2,\n",
       " 3]"
      ]
     },
     "execution_count": 6,
     "metadata": {},
     "output_type": "execute_result"
    }
   ],
   "source": [
    "my_list = [(i % 3) + 1 for i in range(99)]\n",
    "my_list"
   ]
  },
  {
   "cell_type": "markdown",
   "id": "c89a4967",
   "metadata": {},
   "source": [
    "### Q5. If you're using IDLE to run a Python application, explain how to print a multidimensional list as efficiently?"
   ]
  },
  {
   "cell_type": "markdown",
   "id": "c61fc0a3",
   "metadata": {},
   "source": [
    "#### Ans. The most effective method for printing a multidimensional list in Python is to use IDLE and a loop to iterate over the list's rows and columns before using the print() function to display each member."
   ]
  },
  {
   "cell_type": "code",
   "execution_count": 7,
   "id": "81eb3fe3",
   "metadata": {},
   "outputs": [
    {
     "name": "stdout",
     "output_type": "stream",
     "text": [
      "1 2 3 \n",
      "4 5 6 \n",
      "7 8 9 \n"
     ]
    }
   ],
   "source": [
    "my_list = [[1, 2, 3], [4, 5, 6], [7, 8, 9]]\n",
    "\n",
    "for row in my_list:\n",
    "    for col in row:\n",
    "        print(col, end=' ')\n",
    "    print()\n"
   ]
  },
  {
   "cell_type": "markdown",
   "id": "4b6e2d1f",
   "metadata": {},
   "source": [
    "### Q6. Is it possible to use list comprehension with a string? If so, how can you go about doing it?"
   ]
  },
  {
   "cell_type": "markdown",
   "id": "c651265e",
   "metadata": {},
   "source": [
    "#### Ans. List comprehension with a string is indeed doable in Python. In reality, using list comprehension, it is possible to build a new list from an existing one in which each item is a character from the original list."
   ]
  },
  {
   "cell_type": "code",
   "execution_count": 9,
   "id": "41d7dded",
   "metadata": {},
   "outputs": [
    {
     "name": "stdout",
     "output_type": "stream",
     "text": [
      "['e', 'o', 'o']\n"
     ]
    }
   ],
   "source": [
    "my_string = \"hello, world!\"\n",
    "\n",
    "vowels = [char for char in my_string if char in 'aeiou']\n",
    "\n",
    "print(vowels)\n"
   ]
  },
  {
   "cell_type": "markdown",
   "id": "bc01bcba",
   "metadata": {},
   "source": [
    "### Q7. From the command line, how do you get support with a user-written Python programme? Is this possible from inside IDLE?"
   ]
  },
  {
   "cell_type": "markdown",
   "id": "d20965a1",
   "metadata": {},
   "source": [
    "#### Ans. Use the built-in help() method to obtain assistance with a user-written Python programme from the command line. The help() method will display documentation for any functions or modules whose names you supply as arguments. You may execute the following command from the command line, for instance, if you have a module called my module and you want to receive assistance for a function called my function:"
   ]
  },
  {
   "cell_type": "code",
   "execution_count": 10,
   "id": "e7c66f77",
   "metadata": {},
   "outputs": [],
   "source": [
    "#python -c \"import my_module; help(my_module.my_function)\"\n"
   ]
  },
  {
   "cell_type": "markdown",
   "id": "0bc36495",
   "metadata": {},
   "source": [
    "### Q8. Functions are said to be “first-class objects” in Python but not in most other languages, such as C++ or Java. What can you do in Python with a function (callable object) that you can't do in C or C++?"
   ]
  },
  {
   "cell_type": "markdown",
   "id": "96699bae",
   "metadata": {},
   "source": [
    "#### Ans. In Python, functions are first-class objects, which means that they can be treated like any other object in the language. This allows for a variety of programming techniques and capabilities that are not available in languages like C or C++. Here are some examples of what you can do with a function in Python that you can't do in C or C++:\n",
    "\n",
    "#### 1. Assign a function to a variable: In Python, you can assign a function to a variable just like you would any other object. For example, you can define a function my_func and then assign it to a variable f like this:"
   ]
  },
  {
   "cell_type": "code",
   "execution_count": 14,
   "id": "b6f50c22",
   "metadata": {},
   "outputs": [
    {
     "name": "stdout",
     "output_type": "stream",
     "text": [
      "6\n"
     ]
    }
   ],
   "source": [
    "def my_func(x):\n",
    "    return x * 2\n",
    "\n",
    "f = my_func\n",
    "result = f(3)\n",
    "print(result) \n"
   ]
  },
  {
   "cell_type": "markdown",
   "id": "67f22dfc",
   "metadata": {},
   "source": [
    "#### 2. Passing a function as an argument to another function in Python is similar to passing any other object as an argument to another function. This makes it possible to use potent functional programming methods like map, filter, and reduce. As an illustration, you might create a function called apply that accepts a function f and applies it to the parameter x:"
   ]
  },
  {
   "cell_type": "code",
   "execution_count": 15,
   "id": "bd77b602",
   "metadata": {},
   "outputs": [
    {
     "name": "stdout",
     "output_type": "stream",
     "text": [
      "6\n"
     ]
    }
   ],
   "source": [
    "def apply(f, x):\n",
    "    return f(x)\n",
    "\n",
    "result = apply(my_func, 3)\n",
    "print(result)\n"
   ]
  },
  {
   "cell_type": "markdown",
   "id": "4b2b9e21",
   "metadata": {},
   "source": [
    "#### 3. Return a function from another function: In Python, you may do the same thing you would with any other object: return a function from another function. This makes it possible to use sophisticated programming methods like closures and decorators. For instance, you might create a function called make adder that returns another function that multiplies its argument by a certain number:"
   ]
  },
  {
   "cell_type": "code",
   "execution_count": 16,
   "id": "988ed744",
   "metadata": {},
   "outputs": [
    {
     "name": "stdout",
     "output_type": "stream",
     "text": [
      "5\n"
     ]
    }
   ],
   "source": [
    "def make_adder(n):\n",
    "    def adder(x):\n",
    "        return x + n\n",
    "    return adder\n",
    "\n",
    "add_3 = make_adder(3)\n",
    "result = add_3(2)\n",
    "print(result)\n"
   ]
  },
  {
   "cell_type": "markdown",
   "id": "f9c210bd",
   "metadata": {},
   "source": [
    "### Q9. How do you distinguish between a wrapper, a wrapped feature, and a decorator?"
   ]
  },
  {
   "cell_type": "markdown",
   "id": "d29e4260",
   "metadata": {},
   "source": [
    "#### Ans. A method or class that wraps around another function or class in Python and adds new functionality or behaviour is known as a wrapper. The function or class that the wrapper is enclosing is referred to as a wrapped feature. A specific kind of wrapper called a decorator is used to alter or extend the functionality of a function or class."
   ]
  },
  {
   "cell_type": "code",
   "execution_count": 17,
   "id": "ff5beb7a",
   "metadata": {},
   "outputs": [],
   "source": [
    "# Wrapper function\n",
    "def my_wrapper(func):\n",
    "    def wrapper(*args, **kwargs):\n",
    "        print(\"Before function call\")\n",
    "        result = func(*args, **kwargs)\n",
    "        print(\"After function call\")\n",
    "        return result\n",
    "    return wrapper\n",
    "\n",
    "# Wrapped function\n",
    "def my_function(x):\n",
    "    return x * 2\n",
    "\n",
    "# Decorator\n",
    "@my_wrapper\n",
    "def my_decorated_function(x):\n",
    "    return x * 2\n"
   ]
  },
  {
   "cell_type": "markdown",
   "id": "21a87bca",
   "metadata": {},
   "source": [
    "### Q10. If a function is a generator function, what does it return?"
   ]
  },
  {
   "cell_type": "markdown",
   "id": "643029be",
   "metadata": {},
   "source": [
    "#### Ans.  In Python, a generator function returns a generator object. An iterator, such as a generator object, produces a series of values as they are required rather than producing them all at once and storing them in memory.\n",
    "\n",
    "#### A generator function is called, but it does not actually execute the function body; instead, it returns a generator object. The next() function on the generator object, or utilising it in a for loop, may then be used to create values. The generator function runs each time the next() function is called until it encounters a yield statement, at which point it returns the value indicated by the yield statement and ceases its execution."
   ]
  },
  {
   "cell_type": "code",
   "execution_count": 1,
   "id": "93c0f42f",
   "metadata": {},
   "outputs": [],
   "source": [
    "def fibonacci(n):\n",
    "    a, b = 0, 1\n",
    "    for i in range(n):\n",
    "        yield a\n",
    "        a, b = b, a + b\n"
   ]
  },
  {
   "cell_type": "code",
   "execution_count": 2,
   "id": "fb3698da",
   "metadata": {},
   "outputs": [],
   "source": [
    "fib = fibonacci(5)"
   ]
  },
  {
   "cell_type": "code",
   "execution_count": 3,
   "id": "ed3b2769",
   "metadata": {},
   "outputs": [
    {
     "data": {
      "text/plain": [
       "0"
      ]
     },
     "execution_count": 3,
     "metadata": {},
     "output_type": "execute_result"
    }
   ],
   "source": [
    "next(fib)"
   ]
  },
  {
   "cell_type": "code",
   "execution_count": 4,
   "id": "2b18ba4f",
   "metadata": {},
   "outputs": [
    {
     "data": {
      "text/plain": [
       "1"
      ]
     },
     "execution_count": 4,
     "metadata": {},
     "output_type": "execute_result"
    }
   ],
   "source": [
    "next(fib)"
   ]
  },
  {
   "cell_type": "code",
   "execution_count": 5,
   "id": "8fc8f3f1",
   "metadata": {},
   "outputs": [
    {
     "data": {
      "text/plain": [
       "1"
      ]
     },
     "execution_count": 5,
     "metadata": {},
     "output_type": "execute_result"
    }
   ],
   "source": [
    "next(fib)"
   ]
  },
  {
   "cell_type": "code",
   "execution_count": 6,
   "id": "67b9e550",
   "metadata": {},
   "outputs": [
    {
     "data": {
      "text/plain": [
       "2"
      ]
     },
     "execution_count": 6,
     "metadata": {},
     "output_type": "execute_result"
    }
   ],
   "source": [
    "next(fib)"
   ]
  },
  {
   "cell_type": "markdown",
   "id": "b4b5b305",
   "metadata": {},
   "source": [
    "### Q11. What is the one improvement that must be made to a function in order for it to become a generator function in the Python language?"
   ]
  },
  {
   "cell_type": "markdown",
   "id": "269241d1",
   "metadata": {},
   "source": [
    "#### Ans. Use of the yield keyword in place of the return keyword when returning data from a function is the only change necessary to convert a function in Python into a generator function.\n",
    "\n",
    "#### When a function is called, it runs its code and uses the return statement to return a value. Although it momentarily suspends the function's execution and provides a value to the caller, a yield statement inside a function maintains the function's state. When the function is called again, it picks up where it left off and runs until it reaches the subsequent yield statement. Repeat this procedure until the function has produced all the necessary values."
   ]
  },
  {
   "cell_type": "code",
   "execution_count": 7,
   "id": "64050a9a",
   "metadata": {},
   "outputs": [],
   "source": [
    "def square_numbers(limit):\n",
    "    for i in range(limit):\n",
    "        yield i ** 2\n"
   ]
  },
  {
   "cell_type": "code",
   "execution_count": 8,
   "id": "bb8ffcc8",
   "metadata": {},
   "outputs": [
    {
     "name": "stdout",
     "output_type": "stream",
     "text": [
      "0\n",
      "1\n",
      "4\n",
      "9\n",
      "16\n"
     ]
    }
   ],
   "source": [
    "squares = square_numbers(5)\n",
    "for square in squares:\n",
    "    print(square)"
   ]
  },
  {
   "cell_type": "markdown",
   "id": "35db80b2",
   "metadata": {},
   "source": [
    "### Q12. Identify at least one benefit of generators."
   ]
  },
  {
   "cell_type": "markdown",
   "id": "e3262b62",
   "metadata": {},
   "source": [
    "#### Ans. Python generators provide more memory- and time-efficient code, which is one of its advantages.\n",
    "\n",
    "#### Unlike a list or tuple, which would have to generate and store all values at once, generators produce values as they are needed and do not keep all of the generated values in memory at once. When working with enormous datasets or creating an unending stream of variables, this may be quite helpful.\n",
    "\n",
    "#### Moreover, generators might be faster than conventional functions that execute all at once since they provide the suspension of function execution using the yield statement. Generators may produce values only when they are necessary, saving time and resources compared to producing all values simultaneously.When working with enormous datasets or creating an unending stream of variables, this may be quite helpful.\n",
    "\n",
    "\n",
    "#### The ability to express limitless sequences of values, which is not achievable with conventional data structures like lists or tuples, is another advantage of generators. For instance, a generator function that produces an endless string of even numbers can"
   ]
  },
  {
   "cell_type": "code",
   "execution_count": 9,
   "id": "5f0bcf4c",
   "metadata": {},
   "outputs": [],
   "source": [
    "def even_numbers():\n",
    "    n = 0\n",
    "    while True:\n",
    "        yield n\n",
    "        n += 2\n"
   ]
  },
  {
   "cell_type": "code",
   "execution_count": 17,
   "id": "641946dc",
   "metadata": {},
   "outputs": [
    {
     "data": {
      "text/plain": [
       "<generator object even_numbers at 0x0000012EF73A7F90>"
      ]
     },
     "execution_count": 17,
     "metadata": {},
     "output_type": "execute_result"
    }
   ],
   "source": [
    "even_numbers()"
   ]
  },
  {
   "cell_type": "code",
   "execution_count": null,
   "id": "e33edcb0",
   "metadata": {},
   "outputs": [],
   "source": []
  }
 ],
 "metadata": {
  "kernelspec": {
   "display_name": "Python 3 (ipykernel)",
   "language": "python",
   "name": "python3"
  },
  "language_info": {
   "codemirror_mode": {
    "name": "ipython",
    "version": 3
   },
   "file_extension": ".py",
   "mimetype": "text/x-python",
   "name": "python",
   "nbconvert_exporter": "python",
   "pygments_lexer": "ipython3",
   "version": "3.9.13"
  }
 },
 "nbformat": 4,
 "nbformat_minor": 5
}
