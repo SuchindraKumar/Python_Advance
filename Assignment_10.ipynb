{
 "cells": [
  {
   "cell_type": "markdown",
   "id": "75447328",
   "metadata": {},
   "source": [
    "### Q1. What is the difference between __getattr__ and __getattribute__?"
   ]
  },
  {
   "cell_type": "markdown",
   "id": "bd01e0d7",
   "metadata": {},
   "source": [
    "#### Ans. __getattr__(self, name) Only when an attribute cannot be located via the standard methods, such as in the instance's dict or class hierarchy, is getattr(self, name) invoked. To put it another way, getattr is a fallback technique that is only used if the attribute cannot be located using the standard attribute lookup.\n",
    "\n",
    "#### __getattribute__(self, name) Regardless of whether the attribute is present in the instance's dict, getattribute(self, name) is called for every attribute access. This implies that if a class defines getattribute, it will be utilised before any other attribute lookup processes, giving the user the opportunity to thwart and alter attribute access."
   ]
  },
  {
   "cell_type": "code",
   "execution_count": 1,
   "id": "7d632b4f",
   "metadata": {},
   "outputs": [],
   "source": [
    "class Example:\n",
    "    def __init__(self):\n",
    "        self.x = 10\n",
    "        \n",
    "    def __getattr__(self, name):\n",
    "        print(f\"__getattr__ called for {name}\")\n",
    "        return 20\n",
    "    \n",
    "    def __getattribute__(self, name):\n",
    "        print(f\"__getattribute__ called for {name}\")\n",
    "        return object.__getattribute__(self, name)\n"
   ]
  },
  {
   "cell_type": "code",
   "execution_count": 5,
   "id": "8731b76c",
   "metadata": {},
   "outputs": [
    {
     "name": "stdout",
     "output_type": "stream",
     "text": [
      "__getattribute__ called for x\n",
      "__getattribute__ called for y\n",
      "__getattr__ called for y\n"
     ]
    },
    {
     "data": {
      "text/plain": [
       "20"
      ]
     },
     "execution_count": 5,
     "metadata": {},
     "output_type": "execute_result"
    }
   ],
   "source": [
    "e = Example()\n",
    "e.x\n",
    "#__getattribute__ called for x\n",
    "\n",
    "e.y\n",
    "#__getattribute__ called for y\n",
    "#__getattr__ called for y\n",
    "\n"
   ]
  },
  {
   "cell_type": "markdown",
   "id": "2f70a1b6",
   "metadata": {},
   "source": [
    "### Q2. What is the difference between properties and descriptors?"
   ]
  },
  {
   "cell_type": "markdown",
   "id": "bc1f88f4",
   "metadata": {},
   "source": [
    "#### Ans. A calculated attribute on an object can be defined by one of its properties. It offers a mechanism to provide a method that may be used in the same way as an attribute, and it is frequently applied to the implementation of getters and setters for private instance variables. Python's @property decorator is used to specify properties, which may then be accessed using the standard dot notation.\n",
    "\n",
    "#### In contrast to characteristics, descriptors are broader and more adaptable. They may be used to implement properties as well as other types of attribute access control. They are a technique of constructing a class that controls access to its attributes. To limit how a class attribute is accessible, a descriptor, which is an object that specifies one or more of the special get, set, and delete methods, can be added to the attribute."
   ]
  },
  {
   "cell_type": "markdown",
   "id": "e87f36df",
   "metadata": {},
   "source": [
    "### Q3. What are the key differences in functionality between __getattr__ and __getattribute__, as well as properties and descriptors?"
   ]
  },
  {
   "cell_type": "markdown",
   "id": "ac94cfcd",
   "metadata": {},
   "source": [
    "#### Ans. The following are the primary functional distinctions between getattr and getattribute, as well as between properties and descriptors:\n",
    "\n",
    "#### __getattr__ vs. __getattribute__:compare getattr with getattribute: When an attribute on an object is accessed, both of these methods are invoked, but they serve distinct purposes. Only when an attribute cannot be located in the typical locations (such as the object's dict, class hierarchy, or any other descriptors related to it) is getattr called. In contrast, regardless of whether an attribute is used or not, getattribute is called each time. In contrast to getattr, which can only be used to define new attributes, getattribute may be used to modify the behaviour of built-in attributes.\n",
    "\n",
    "#### Properties vs. descriptors:Both properties and descriptors are used to restrict access to object attributes, although their functionality and degree of flexibility vary. A calculated attribute may be defined simply using a property, and getters and setters for private instance variables are frequently provided via properties. Descriptors, on the other hand, are more powerful and versatile than attributes. Not only instance variables but any sort of attribute may be controlled by them. Moreover, they may be used to create more sophisticated features like data validation, sluggish evaluation, and caching."
   ]
  },
  {
   "cell_type": "code",
   "execution_count": null,
   "id": "d1b422d8",
   "metadata": {},
   "outputs": [],
   "source": []
  }
 ],
 "metadata": {
  "kernelspec": {
   "display_name": "Python 3 (ipykernel)",
   "language": "python",
   "name": "python3"
  },
  "language_info": {
   "codemirror_mode": {
    "name": "ipython",
    "version": 3
   },
   "file_extension": ".py",
   "mimetype": "text/x-python",
   "name": "python",
   "nbconvert_exporter": "python",
   "pygments_lexer": "ipython3",
   "version": "3.9.13"
  }
 },
 "nbformat": 4,
 "nbformat_minor": 5
}
