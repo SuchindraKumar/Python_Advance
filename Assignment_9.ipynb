{
 "cells": [
  {
   "cell_type": "markdown",
   "id": "491f36ba",
   "metadata": {},
   "source": [
    "### Q1. In Python 3.X, what are the names and functions of string object types?"
   ]
  },
  {
   "cell_type": "markdown",
   "id": "7a5fe868",
   "metadata": {},
   "source": [
    "#### Ans. str: The default Python object type for representing Unicode text is a string. It may be produced using single, double, or triple quotes for strings with several lines. There are several helpful methods for working with strings provided by the str object type, including split(), join(), strip(), replace(), and others.\n",
    "\n",
    "#### Bytes: A series of bytes are represented by this object type. Bytes, in contrast to the str type, is often used to encrypt data before transmitting it over a network or to encode data before delivering it. It may be built with the bytes() function Object() { [native code] } or the b prefix. There are several helpful methods for working with bytes provided by the bytes object type, including decode(), encode(), startswith(), endswith(), and others."
   ]
  },
  {
   "cell_type": "markdown",
   "id": "2b177570",
   "metadata": {},
   "source": [
    "### Q2. How do the string forms in Python 3.X vary in terms of operations"
   ]
  },
  {
   "cell_type": "markdown",
   "id": "417bf6a6",
   "metadata": {},
   "source": [
    "#### Python can handle a subset of Unicode called ASCII. UTF-8 is Python's standard character encoding (UnicodeTransformation Format -8-bit).\n",
    "\n",
    "#### When the high bit is set to zero, ASCII is really a 7-bit character set that is translated to 8-bit bytes.\n",
    "\n",
    "#### Hence, ASCII letters are preserved in UTF-8.\n",
    "\n",
    "#### A non-zero high bit inicated that a character consisted of many bytes.¶"
   ]
  },
  {
   "cell_type": "code",
   "execution_count": 1,
   "id": "48bd74af",
   "metadata": {},
   "outputs": [
    {
     "name": "stdout",
     "output_type": "stream",
     "text": [
      "97\n"
     ]
    }
   ],
   "source": [
    "u=\"suchindra\"\n",
    "print(ord(u[-1]))"
   ]
  },
  {
   "cell_type": "markdown",
   "id": "250798f2",
   "metadata": {},
   "source": [
    "### Q3. In 3.X, how do you put non-ASCII Unicode characters in a string?"
   ]
  },
  {
   "cell_type": "markdown",
   "id": "145ba708",
   "metadata": {},
   "source": [
    "#### Ans.In Python 3.X, Unicode escape sequences or Unicode string literals can be used to insert non-ASCII Unicode characters into a string.\n",
    "\n",
    "#### Unicode escape sequences: The prefix 'u' or 'U' is followed by a four- or eight-digit hexadecimal number that denotes the character's Unicode code point in order to represent Unicode characters. The Unicode escape sequence, for instance, is u00E9 for the letter \"é\"."
   ]
  },
  {
   "cell_type": "code",
   "execution_count": 2,
   "id": "6f21e81d",
   "metadata": {},
   "outputs": [
    {
     "name": "stdout",
     "output_type": "stream",
     "text": [
      "café\n"
     ]
    }
   ],
   "source": [
    "# Using a Unicode escape sequence\n",
    "s = \"caf\\u00E9\"\n",
    "print(s)\n"
   ]
  },
  {
   "cell_type": "markdown",
   "id": "20f1a42e",
   "metadata": {},
   "source": [
    "#### Unicode string literal: A string is made into a Unicode string literal by adding the letter u before the string. By instructing Python to treat the string as a Unicode string, non-ASCII characters can now be directly inserted into the string. For instance:"
   ]
  },
  {
   "cell_type": "code",
   "execution_count": 3,
   "id": "dd05b99a",
   "metadata": {},
   "outputs": [
    {
     "name": "stdout",
     "output_type": "stream",
     "text": [
      "café\n"
     ]
    }
   ],
   "source": [
    "# Using a Unicode string literal\n",
    "s = u\"caf\\u00E9\"\n",
    "print(s) \n"
   ]
  },
  {
   "cell_type": "markdown",
   "id": "822aaf70",
   "metadata": {},
   "source": [
    "### Q4. In Python 3.X, what are the key differences between text-mode and binary-mode files?"
   ]
  },
  {
   "cell_type": "markdown",
   "id": "3ed42572",
   "metadata": {},
   "source": [
    "#### Ans. Text-mode files: Text-mode files are those that can be opened in the \"t\" or \"text\" mode. Python automatically transforms any platform-specific newline characters to the standard newline format ('n') when a file is opened in text mode, where it is viewed as a series of Unicode characters. In other words, while reading or writing to a text-mode file, Python will handle the encoding and decoding of the data to and from Unicode strings. For instance:"
   ]
  },
  {
   "cell_type": "code",
   "execution_count": 7,
   "id": "ab940926",
   "metadata": {},
   "outputs": [],
   "source": [
    "# Open a text-mode file for reading\n",
    "with open('example.txt', 'rt') as f:\n",
    "    data = f.read()  # Returns a Unicode string\n",
    "\n",
    "# Open a text-mode file for writing\n",
    "with open('example.txt', 'wt') as f:\n",
    "    f.write('Hello, world!')\n"
   ]
  },
  {
   "cell_type": "markdown",
   "id": "bc5ef688",
   "metadata": {},
   "source": [
    "#### Binary-mode files:Files that are opened in the \"b\" or \"binary\" mode are known as binary-mode files. In binary mode, Python doesn't conduct any encoding or decoding; instead, files are simply seen as a series of bytes. Python will not change the data in any way while reading or writing to a binary-mode file; it is up to the programmer to make sure the data is encoded and decoded correctly. For instance:"
   ]
  },
  {
   "cell_type": "code",
   "execution_count": 9,
   "id": "9644a89f",
   "metadata": {},
   "outputs": [],
   "source": [
    "# Open a binary-mode file for reading\n",
    "with open('example.bin', 'rb') as f:\n",
    "    data = f.read()  # Returns a bytes object\n",
    "\n",
    "# Open a binary-mode file for writing\n",
    "with open('example.bin', 'wb') as f:\n",
    "    f.write(b'\\x48\\x65\\x6c\\x6c\\x6f\\x2c\\x20\\x77\\x6f\\x72\\x6c\\x64\\x21')  # Writes a bytes object to file\n"
   ]
  },
  {
   "cell_type": "markdown",
   "id": "00d76abb",
   "metadata": {},
   "source": [
    "### Q5. How can you interpret a Unicode text file containing text encoded in a different encoding than your platform's default?"
   ]
  },
  {
   "cell_type": "markdown",
   "id": "1c6ffd7c",
   "metadata": {},
   "source": [
    "#### Ans. You can use the encoding argument of the open() method to provide the appropriate encoding in order to understand a Unicode text file that contains text encoded in a different manner from your platform's default encoding. For instance:"
   ]
  },
  {
   "cell_type": "code",
   "execution_count": 10,
   "id": "b61ae6dd",
   "metadata": {},
   "outputs": [],
   "source": [
    "import chardet\n",
    "\n",
    "# Detect the encoding of a text file\n",
    "with open('example.txt', 'rb') as f:\n",
    "    data = f.read()\n",
    "    encoding = chardet.detect(data)['encoding']\n",
    "\n",
    "# Open the text file with the detected encoding\n",
    "with open('example.txt', 'rt', encoding=encoding) as f:\n",
    "    data = f.read()  # Returns a Unicode string\n"
   ]
  },
  {
   "cell_type": "markdown",
   "id": "690f1484",
   "metadata": {},
   "source": [
    "### Q6. What is the best way to make a Unicode text file in a particular encoding format?"
   ]
  },
  {
   "cell_type": "markdown",
   "id": "068e7e26",
   "metadata": {},
   "source": [
    "#### Ans. 1. Open your text editor or IDE.\n",
    "#### 2. Create a new file or open an existing file that contains the text you want to save.\n",
    "#### 3. Select the option to save the file.\n",
    "#### 4. In the save dialog box, look for an option to specify the encoding. The location and wording of this option may vary depending on your text editor or IDE. In some editors, you may need to click an options button or expand a dropdown menu to see the encoding option.\n",
    "#### 5. Select the encoding you want to use. Common Unicode encoding formats include UTF-8, UTF-16LE, and UTF-16BE.\n",
    "#### 6. Save the file."
   ]
  },
  {
   "cell_type": "code",
   "execution_count": 11,
   "id": "e363e550",
   "metadata": {},
   "outputs": [
    {
     "name": "stdout",
     "output_type": "stream",
     "text": [
      "b'\\xd1\\x83\\xd0\\xbb\\xd1\\x8b\\xd0\\xb1\\xd0\\xb0\\xd1\\x82\\xd1\\x8c\\xd1\\x81\\xd1\\x8f \\xd0\\x92\\xd0\\xbb\\xd0\\xb0\\xd0\\xb4\\xd0\\xb8\\xd0\\xbc\\xd0\\xb8\\xd1\\x80 \\xd0\\x9f\\xd1\\x83\\xd1\\x82\\xd0\\xb8\\xd0\\xbd'\n",
      "\n",
      "b'\\xd1\\x83\\xd0\\xbb\\xd1\\x8b\\xd0\\xb1\\xd0\\xb0\\xd1\\x82\\xd1\\x8c\\xd1\\x81\\xd1\\x8f \\xd0\\x92\\xd0\\xbb\\xd0\\xb0\\xd0\\xb4\\xd0\\xb8\\xd0\\xbc\\xd0\\xb8\\xd1\\x80 \\xd0\\x9f\\xd1\\x83\\xd1\\x82\\xd0\\xb8\\xd0\\xbd'\n"
     ]
    }
   ],
   "source": [
    "unicode_text = u\"улыбаться Владимир Путин\"\n",
    "encoded_unicode_text = unicode_text.encode(\"utf-8\")\n",
    "print(encoded_unicode_text,end=\"\\n\\n\")\n",
    "\n",
    "w_file = open(\"w_file.txt\",\"wb\")\n",
    "w_file.write(encoded_unicode_text)\n",
    "w_file.close()\n",
    "\n",
    "r_file = open(\"w_file.txt\",\"rb\")\n",
    "data = r_file.read()\n",
    "print(data)"
   ]
  },
  {
   "cell_type": "markdown",
   "id": "12793aea",
   "metadata": {},
   "source": [
    "### Q7. What qualifies ASCII text as a form of Unicode text?"
   ]
  },
  {
   "cell_type": "markdown",
   "id": "23dba076",
   "metadata": {},
   "source": [
    "#### Ans. Because ASCII characters constitute a subset of the Unicode character set, ASCII text is regarded as a kind of Unicode text. The 128 characters of the ASCII character set, which are encoded using 7 bits, comprise letters, numbers, and symbols. On the other hand, the Unicode character set, which is encoded using up to 32 bits, has nearly 143,000 characters from scripts and languages all over the globe, including ASCII characters.\n",
    "\n",
    "#### Any text that solely contains ASCII characters may be encoded using the Unicode character set since ASCII characters are a subset of the Unicode character set. In truth, several Unicode encoding standards, like UTF-8 and UTF-16, are intended to be backwards-compatible with ASCII encoding, making it possible to decode ASCII-encoded text as Unicode text using these standards. As a result, it is feasible to express text in a broad range of languages and scripts using Unicode encoding while yet keeping traditional ASCII-encoded text compatible.."
   ]
  },
  {
   "cell_type": "markdown",
   "id": "5d535159",
   "metadata": {},
   "source": [
    "### Q8. How much of an effect does the change in string types in Python 3.X have on your code?"
   ]
  },
  {
   "cell_type": "markdown",
   "id": "6453dc9f",
   "metadata": {},
   "source": [
    "#### Ans. If your work interacts with text data, the switch from byte strings to Unicode strings in Python 3.X might have a substantial impact on it. Among the primary outcomes are:\n",
    "\n",
    "#### Syntax changes: Syntax alterations When writing string literals in Python 2.X, you might use single quotes, double quotes, or the b prefix to denote byte string literals. In Python 3.X, byte string literals are written using the b prefix followed by the quotations, whereas Unicode string literals are written using single or double quotes. This implies that you might want to change your string literals and, where necessary, use the b prefix.\n",
    "\n",
    "#### Text handling: You might need to alter your code to handle text data properly because strings are now Unicode by default. This involves making sure your input data is correctly encoded and your output data is properly decoded, for example. Also, any code that manipulates or performs string operations may need to be updated since it may act differently with Unicode strings than it does with byte strings.\n",
    "\n",
    "#### Libraries and dependencies: Certain external libraries and dependencies might not have been updated to support Unicode strings in Python 3.X, which may result in compatibility problems. You might have to discover different libraries that support Unicode strings or update your dependencies..\n",
    "\n",
    "#### Performance considerations: As compared to byte strings, Unicode strings may demand more processing power and memory. This could affect performance depending on the volume of your data and the procedures you do.\n",
    "\n",
    "#### Overall, the change in Python 3.X's string types might have a big impact on your code, especially if it works with text data. Yet, you may adapt your code to support Unicode strings and profit from the many advantages that Unicode offers with careful thought and testing."
   ]
  },
  {
   "cell_type": "code",
   "execution_count": null,
   "id": "6a11ec54",
   "metadata": {},
   "outputs": [],
   "source": []
  }
 ],
 "metadata": {
  "kernelspec": {
   "display_name": "Python 3 (ipykernel)",
   "language": "python",
   "name": "python3"
  },
  "language_info": {
   "codemirror_mode": {
    "name": "ipython",
    "version": 3
   },
   "file_extension": ".py",
   "mimetype": "text/x-python",
   "name": "python",
   "nbconvert_exporter": "python",
   "pygments_lexer": "ipython3",
   "version": "3.9.13"
  }
 },
 "nbformat": 4,
 "nbformat_minor": 5
}
