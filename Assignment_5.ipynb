{
 "cells": [
  {
   "cell_type": "markdown",
   "id": "3b4971fa",
   "metadata": {},
   "source": [
    "### Q1. What is the meaning of multiple inheritance?"
   ]
  },
  {
   "cell_type": "markdown",
   "id": "9e7934cb",
   "metadata": {},
   "source": [
    "#### Ans.A component of object-oriented programming is multiple inheritance, which allows a subclass to derive from many parent classes. In other words, a class can inherit properties and functionality from several parent classes.\n",
    "\n",
    "#### This implies that every property and method of each of the parent classes will be accessible to the subclass. When a class has to inherit functionality from many sources, this might be helpful."
   ]
  },
  {
   "cell_type": "code",
   "execution_count": 1,
   "id": "67f1b206",
   "metadata": {},
   "outputs": [
    {
     "name": "stdout",
     "output_type": "stream",
     "text": [
      "Mammals can give direct birth.\n",
      "Winged animals can flap.\n"
     ]
    }
   ],
   "source": [
    "class Mammal:\n",
    "    def mammal_info(self):\n",
    "        print(\"Mammals can give direct birth.\")\n",
    "\n",
    "class WingedAnimal:\n",
    "    def winged_animal_info(self):\n",
    "        print(\"Winged animals can flap.\")\n",
    "\n",
    "class Bat(Mammal, WingedAnimal):\n",
    "    pass\n",
    "\n",
    "# create an object of Bat class\n",
    "b1 = Bat()\n",
    "\n",
    "b1.mammal_info()\n",
    "b1.winged_animal_info()"
   ]
  },
  {
   "cell_type": "markdown",
   "id": "25e422c7",
   "metadata": {},
   "source": [
    "### Q2. What is the concept of delegation?"
   ]
  },
  {
   "cell_type": "markdown",
   "id": "9c308894",
   "metadata": {},
   "source": [
    "#### Ans. In programming, delegation refers to the process whereby one object transfers part of its duties to another object. In other words, one object delegates a job to another object that is more qualified to fulfil that task.\n",
    "\n",
    "#### Code reuse and the simplification of complicated code by breaking it up into smaller, more manageable pieces are both possible with delegation. Delegation enables the duties to be distributed across other objects rather than being implemented entirely within a single object."
   ]
  },
  {
   "cell_type": "markdown",
   "id": "4b102e66",
   "metadata": {},
   "source": [
    "### Q3. What is the concept of composition?"
   ]
  },
  {
   "cell_type": "markdown",
   "id": "3836ecf2",
   "metadata": {},
   "source": [
    "#### Ans.Delegation in Python is frequently implemented through composition, where one object gives another object some of its capabilities. A class can transfer part of its duties to the included objects by incorporating instances of other classes as properties.\n",
    "\n",
    "#### A class may include one or more instances of other classes as characteristics according to the programming idea of composition. In other terms, composition is the process of constructing a thing from different parts.\n",
    "\n",
    "#### Composition enables the reuse of functionality across many classes and the construction of more sophisticated objects from simpler ones. By encouraging modularity and the separation of concerns, it may also aid in enhancing the testability and maintainability of programmes."
   ]
  },
  {
   "cell_type": "markdown",
   "id": "09fd0e0a",
   "metadata": {},
   "source": [
    "### Q4. What are bound methods and how do we use them?"
   ]
  },
  {
   "cell_type": "markdown",
   "id": "bfd0a669",
   "metadata": {},
   "source": [
    "#### Ans.A bound method in Python is a method that is connected to an instance of a class and has access to the attributes of that instance. A method is automatically tied to an instance of a class when it is invoked on that instance."
   ]
  },
  {
   "cell_type": "code",
   "execution_count": 3,
   "id": "d14bde03",
   "metadata": {},
   "outputs": [
    {
     "name": "stdout",
     "output_type": "stream",
     "text": [
      "Hello, my name is John and I am 30 years old.\n"
     ]
    }
   ],
   "source": [
    "class Person:\n",
    "    def __init__(self, name, age):\n",
    "        self.name = name\n",
    "        self.age = age\n",
    "\n",
    "    def say_hello(self):\n",
    "        print(f\"Hello, my name is {self.name} and I am {self.age} years old.\")\n",
    "\n",
    "\n",
    "person = Person(\"John\", 30)\n",
    "person.say_hello()\n"
   ]
  },
  {
   "cell_type": "markdown",
   "id": "0391b4a0",
   "metadata": {},
   "source": [
    "### Q5. What is the purpose of pseudoprivate attributes?\n"
   ]
  },
  {
   "cell_type": "markdown",
   "id": "61344e7a",
   "metadata": {},
   "source": [
    "#### Pseudoprivate attributes in Python, commonly referred to as name mangling, are a means to make variables in a class that are difficult for outsiders to access. Pseudoprivate attributes are made by prefixing the attribute name with two underscores, such as __attribute.\n",
    "#### Pseudoprivate properties are used to avoid unintentionally changing class characteristics from outside the class. Python automatically mutilates an attribute name by adding a prefix to it when it is preceded by double underscores, making it more difficult to access from outside the class. This makes it easier to avoid name conflicts with attributes in subclasses or other classes and helps to prevent unintended changes to a class' internal state."
   ]
  },
  {
   "cell_type": "code",
   "execution_count": 1,
   "id": "5e9f8891",
   "metadata": {},
   "outputs": [
    {
     "name": "stdout",
     "output_type": "stream",
     "text": [
      "John\n",
      "Jane\n"
     ]
    },
    {
     "ename": "AttributeError",
     "evalue": "'Person' object has no attribute '__name'",
     "output_type": "error",
     "traceback": [
      "\u001b[1;31m---------------------------------------------------------------------------\u001b[0m",
      "\u001b[1;31mAttributeError\u001b[0m                            Traceback (most recent call last)",
      "\u001b[1;32m~\\AppData\\Local\\Temp\\ipykernel_26628\\2280228396.py\u001b[0m in \u001b[0;36m<module>\u001b[1;34m\u001b[0m\n\u001b[0;32m     25\u001b[0m \u001b[1;31m# Accessing the pseudoprivate attribute directly will raise an error\u001b[0m\u001b[1;33m\u001b[0m\u001b[1;33m\u001b[0m\u001b[0m\n\u001b[0;32m     26\u001b[0m \u001b[1;33m\u001b[0m\u001b[0m\n\u001b[1;32m---> 27\u001b[1;33m \u001b[0mprint\u001b[0m\u001b[1;33m(\u001b[0m\u001b[0mperson\u001b[0m\u001b[1;33m.\u001b[0m\u001b[0m__name\u001b[0m\u001b[1;33m)\u001b[0m  \u001b[1;31m# Raises an AttributeError\u001b[0m\u001b[1;33m\u001b[0m\u001b[1;33m\u001b[0m\u001b[0m\n\u001b[0m",
      "\u001b[1;31mAttributeError\u001b[0m: 'Person' object has no attribute '__name'"
     ]
    }
   ],
   "source": [
    "class Person:\n",
    "    def __init__(self, name, age):\n",
    "        self.__name = name\n",
    "        self.__age = age\n",
    "\n",
    "    def get_name(self):\n",
    "        return self.__name\n",
    "\n",
    "    def set_name(self, name):\n",
    "        self.__name = name\n",
    "\n",
    "    def get_age(self):\n",
    "        return self.__age\n",
    "\n",
    "    def set_age(self, age):\n",
    "        self.__age = age\n",
    "\n",
    "\n",
    "person = Person(\"John\", 30)\n",
    "print(person.get_name()) \n",
    "\n",
    "person.set_name(\"Jane\")\n",
    "print(person.get_name()) \n",
    "\n",
    "# Accessing the pseudoprivate attribute directly will raise an error\n",
    "\n",
    "print(person.__name)  # Raises an AttributeError\n"
   ]
  },
  {
   "cell_type": "code",
   "execution_count": null,
   "id": "484892e0",
   "metadata": {},
   "outputs": [],
   "source": []
  }
 ],
 "metadata": {
  "kernelspec": {
   "display_name": "Python 3 (ipykernel)",
   "language": "python",
   "name": "python3"
  },
  "language_info": {
   "codemirror_mode": {
    "name": "ipython",
    "version": 3
   },
   "file_extension": ".py",
   "mimetype": "text/x-python",
   "name": "python",
   "nbconvert_exporter": "python",
   "pygments_lexer": "ipython3",
   "version": "3.9.13"
  }
 },
 "nbformat": 4,
 "nbformat_minor": 5
}
