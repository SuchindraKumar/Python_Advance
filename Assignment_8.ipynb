{
 "cells": [
  {
   "cell_type": "markdown",
   "id": "df00cc65",
   "metadata": {},
   "source": [
    "### Q1. What are the two latest user-defined exception constraints in Python 3.X?"
   ]
  },
  {
   "cell_type": "markdown",
   "id": "a14c26e8",
   "metadata": {},
   "source": [
    "#### Ans. The two most recent user-defined exception limitations in Python 3.x are:\n",
    "\n",
    "#### cause: An exception can be connected to the exception that produced it using this property. It permits the chaining of exceptions and can give more details regarding an error's root cause.\n",
    "\n",
    "#### This property serves as a connection between an exception and the environment in which it was raised. For the purpose of debugging, it can be utilised to offer more details about the situation in which an issue happened.\n",
    "\n",
    "#### In Python 3.0, as part of the updated exception model, cause and context were added. They are accessible in all Python 3.x updates after that."
   ]
  },
  {
   "cell_type": "markdown",
   "id": "1f24916c",
   "metadata": {},
   "source": [
    "### Q2. How are class-based exceptions that have been raised matched to handlers?"
   ]
  },
  {
   "cell_type": "markdown",
   "id": "0133c50e",
   "metadata": {},
   "source": [
    "#### In order to catch the exception and properly manage it, the Python interpreter looks for a suitable exception handler when a class-based exception is produced. The exception handler list is searched in the order they are defined until a handler matching the raised exception is discovered. As the hunt moves forward,\n",
    "\n",
    "#### The exception class mentioned in the except clause must exactly match the exception that was raised, according to the interpreter. If a match is discovered, the relevant unless block is carried out.\n",
    "\n",
    "#### The interpreter searches for a handler that matches a base class of the raised exception if a precise match cannot be found. If a match is discovered, the relevant unless block is carried out.\n",
    "\n",
    "#### The interpreter then looks through the list of outer try statements to determine if a handler is defined in an enclosing try block if no handler is found.\n",
    "\n",
    "#### The programme ends with an unhandled exception error if no handler is discovered in any of the try statements."
   ]
  },
  {
   "cell_type": "markdown",
   "id": "9ac969d4",
   "metadata": {},
   "source": [
    "### Q3. Describe two methods for attaching context information to exception artefacts."
   ]
  },
  {
   "cell_type": "markdown",
   "id": "258e6d8d",
   "metadata": {},
   "source": [
    "#### Ans. Attaching additional context data to the exception artefacts, such as the exception object, traceback, or logging messages, might be useful when handling exceptions in Python. Understanding the error's root cause and troubleshooting can both benefit from this knowledge. The following are two techniques for adding context data to exception artefacts:\n",
    "\n",
    "#### Using exception justifications When raising an exception, Python's exception classes let you give extra parameters that can be utilised to offer context. Think about the following code, for instance:"
   ]
  },
  {
   "cell_type": "code",
   "execution_count": 11,
   "id": "9cafcc02",
   "metadata": {},
   "outputs": [
    {
     "name": "stdout",
     "output_type": "stream",
     "text": [
      "s\n",
      "invalid literal for int() with base 10: 's'\n",
      "hello world\n"
     ]
    }
   ],
   "source": [
    "try:\n",
    "    a=int(input())\n",
    "    b=int(input())\n",
    "except Exception as e:\n",
    "    print(e)\n",
    "print(\"hello world\")   "
   ]
  },
  {
   "cell_type": "markdown",
   "id": "ff9b2b72",
   "metadata": {},
   "source": [
    "#### Using Logging:By logging the information when the exception happens, you may also add context information to exceptions. The Python logging package offers a handy method for logging messages with various severity levels. For instance:"
   ]
  },
  {
   "cell_type": "code",
   "execution_count": 12,
   "id": "e0e5c353",
   "metadata": {},
   "outputs": [
    {
     "name": "stdout",
     "output_type": "stream",
     "text": [
      "t\n"
     ]
    },
    {
     "name": "stderr",
     "output_type": "stream",
     "text": [
      "ERROR:root:An error occurred\n",
      "Traceback (most recent call last):\n",
      "  File \"C:\\Users\\suchi\\AppData\\Local\\Temp\\ipykernel_20780\\2105851767.py\", line 4, in <module>\n",
      "    a=int(input())\n",
      "ValueError: invalid literal for int() with base 10: 't'\n"
     ]
    },
    {
     "name": "stdout",
     "output_type": "stream",
     "text": [
      "invalid literal for int() with base 10: 't'\n"
     ]
    }
   ],
   "source": [
    "import logging\n",
    "\n",
    "try:\n",
    "    a=int(input())\n",
    "    b=int(input())\n",
    "\n",
    "except Exception as e:\n",
    "    print(e)\n",
    "    logging.error(\"An error occurred\", exc_info=True, extra={\"context\": \"some context\"})\n"
   ]
  },
  {
   "cell_type": "markdown",
   "id": "d2a06c7c",
   "metadata": {},
   "source": [
    "### Q4. Describe two methods for specifying the text of an exception object's error message."
   ]
  },
  {
   "cell_type": "markdown",
   "id": "2a10317c",
   "metadata": {},
   "source": [
    "#### Ans. There are two primary ways to provide the text of an exception object's error message in Python:\n",
    "\n",
    "#### Using exception justifications To offer a specific error message while raising an exception, you may pass a string message as a parameter to the exception function Object() { [native code] }. For instance:"
   ]
  },
  {
   "cell_type": "code",
   "execution_count": 17,
   "id": "4a9c2ae1",
   "metadata": {},
   "outputs": [
    {
     "name": "stdout",
     "output_type": "stream",
     "text": [
      "enter a number: 1\n",
      "not an even number\n"
     ]
    }
   ],
   "source": [
    "try:\n",
    "    num=int(input(\"enter a number: \"))\n",
    "    assert num%2==0\n",
    "    \n",
    "except:\n",
    "    print(\"not an even number\")"
   ]
  },
  {
   "cell_type": "markdown",
   "id": "daaa8f03",
   "metadata": {},
   "source": [
    "#### Overriding the str() Method: You may also override the str() method in the exception class to provide the text of an exception object's error message. The str() function ought to provide a string that provides a human-readable description of the exception. For instance:"
   ]
  },
  {
   "cell_type": "code",
   "execution_count": 2,
   "id": "6513cd4d",
   "metadata": {},
   "outputs": [
    {
     "name": "stdout",
     "output_type": "stream",
     "text": [
      "enter a number: 1\n"
     ]
    },
    {
     "ename": "CustomException",
     "evalue": "CustomException: An error occurred with custom message",
     "output_type": "error",
     "traceback": [
      "\u001b[1;31m---------------------------------------------------------------------------\u001b[0m",
      "\u001b[1;31mAssertionError\u001b[0m                            Traceback (most recent call last)",
      "\u001b[1;32m~\\AppData\\Local\\Temp\\ipykernel_3972\\57289776.py\u001b[0m in \u001b[0;36m<module>\u001b[1;34m\u001b[0m\n\u001b[0;32m     10\u001b[0m     \u001b[0mnum\u001b[0m\u001b[1;33m=\u001b[0m\u001b[0mint\u001b[0m\u001b[1;33m(\u001b[0m\u001b[0minput\u001b[0m\u001b[1;33m(\u001b[0m\u001b[1;34m\"enter a number: \"\u001b[0m\u001b[1;33m)\u001b[0m\u001b[1;33m)\u001b[0m\u001b[1;33m\u001b[0m\u001b[1;33m\u001b[0m\u001b[0m\n\u001b[1;32m---> 11\u001b[1;33m     \u001b[1;32massert\u001b[0m \u001b[0mnum\u001b[0m\u001b[1;33m%\u001b[0m\u001b[1;36m2\u001b[0m\u001b[1;33m==\u001b[0m\u001b[1;36m0\u001b[0m\u001b[1;33m\u001b[0m\u001b[1;33m\u001b[0m\u001b[0m\n\u001b[0m\u001b[0;32m     12\u001b[0m \u001b[1;33m\u001b[0m\u001b[0m\n",
      "\u001b[1;31mAssertionError\u001b[0m: ",
      "\nThe above exception was the direct cause of the following exception:\n",
      "\u001b[1;31mCustomException\u001b[0m                           Traceback (most recent call last)",
      "\u001b[1;32m~\\AppData\\Local\\Temp\\ipykernel_3972\\57289776.py\u001b[0m in \u001b[0;36m<module>\u001b[1;34m\u001b[0m\n\u001b[0;32m     13\u001b[0m \u001b[1;32mexcept\u001b[0m \u001b[0mException\u001b[0m \u001b[1;32mas\u001b[0m \u001b[0me\u001b[0m\u001b[1;33m:\u001b[0m\u001b[1;33m\u001b[0m\u001b[1;33m\u001b[0m\u001b[0m\n\u001b[0;32m     14\u001b[0m \u001b[1;33m\u001b[0m\u001b[0m\n\u001b[1;32m---> 15\u001b[1;33m     \u001b[1;32mraise\u001b[0m \u001b[0mCustomException\u001b[0m\u001b[1;33m(\u001b[0m\u001b[1;34m\"An error occurred with custom message\"\u001b[0m\u001b[1;33m)\u001b[0m \u001b[1;32mfrom\u001b[0m \u001b[0me\u001b[0m\u001b[1;33m\u001b[0m\u001b[1;33m\u001b[0m\u001b[0m\n\u001b[0m",
      "\u001b[1;31mCustomException\u001b[0m: CustomException: An error occurred with custom message"
     ]
    }
   ],
   "source": [
    "class CustomException(Exception):\n",
    "    def __init__(self, message):\n",
    "        self.message = message\n",
    "        super().__init__()\n",
    "\n",
    "    def __str__(self):\n",
    "        return f\"CustomException: {self.message}\"\n",
    "\n",
    "try:\n",
    "    num=int(input(\"enter a number: \"))\n",
    "    assert num%2==0\n",
    "    \n",
    "except Exception as e:\n",
    "\n",
    "    raise CustomException(\"An error occurred with custom message\") from e\n"
   ]
  },
  {
   "cell_type": "markdown",
   "id": "a41d58ac",
   "metadata": {},
   "source": [
    "### Q5. Why do you no longer use string-based exceptions?"
   ]
  },
  {
   "cell_type": "markdown",
   "id": "c88a2483",
   "metadata": {},
   "source": [
    "#### Ans. LLack of Typing: One of the primary problems with exceptions raised by strings is that they lack typing, making it challenging to identify the kind of exception being thrown. Due to this, handling exceptions correctly may become more difficult and may result in confusion and mistakes.\n",
    "\n",
    "#### Very Little Information String-based exceptions only give the error message as extra information. They don't offer a traceback or any other helpful debugging details that may aid in identifying the error's root cause.\n",
    "\n",
    "##### Lower Extendability: Less extensible than class-based exceptions are string-based exceptions. You may construct unique exception classes with unique characteristics and methods using class-based exceptions. This facilitates the provision of extra error details and the more detailed handling of certain exceptions.\n",
    "\n",
    "#### No Built-in Handling: String-based exceptions in Python do not come with built-in handling. As a result, addressing string-based exceptions requires writing bespoke code, which can be time-consuming compared to utilising class-based exceptions' built-in exception handling features."
   ]
  },
  {
   "cell_type": "code",
   "execution_count": null,
   "id": "4a73cfcd",
   "metadata": {},
   "outputs": [],
   "source": []
  }
 ],
 "metadata": {
  "kernelspec": {
   "display_name": "Python 3 (ipykernel)",
   "language": "python",
   "name": "python3"
  },
  "language_info": {
   "codemirror_mode": {
    "name": "ipython",
    "version": 3
   },
   "file_extension": ".py",
   "mimetype": "text/x-python",
   "name": "python",
   "nbconvert_exporter": "python",
   "pygments_lexer": "ipython3",
   "version": "3.9.13"
  }
 },
 "nbformat": 4,
 "nbformat_minor": 5
}
