{
 "cells": [
  {
   "cell_type": "markdown",
   "id": "c3008a56",
   "metadata": {},
   "source": [
    "### Q1. Which two operator overloading methods can you use in your classes to support iteration?"
   ]
  },
  {
   "cell_type": "markdown",
   "id": "8f154b98",
   "metadata": {},
   "source": [
    "#### Ans. You may support iteration in your classes by using one of the following two operator overloading techniques:\n",
    "\n",
    "#### iter: This method returns an iterator object, which is used to iterate through the elements of the class. This function must return an object that implements the next() method.\n",
    "\n",
    "#### next: If there are no more elements to iterate through, this method raises the StopIteration exception instead of returning the subsequent element in the iteration sequence.\n",
    "\n",
    "#### These techniques work together to let you make iterable objects that Python for loops and other iteration contexts may utilise. You may specify the iter method to return self as well as the next method to return the subsequent element in the iteration sequence up until there are no more items left to iterate through to implement iteration in your class."
   ]
  },
  {
   "cell_type": "markdown",
   "id": "69122497",
   "metadata": {},
   "source": [
    "### Q2. In what contexts do the two operator overloading methods manage printing?"
   ]
  },
  {
   "cell_type": "markdown",
   "id": "e8d7a00e",
   "metadata": {},
   "source": [
    "#### Ans. __str__: When you use the print() or str() functions on an object, this method is invoked. A string representation of the item should be returned. ¶\n",
    "\n",
    "#### __Repr__: When you use an object's repr() function, this method is invoked. A string representation of the object that may be used to rebuild the object should be returned."
   ]
  },
  {
   "cell_type": "markdown",
   "id": "48a779c9",
   "metadata": {},
   "source": [
    "### Q3. In a class, how do you intercept slice operations?"
   ]
  },
  {
   "cell_type": "markdown",
   "id": "5051f0a5",
   "metadata": {},
   "source": [
    "#### Ans. By creating the getitem function, you may stop slicing operations in a class in Python. When you retrieve an item from an object using the square bracket syntax, as in my object[start:stop:step], the getitem function is invoked."
   ]
  },
  {
   "cell_type": "code",
   "execution_count": 1,
   "id": "a2cdaca3",
   "metadata": {},
   "outputs": [
    {
     "name": "stdout",
     "output_type": "stream",
     "text": [
      "[2, 4]\n"
     ]
    }
   ],
   "source": [
    "class MyList:\n",
    "    def __init__(self, data):\n",
    "        self.data = data\n",
    "\n",
    "    def __getitem__(self, index):\n",
    "        if isinstance(index, slice):\n",
    "            start, stop, step = index.indices(len(self.data))\n",
    "            return [self.data[i] for i in range(start, stop, step)]\n",
    "        else:\n",
    "            return self.data[index]\n",
    "\n",
    "        \n",
    "my_list = MyList([1, 2, 3, 4, 5])\n",
    "print(my_list[1:4:2])\n",
    "        "
   ]
  },
  {
   "cell_type": "markdown",
   "id": "1181bdf9",
   "metadata": {},
   "source": [
    "### Q4. In a class, how do you capture in-place addition?"
   ]
  },
  {
   "cell_type": "markdown",
   "id": "cf9b38ca",
   "metadata": {},
   "source": [
    "#### Ans: By creating the iadd function, you may implement in-place addition in Python classes. When you use the += operator to an object, such as my object += other object, the iadd function is invoked."
   ]
  },
  {
   "cell_type": "code",
   "execution_count": 2,
   "id": "c549aca0",
   "metadata": {},
   "outputs": [
    {
     "name": "stdout",
     "output_type": "stream",
     "text": [
      "15\n"
     ]
    }
   ],
   "source": [
    "class MyClass:\n",
    "    def __init__(self, value):\n",
    "        self.value = value\n",
    "\n",
    "    def __iadd__(self, other):\n",
    "        self.value += other\n",
    "        return self\n",
    "\n",
    "    \n",
    "    \n",
    "my_object = MyClass(10)\n",
    "my_object += 5\n",
    "print(my_object.value)\n",
    "    "
   ]
  },
  {
   "cell_type": "markdown",
   "id": "6368a40f",
   "metadata": {},
   "source": [
    "### Q5. When is it appropriate to use operator overloading?"
   ]
  },
  {
   "cell_type": "markdown",
   "id": "187f3b29",
   "metadata": {},
   "source": [
    "#### Ans. You may specify how operators like +, -, *, /, etc. act on instances of your own classes in Python by using operator overloading.\n",
    "\n",
    "#### Operator overloading may be helpful in the following circumstances:\n",
    "\n",
    "#### 1. You wish to describe how arithmetic operations behave on instances of your class, which represents a mathematical or numerical idea.\n",
    "\n",
    "#### 2. You wish to specify how indexing, slicing, and concatenation operations operate on instances of your class, which represents a container or sequence.\n",
    "\n",
    "#### 3. You wish to specify how comparison, equality, and other logical operations behave on instances of your class, which represents a unique data type."
   ]
  },
  {
   "cell_type": "code",
   "execution_count": null,
   "id": "efea70f9",
   "metadata": {},
   "outputs": [],
   "source": []
  }
 ],
 "metadata": {
  "kernelspec": {
   "display_name": "Python 3 (ipykernel)",
   "language": "python",
   "name": "python3"
  },
  "language_info": {
   "codemirror_mode": {
    "name": "ipython",
    "version": 3
   },
   "file_extension": ".py",
   "mimetype": "text/x-python",
   "name": "python",
   "nbconvert_exporter": "python",
   "pygments_lexer": "ipython3",
   "version": "3.9.13"
  }
 },
 "nbformat": 4,
 "nbformat_minor": 5
}
