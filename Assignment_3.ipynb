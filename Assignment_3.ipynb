{
 "cells": [
  {
   "cell_type": "markdown",
   "id": "d7de73a1",
   "metadata": {},
   "source": [
    "### 1. What is the concept of an abstract superclass?"
   ]
  },
  {
   "cell_type": "markdown",
   "id": "f4e912df",
   "metadata": {},
   "source": [
    "#### An abstract superclass is a class used in object-oriented programming that is solely meant to be used as a basis or template for other classes and not to be created directly. It provides a common interface and behaviour that its subclasses can inherit and extend, acting as a generalisation of those subclasses.\n",
    "\n",
    "#### An abstract superclass does not give a full implementation of the methods or properties it declares, but subclasses are required to implement or override them. As a result, the superclass's behaviour may be modified by the subclasses to suit their particular requirements.\n",
    "\n",
    "#### While building a hierarchy of related classes, abstract superclasses are helpful since they describe common behaviour and properties while the subclasses give specialised implementations for various use cases. This can make the code more modular and simpler to maintain, as well as eliminate duplication of code and boost code reusability.\n",
    "\n",
    "#### With the ABC class and module, you can define an abstract superclass in Python. You can declare a class as abstract and demand that its subclasses implement those methods by inheriting from ABC and using the @abstractmethod decorator on methods."
   ]
  },
  {
   "cell_type": "markdown",
   "id": "976bb9d9",
   "metadata": {},
   "source": [
    "### 2. What happens when a class statement's top level contains a basic assignment statement?"
   ]
  },
  {
   "cell_type": "markdown",
   "id": "be184c42",
   "metadata": {},
   "source": [
    "#### Ans.  When a basic assignment statement appears in the top level of a class statement, the assignment adds a new class-level attribute to the class. The class and its instances can both access and change this attribute, which is shared by all class instances."
   ]
  },
  {
   "cell_type": "code",
   "execution_count": 3,
   "id": "e5d3c0f8",
   "metadata": {},
   "outputs": [],
   "source": [
    "class MyClass:\n",
    "    class_attr = 10\n",
    "    def __init__(self, instance_attr):\n",
    "        self.instance_attr = instance_attr\n"
   ]
  },
  {
   "cell_type": "code",
   "execution_count": 4,
   "id": "3cb5983d",
   "metadata": {},
   "outputs": [
    {
     "name": "stdout",
     "output_type": "stream",
     "text": [
      "10\n",
      "10\n"
     ]
    }
   ],
   "source": [
    "print(MyClass.class_attr) \n",
    "\n",
    "my_instance = MyClass(20)\n",
    "print(my_instance.class_attr)\n",
    "\n"
   ]
  },
  {
   "cell_type": "code",
   "execution_count": 5,
   "id": "b598e2c9",
   "metadata": {},
   "outputs": [
    {
     "name": "stdout",
     "output_type": "stream",
     "text": [
      "20\n",
      "30\n",
      "20\n"
     ]
    }
   ],
   "source": [
    "MyClass.class_attr = 20\n",
    "print(MyClass.class_attr) \n",
    "\n",
    "my_instance.class_attr = 30\n",
    "print(my_instance.class_attr) \n",
    "print(MyClass.class_attr) \n"
   ]
  },
  {
   "cell_type": "markdown",
   "id": "57aad9eb",
   "metadata": {},
   "source": [
    "### 3. Why does a class need to manually call a superclass's __init__ method?"
   ]
  },
  {
   "cell_type": "markdown",
   "id": "198e2168",
   "metadata": {},
   "source": [
    "#### When a class overrides a superclass's init function but wishes to keep the superclass's initialization logic, the class must manually invoke the superclass's init method. By doing so, the subclass can inherit the characteristics and actions of the superclass while also modifying or extending them.\n",
    "\n",
    "#### When a subclass overrides a superclass's init method, the superclass's initialization logic is lost and the new init method replaces the old one. The subclass can explicitly use the superclass's init function while giving the required parameters to stop this from happening.\n",
    "\n",
    "#### Take the following class hierarchy, for instance:"
   ]
  },
  {
   "cell_type": "code",
   "execution_count": 6,
   "id": "5cd1d81b",
   "metadata": {},
   "outputs": [],
   "source": [
    "class Animal:\n",
    "    def __init__(self, name):\n",
    "        self.name = name\n",
    "\n",
    "class Cat(Animal):\n",
    "    def __init__(self, name, color):\n",
    "        self.color = color\n"
   ]
  },
  {
   "cell_type": "code",
   "execution_count": 7,
   "id": "164d3435",
   "metadata": {},
   "outputs": [],
   "source": [
    "class Cat(Animal):\n",
    "    def __init__(self, name, color):\n",
    "        super().__init__(name)\n",
    "        self.color = color\n"
   ]
  },
  {
   "cell_type": "code",
   "execution_count": 10,
   "id": "30a12de9",
   "metadata": {},
   "outputs": [
    {
     "name": "stdout",
     "output_type": "stream",
     "text": [
      "<__main__.Animal object at 0x00000214A026A1F0>\n"
     ]
    }
   ],
   "source": [
    "obj=Animal()\n",
    "print(obj)"
   ]
  },
  {
   "cell_type": "markdown",
   "id": "8545a267",
   "metadata": {},
   "source": [
    "### 4. How can you augment, instead of completely replacing, an inherited method?"
   ]
  },
  {
   "cell_type": "markdown",
   "id": "561ced2c",
   "metadata": {},
   "source": [
    "#### Ans: Instead of fully replacing an inherited method, you may extend it by overriding it in the subclass and utilising the super() function to access the superclass's implementation. This enables you to extend the method's functionality without changing how it behaves from its initial implementation."
   ]
  },
  {
   "cell_type": "code",
   "execution_count": 8,
   "id": "eaed7b32",
   "metadata": {},
   "outputs": [
    {
     "name": "stdout",
     "output_type": "stream",
     "text": [
      "The animal speaks.\n",
      "The dog barks.\n"
     ]
    }
   ],
   "source": [
    "class Animal:\n",
    "    def speak(self):\n",
    "        print(\"The animal speaks.\")\n",
    "\n",
    "class Dog(Animal):\n",
    "    def speak(self):\n",
    "        super().speak() \n",
    "        print(\"The dog barks.\")\n",
    "\n",
    "dog = Dog()\n",
    "dog.speak() \n"
   ]
  },
  {
   "cell_type": "markdown",
   "id": "16c87022",
   "metadata": {},
   "source": [
    "### 5. How is the local scope of a class different from that of a function?"
   ]
  },
  {
   "cell_type": "markdown",
   "id": "e50bc488",
   "metadata": {},
   "source": [
    "#### There are various ways in which the local scope of a class differs from that of a function:\n",
    "\n",
    "#### Every method in a class has a unique self parameter that identifies the class instance on which the method is being called. Function scopes do not contain this parameter. ¶\n",
    "\n",
    "#### Class characteristics are accessible: Class attributes, or attributes declared at the class level using the self keyword, are accessible to methods of a class. On the other side, functions are unable to access class attributes.\n",
    "\n",
    "##### Attributes created at the instance level with the self keyword are known as instance attributes, and class methods have access to them. Instance properties are inaccessible to functions.\n",
    "\n",
    "#### Visibility of names: In a class definition, any names declared at the top level of the class block are visible throughout the class definition, even in methods. In a function definition, names declared within the function are only accessible within the function scope.\n",
    "\n",
    "##### Class definitions may reuse and enhance existing code thanks to inheritance, which lets them take on properties and behaviours from parent classes. Function definitions are unable to achieve this.\n",
    "\n",
    "##### In summary, due to the unique self argument, access to class and instance attributes, and inheritance, a class's local scope is more complicated than that of a function."
   ]
  },
  {
   "cell_type": "code",
   "execution_count": null,
   "id": "707b05cd",
   "metadata": {},
   "outputs": [],
   "source": []
  }
 ],
 "metadata": {
  "kernelspec": {
   "display_name": "Python 3 (ipykernel)",
   "language": "python",
   "name": "python3"
  },
  "language_info": {
   "codemirror_mode": {
    "name": "ipython",
    "version": 3
   },
   "file_extension": ".py",
   "mimetype": "text/x-python",
   "name": "python",
   "nbconvert_exporter": "python",
   "pygments_lexer": "ipython3",
   "version": "3.9.13"
  }
 },
 "nbformat": 4,
 "nbformat_minor": 5
}
