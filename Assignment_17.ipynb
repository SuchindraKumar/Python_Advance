{
 "cells": [
  {
   "cell_type": "markdown",
   "id": "ce242dcd",
   "metadata": {},
   "source": [
    "### Q1. Explain the difference between greedy and non-greedy syntax with visual terms in as few words as possible. What is the bare minimum effort required to transform a greedy pattern into a non-greedy one? What characters or characters can you introduce or change?"
   ]
  },
  {
   "cell_type": "markdown",
   "id": "3a3ea232",
   "metadata": {},
   "source": [
    "#### Ans. Regular expressions with greedy syntax match as much input as feasible, and regular expressions without greedy syntax match as little input as possible.\n",
    "\n",
    "#### You may include a question mark to change a greedy pattern into a non-greedy one. after a quantifier, like * or +. For instance,.*? is a non-greedy pattern that matches the fewest characters possible, whereas.*? is a greedy pattern that matches any amount of characters. Similar to.+,.+? is a non-greedy pattern that matches as few characters as possible..+? is a greedy pattern that matches one or more characters.\n",
    "\n",
    "#### You may modify the quantifier from being greedy to not being greedy by adding a question mark. The question mark serves as a modifier that instructs the regular expression engine to match the fewest number of characters rather than the greatest number of characters.\n",
    "\n",
    "####  non-greedy pattern reaches out and grabs as little of the input as possible, whereas a greedy pattern stretches out and grabs as much of the input as possible. This might be helpful to visualise when attempting to understand the behaviour of regular expressions with greedy and non-greedy syntax."
   ]
  },
  {
   "cell_type": "markdown",
   "id": "d92496a5",
   "metadata": {},
   "source": [
    "### Q2. When exactly does greedy versus non-greedy make a difference?  What if you're looking for a non-greedy match but the only one available is greedy?"
   ]
  },
  {
   "cell_type": "markdown",
   "id": "a1ceeed7",
   "metadata": {},
   "source": [
    "#### Ans. There is a distinction between greedy and non-greedy matching when a regular expression has numerous potential matches. It has an impact on how the regular expression engine chooses which match to utilise in particular\n",
    "\n",
    "#### A regular expression will match as much input as feasible if it contains a greedy quantifier (such as * or +). In the event that there are several matches, this can result in unexpected behaviour. Take the input string abcabc and the regular expression a.*c as an example. Because.* matches all characters between the first a and the last c, this regular expression will match the complete string, abcabc, when greedy matching is used. To match as little input as feasible, we might use a non-greedy quantifier (such as *? or +?) if we just wanted to match the first instance of a followed by c. The regular phrase a.*?c, for instance, would only match the first instance of a followed by c.\n",
    "\n",
    "#### To accomplish the desired effect, you might need to tweak the regular expression if a non-greedy match is unavailable but a greedy match is. To more accurately define the intended match, this can include employing extra regular expression constructions (such lookaheads or lookbehinds). The usage of extra string manipulation or programming logic may be necessary in some circumstances if regular expressions alone are unable to provide the required outcome."
   ]
  },
  {
   "cell_type": "markdown",
   "id": "ccae28ec",
   "metadata": {},
   "source": [
    "### Q3. In a simple match of a string, which looks only for one match and does not do any replacement, is the use of a nontagged group likely to make any practical difference?"
   ]
  },
  {
   "cell_type": "markdown",
   "id": "60471ff1",
   "metadata": {},
   "source": [
    "#### Ans. The usage of a non-tagged group is probably not going to make a practical difference in a straightforward string match when just one match is anticipated and no replacement is carried out.\n",
    "\n",
    "#### The functionality of the regular expression engine is unaffected by non-tagged groups, which are used to group a collection of regular expression constructs together but do not record the matched substring. Although the introduction of non-tagged groups can make regular expressions easier to understand, their existence or absence is unlikely to have a substantial practical impact in the case of a simple match when no further processing is applied to the matched substring.\n",
    "\n",
    "#### Nevertheless, employing non-tagged groups can have minor effects on the behaviour of the regular expression engine if the regular expression is more intricate and contains several groups. For instance, the placement and reordering of non-tagged groups may have an impact on the way replacement strings employ backreferences or how quantifiers that follow the group behave. In these situations, it's crucial to carefully analyse the use of non-tagged groups and how they may affect the regular expression's general behaviour."
   ]
  },
  {
   "cell_type": "markdown",
   "id": "7f7a645c",
   "metadata": {},
   "source": [
    "### Q4. Describe a scenario in which using a nontagged category would have a significant impact on the program's outcomes."
   ]
  },
  {
   "cell_type": "markdown",
   "id": "8a9909a0",
   "metadata": {},
   "source": [
    "#### Ans. One circumstance where employing a non-tagged category in regular expressions might have a substantial influence on programme outputs is when the regular expression comprises numerous capturing groups, and the order and location of those groups are essential for future processing.\n",
    "\n",
    "#### Consider a regular expression that extracts the username and domain name as independent groups and matches email addresses as an example. The following pattern is frequently used to match email addresses with regular expressions: (w+)@(w+.w+). Two capturing groups, one for the username and one for the domain name, are included in this regular expression.\n",
    "\n",
    "#### Let's imagine that we want to extract the username after the domain name. The regular expression's groupings might be rearranged as follows: (w+.w+)@(w+). Nevertheless, this would lead to a different second capturing group, necessitating a change in the code that handles the matched groups.\n",
    "\n",
    "####  As an alternative, we might group the portions of the regular expression that we don't need to record using non-tagged groups. For instance, to match optional subdomains before the domain name, we may change the original regular expression to utilise non-tagged groups like this: w+@(?:w+.)?(w+.w+). The non-tagged group is used to group a collection of regular expression constructs without capturing the matched substring in this regular expression, which nevertheless has two capturing groups. By doing this, we may alter the regular expression without altering the recorded groups so that it matches email addresses in a slightly different format, making it easier to handle the matched groups later on."
   ]
  },
  {
   "cell_type": "markdown",
   "id": "3e7e96d8",
   "metadata": {},
   "source": [
    "### Q5. Unlike a normal regex pattern, a look-ahead condition does not consume the characters it examines. Describe a situation in which this could make a difference in the results of your programme."
   ]
  },
  {
   "cell_type": "markdown",
   "id": "280bf2a7",
   "metadata": {},
   "source": [
    "#### Ans. A regular expression's look-ahead condition tests if a pattern matches the characters in the string that are ahead of the present place without actually consuming those characters. This behaviour can make a difference in the output of a programme when the regular expression has to match a pattern that contains specified characters after it, but those characters should not be included in the match.\n",
    "\n",
    "#### Take a regular phrase, for instance, that matches phone numbers in a certain format, such as (123) 456-7890. To match phone numbers in this format, we might use the following regular expression: (\\(\\d{3}\\)\\s*\\d{3}-\\d{4}). What if we don't want the comma and space to be part of the match but just want to match the phone number if it is followed by a comma and a space?\n",
    "\n",
    "#### If the phone number is followed by a comma and a space, we may use a look-ahead assertion, like this: ((d3)s*d3-d4)(?=,s). This regular expression has a positive look-ahead assertion (?=,s) that tests for the presence of a comma and a space after the phone number without actually matching those characters.\n",
    "\n",
    "#### The regular expression would match the phone number and the comma and space after it without the look-ahead statement, which may not be desirable in some circumstances. In this situation, using a look-ahead assertion guarantees that just the phone number itself is included in the match and leaves the characters that come after it unaffected. This enables us to match the phone number in the appropriate format."
   ]
  },
  {
   "cell_type": "markdown",
   "id": "29c02a11",
   "metadata": {},
   "source": [
    "### Q6. In standard expressions, what is the difference between positive look-ahead and negative look-ahead?"
   ]
  },
  {
   "cell_type": "markdown",
   "id": "7f623336",
   "metadata": {},
   "source": [
    "#### Ans. Regular expressions allow us to glance forward in the string to determine if a pattern matches without actually consuming any characters. These look-ahead assertions can be either positive or negative.\n",
    "\n",
    "#### The matched behaviour of positive and negative look-ahead is what distinguishes them:\n",
    "\n",
    "#### Good outlook: Only if the pattern inside the look-ahead matches the characters ahead of the current place does a positive look-ahead assertion, denoted by (?=...), match the current position in the string. There is no character consumption. The regular expression engine continues with the rest of the match if the pattern inside the look-ahead matches. The regular expression engine goes back and tries another match beginning at the next point in the string if the pattern inside the look-ahead does not match.\n",
    "\n",
    "#### Negative looking-forward A negative look-ahead assertion is expressed as (?!...) and matches the current place in the string only if the pattern within the look-ahead does not match the characters ahead of the current position. There is no character consumption. The regular expression engine continues with the rest of the match if the pattern inside the negative look-ahead does not match. The regular expression engine goes back and tries another match beginning at the next point in the string if the pattern within the negative look-ahead matches.\n",
    "\n",
    "#### In conclusion, positive look-ahead matches only if the look-ahead pattern matches, but negative look-ahead matches only if the look-ahead pattern does not match."
   ]
  },
  {
   "cell_type": "markdown",
   "id": "749fdc06",
   "metadata": {},
   "source": [
    "### Q7. What is the benefit of referring to groups by name rather than by number in a standard expression?"
   ]
  },
  {
   "cell_type": "markdown",
   "id": "7916be74",
   "metadata": {},
   "source": [
    "#### Ans. In a standard expression, group references by names instead of numbers provide the following advantages:\n",
    "\n",
    "#### Readability: Group names help the regular expression be easier to read and comprehend, particularly when working with intricate patterns.\n",
    "\n",
    "#### Flexibility: By using named groups, you may change the order of the groups in the pattern without having an impact on the remainder of the regular expression.\n",
    "\n",
    "#### Maintainability: Using named groups makes it simpler to locate and adjust certain groups without having to renumber the other groups if the regular expression has to be changed.\n",
    "\n",
    "#### Clarity: Named groups help to make it more obvious what each group stands for, especially when it appears repeatedly in a pattern.\n",
    "\n",
    "#### Named groups can act as self-documenting code, making it simpler for other people to comprehend what the regular expression is attempting to achieve.\n",
    "\n",
    "#### Overall, the readability, maintainability, and clarity of a regular expression may be enhanced by the use of named groups, making it simpler to construct and comprehend complicated patterns."
   ]
  },
  {
   "cell_type": "markdown",
   "id": "a1fffef8",
   "metadata": {},
   "source": [
    "### Q8. Can you identify repeated items within a target string using named groups, as in \"The cow jumped over the moon\"?"
   ]
  },
  {
   "cell_type": "markdown",
   "id": "a8e349ef",
   "metadata": {},
   "source": [
    "#### Ans. Yes, you may use named groups in a regular expression to find repeated elements inside a target string.\n",
    "\n",
    "#### You may use the following regular expression with named groups to match and catch repeated words in the phrase \"The cow leaped over the moon,\" for instance:\n",
    "\n",
    "\n",
    "### \\b(?P<word>\\w+)\\b(?=.*\\b\\1\\b)\n"
   ]
  },
  {
   "cell_type": "markdown",
   "id": "61f28239",
   "metadata": {},
   "source": [
    "#### Ans. This regular expression matches any word character (w+) that is followed by another instance of the same word ((?=.*b1b) and is surrounded by word boundaries (b).\n",
    "\n",
    "#### The repeating word is captured by a named capture group called word, which is defined by the regular expression's (?Pw+) clause.\n",
    "\n",
    "#### The word \"the\" will match and be captured in the designated group word when this regular expression is applied to the phrase \"The cow leaped over the moon\" since it appears twice in the string.\n",
    "\n",
    "#### Please take note that repeated words earlier in the string will not be matched by this regular expression; only repeated words later in the string will be. You would need to alter the regular expression to include a look-behind assertion in order to match all repeated terms.\n"
   ]
  },
  {
   "cell_type": "markdown",
   "id": "ffedd015",
   "metadata": {},
   "source": [
    "### Q9. When parsing a string, what is at least one thing that the Scanner interface does for you that the re.findall feature does not?"
   ]
  },
  {
   "cell_type": "markdown",
   "id": "c678f491",
   "metadata": {},
   "source": [
    "#### Ans. A string or input stream can be parsed using a set of delimiters or patterns by utilising the Java Scanner interface. Compared to utilising Python's re.findall() method, it provides a number of benefits, such as:\n",
    "\n",
    "#### Delimiter-based parsing: In contrast to re.findall(), which asks you to provide a regular expression pattern to match against the full string, the Scanner interface enables you to parse a string based on a series of specified delimiters or patterns.\n",
    "\n",
    "#### Tokenization: re.findall() produces a list of all matches found in the string, but the Scanner interface may tokenize a string into individual tokens or values.\n",
    "\n",
    "\n",
    "#### Data type conversion: Although re.findall() produces a list of strings, the Scanner interface has methods for translating the parsed tokens into other data types, such as int or float.\n",
    "\n",
    "#### Flexibility: Unlike re.findall(), which is primarily intended for string matching, the Scanner interface allows you to quickly switch between other input sources such as strings, files, or input streams."
   ]
  },
  {
   "cell_type": "markdown",
   "id": "b4885789",
   "metadata": {},
   "source": [
    "### Q10. Does a scanner object have to be named scanner?"
   ]
  },
  {
   "cell_type": "markdown",
   "id": "52c90aa2",
   "metadata": {},
   "source": [
    "#### No, Python doesn't have an object called a scanner. Instead, you would normally employ regular expressions to parse texts using the re module.\n",
    "\n",
    "#### The name of the object you make with re.compile() or any associated functions also doesn't have to be called re. Any legal identifier is acceptable to use as the name of your regular expression object.\n",
    "\n",
    "#### For instance, you might give the regular expression object with the name email regex the purpose of matching email addresses:\n"
   ]
  },
  {
   "cell_type": "code",
   "execution_count": 1,
   "id": "9a13887a",
   "metadata": {},
   "outputs": [],
   "source": [
    "import re\n",
    "\n",
    "email_regex = re.compile(r'\\b[A-Za-z0-9._%+-]+@[A-Za-z0-9.-]+\\.[A-Z|a-z]{2,}\\b')\n"
   ]
  },
  {
   "cell_type": "code",
   "execution_count": 2,
   "id": "dfd28dfe",
   "metadata": {},
   "outputs": [
    {
     "data": {
      "text/plain": [
       "re.compile(r'\\b[A-Za-z0-9._%+-]+@[A-Za-z0-9.-]+\\.[A-Z|a-z]{2,}\\b', re.UNICODE)"
      ]
     },
     "execution_count": 2,
     "metadata": {},
     "output_type": "execute_result"
    }
   ],
   "source": [
    "email_regex "
   ]
  },
  {
   "cell_type": "code",
   "execution_count": null,
   "id": "520ab235",
   "metadata": {},
   "outputs": [],
   "source": []
  }
 ],
 "metadata": {
  "kernelspec": {
   "display_name": "Python 3 (ipykernel)",
   "language": "python",
   "name": "python3"
  },
  "language_info": {
   "codemirror_mode": {
    "name": "ipython",
    "version": 3
   },
   "file_extension": ".py",
   "mimetype": "text/x-python",
   "name": "python",
   "nbconvert_exporter": "python",
   "pygments_lexer": "ipython3",
   "version": "3.9.13"
  }
 },
 "nbformat": 4,
 "nbformat_minor": 5
}
